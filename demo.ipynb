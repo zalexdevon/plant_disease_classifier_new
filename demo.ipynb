{
 "cells": [
  {
   "cell_type": "code",
   "execution_count": null,
   "metadata": {},
   "outputs": [
    {
     "data": {
      "text/plain": [
       "3"
      ]
     },
     "execution_count": 7,
     "metadata": {},
     "output_type": "execute_result"
    }
   ],
   "source": [
    "import numpy as np\n",
    "\n",
    "len(np.unique(y))\n"
   ]
  },
  {
   "cell_type": "code",
   "execution_count": null,
   "metadata": {},
   "outputs": [],
   "source": [
    "train_ds.save(folder_path)  # Lưu ý là thư mục chứ ko phải tệp\n"
   ]
  },
  {
   "cell_type": "code",
   "execution_count": null,
   "metadata": {},
   "outputs": [
    {
     "data": {
      "text/plain": [
       "18060.127999999997"
      ]
     },
     "execution_count": 2,
     "metadata": {},
     "output_type": "execute_result"
    }
   ],
   "source": [
    "317960 * 5.68 / 100\n"
   ]
  },
  {
   "cell_type": "code",
   "execution_count": null,
   "metadata": {},
   "outputs": [
    {
     "data": {
      "text/plain": [
       "11291.75"
      ]
     },
     "execution_count": 7,
     "metadata": {},
     "output_type": "execute_result"
    }
   ],
   "source": [
    "1 / 4 * 45167\n"
   ]
  },
  {
   "cell_type": "code",
   "execution_count": null,
   "metadata": {},
   "outputs": [
    {
     "ename": "SyntaxError",
     "evalue": "invalid syntax (332394445.py, line 8)",
     "output_type": "error",
     "traceback": [
      "\u001b[1;36m  Cell \u001b[1;32mIn[1], line 8\u001b[1;36m\u001b[0m\n\u001b[1;33m    outputs =\u001b[0m\n\u001b[1;37m              ^\u001b[0m\n\u001b[1;31mSyntaxError\u001b[0m\u001b[1;31m:\u001b[0m invalid syntax\n"
     ]
    }
   ],
   "source": [
    "\n",
    "transformer_layers = keras.Sequential(\n",
    "    [   \n",
    "        layers.Resizing(IMAGE_SIZE, IMAGE_SIZE),\n",
    "        layers.RandomFlip(\"horizontal_and_vertical\"),\n",
    "        layers.RandomRotation(0.2),\n",
    "        layers.Rescaling(1.0 / 255),\n",
    "    ]\n",
    ")\n",
    "\n",
    "# Thực hiện data transformation \n",
    "train_ds_transformed = train_ds.map(lambda x, y: (transformer_layers(x), y))\n",
    "val_ds_transformed = val_ds.map(lambda x, y: (transformer_layers(x), y))\n",
    "\n",
    "\n",
    "# Tạo model \n",
    "# Input \n",
    "inputs = keras.Input(shape=(IMAGE_SIZE, IMAGE_SIZE, 3)) \n",
    "\n",
    "# Các lớp Conv2D và MaxPooling2D\n",
    "x = layers.Conv2D(32, 3, activation=\"relu\")(inputs)\n",
    "x = layers.MaxPooling2D(2)(x)\n",
    "x = layers.Conv2D(64, 3, activation=\"relu\")(x)\n",
    "x = layers.MaxPooling2D(2)(x)\n",
    "x = layers.Conv2D(64, 3, activation=\"relu\")(x)\n",
    "x = layers.MaxPooling2D(2)(x)\n",
    "x = layers.Conv2D(64, 3, activation=\"relu\")(x)\n",
    "x = layers.MaxPooling2D(2)(x)\n",
    "x = layers.Conv2D(64, 3, activation=\"relu\")(x)\n",
    "x = layers.MaxPooling2D(2)(x)\n",
    "x = layers.Conv2D(64, 3, activation=\"relu\")(x)\n",
    "x = layers.MaxPooling2D(2)(x)\n",
    "\n",
    "# Flatten và Dense layers\n",
    "x = layers.Flatten()(x)\n",
    "x = layers.Dense(64, activation=\"relu\")(x)\n",
    "outputs = layers.Dense(n_classes, activation=\"softmax\")(x)\n",
    "\n",
    "# Tạo mô hình bằng cách nối input và output\n",
    "model = keras.Model(inputs=inputs, outputs=outputs)\n",
    "\n",
    "model.compile(\n",
    "    optimizer= keras.optimizers.RMSprop(),\n",
    "    loss= \"sparse_categorical_crossentropy\",\n",
    "    metrics= ['accuracy']\n",
    ")\n",
    "\n",
    "# Thực hiện model training \n",
    "history = model.fit(\n",
    "    train_ds_transformed,\n",
    "    epochs = 180,\n",
    "    batch_size = BATCH_SIZE,\n",
    "    verbose = 0,\n",
    "    validation_data = val_ds_transformed,\n",
    "     callbacks=[TqdmCallback(verbose=1)]\n",
    ")"
   ]
  },
  {
   "cell_type": "code",
   "execution_count": null,
   "metadata": {},
   "outputs": [
    {
     "data": {
      "text/html": [
       "<style>#sk-container-id-1 {color: black;}#sk-container-id-1 pre{padding: 0;}#sk-container-id-1 div.sk-toggleable {background-color: white;}#sk-container-id-1 label.sk-toggleable__label {cursor: pointer;display: block;width: 100%;margin-bottom: 0;padding: 0.3em;box-sizing: border-box;text-align: center;}#sk-container-id-1 label.sk-toggleable__label-arrow:before {content: \"▸\";float: left;margin-right: 0.25em;color: #696969;}#sk-container-id-1 label.sk-toggleable__label-arrow:hover:before {color: black;}#sk-container-id-1 div.sk-estimator:hover label.sk-toggleable__label-arrow:before {color: black;}#sk-container-id-1 div.sk-toggleable__content {max-height: 0;max-width: 0;overflow: hidden;text-align: left;background-color: #f0f8ff;}#sk-container-id-1 div.sk-toggleable__content pre {margin: 0.2em;color: black;border-radius: 0.25em;background-color: #f0f8ff;}#sk-container-id-1 input.sk-toggleable__control:checked~div.sk-toggleable__content {max-height: 200px;max-width: 100%;overflow: auto;}#sk-container-id-1 input.sk-toggleable__control:checked~label.sk-toggleable__label-arrow:before {content: \"▾\";}#sk-container-id-1 div.sk-estimator input.sk-toggleable__control:checked~label.sk-toggleable__label {background-color: #d4ebff;}#sk-container-id-1 div.sk-label input.sk-toggleable__control:checked~label.sk-toggleable__label {background-color: #d4ebff;}#sk-container-id-1 input.sk-hidden--visually {border: 0;clip: rect(1px 1px 1px 1px);clip: rect(1px, 1px, 1px, 1px);height: 1px;margin: -1px;overflow: hidden;padding: 0;position: absolute;width: 1px;}#sk-container-id-1 div.sk-estimator {font-family: monospace;background-color: #f0f8ff;border: 1px dotted black;border-radius: 0.25em;box-sizing: border-box;margin-bottom: 0.5em;}#sk-container-id-1 div.sk-estimator:hover {background-color: #d4ebff;}#sk-container-id-1 div.sk-parallel-item::after {content: \"\";width: 100%;border-bottom: 1px solid gray;flex-grow: 1;}#sk-container-id-1 div.sk-label:hover label.sk-toggleable__label {background-color: #d4ebff;}#sk-container-id-1 div.sk-serial::before {content: \"\";position: absolute;border-left: 1px solid gray;box-sizing: border-box;top: 0;bottom: 0;left: 50%;z-index: 0;}#sk-container-id-1 div.sk-serial {display: flex;flex-direction: column;align-items: center;background-color: white;padding-right: 0.2em;padding-left: 0.2em;position: relative;}#sk-container-id-1 div.sk-item {position: relative;z-index: 1;}#sk-container-id-1 div.sk-parallel {display: flex;align-items: stretch;justify-content: center;background-color: white;position: relative;}#sk-container-id-1 div.sk-item::before, #sk-container-id-1 div.sk-parallel-item::before {content: \"\";position: absolute;border-left: 1px solid gray;box-sizing: border-box;top: 0;bottom: 0;left: 50%;z-index: -1;}#sk-container-id-1 div.sk-parallel-item {display: flex;flex-direction: column;z-index: 1;position: relative;background-color: white;}#sk-container-id-1 div.sk-parallel-item:first-child::after {align-self: flex-end;width: 50%;}#sk-container-id-1 div.sk-parallel-item:last-child::after {align-self: flex-start;width: 50%;}#sk-container-id-1 div.sk-parallel-item:only-child::after {width: 0;}#sk-container-id-1 div.sk-dashed-wrapped {border: 1px dashed gray;margin: 0 0.4em 0.5em 0.4em;box-sizing: border-box;padding-bottom: 0.4em;background-color: white;}#sk-container-id-1 div.sk-label label {font-family: monospace;font-weight: bold;display: inline-block;line-height: 1.2em;}#sk-container-id-1 div.sk-label-container {text-align: center;}#sk-container-id-1 div.sk-container {/* jupyter's `normalize.less` sets `[hidden] { display: none; }` but bootstrap.min.css set `[hidden] { display: none !important; }` so we also need the `!important` here to be able to override the default hidden behavior on the sphinx rendered scikit-learn.org. See: https://github.com/scikit-learn/scikit-learn/issues/21755 */display: inline-block !important;position: relative;}#sk-container-id-1 div.sk-text-repr-fallback {display: none;}</style><div id=\"sk-container-id-1\" class=\"sk-top-container\"><div class=\"sk-text-repr-fallback\"><pre>LogisticRegression(C=[1])</pre><b>In a Jupyter environment, please rerun this cell to show the HTML representation or trust the notebook. <br />On GitHub, the HTML representation is unable to render, please try loading this page with nbviewer.org.</b></div><div class=\"sk-container\" hidden><div class=\"sk-item\"><div class=\"sk-estimator sk-toggleable\"><input class=\"sk-toggleable__control sk-hidden--visually\" id=\"sk-estimator-id-1\" type=\"checkbox\" checked><label for=\"sk-estimator-id-1\" class=\"sk-toggleable__label sk-toggleable__label-arrow\">LogisticRegression</label><div class=\"sk-toggleable__content\"><pre>LogisticRegression(C=[1])</pre></div></div></div></div></div>"
      ],
      "text/plain": [
       "LogisticRegression(C=[1])"
      ]
     },
     "execution_count": 8,
     "metadata": {},
     "output_type": "execute_result"
    }
   ],
   "source": [
    "from sklearn.linear_model import LogisticRegression\n",
    "\n",
    "param_grid = {\"C\": [1]}\n",
    "\n",
    "log = LogisticRegression()\n",
    "log.set_params(**param_grid)\n"
   ]
  },
  {
   "cell_type": "code",
   "execution_count": null,
   "metadata": {},
   "outputs": [],
   "source": [
    "EarlyStopping(\n",
    "    monitor=\"val_loss\", # Tham số theo dõi \n",
    "    min_delta=0.01, # Giá trị min cho sự cải thiện \n",
    "    patience=5, # Số epoch được tiếp tục khi không có sự cải thiện của min_delta\n",
    ")"
   ]
  },
  {
   "cell_type": "code",
   "execution_count": 1,
   "metadata": {},
   "outputs": [
    {
     "name": "stdout",
     "output_type": "stream",
     "text": [
      "<keras.callbacks.EarlyStopping object at 0x00000156FD9F9DF0>\n"
     ]
    }
   ],
   "source": [
    "from tensorflow.keras.callbacks import EarlyStopping\n",
    "\n",
    "# Tên lớp dưới dạng chuỗi\n",
    "class_name = \"EarlyStopping\"\n",
    "\n",
    "# Tạo đối tượng EarlyStopping từ chuỗi class_name\n",
    "callback_class = globals()[class_name]\n",
    "\n",
    "# Khởi tạo đối tượng EarlyStopping\n",
    "early_stopping = callback_class(monitor='val_loss', patience=5)\n",
    "\n",
    "# In đối tượng để kiểm tra\n",
    "print(early_stopping)\n"
   ]
  },
  {
   "cell_type": "code",
   "execution_count": 2,
   "metadata": {},
   "outputs": [
    {
     "name": "stdout",
     "output_type": "stream",
     "text": [
      "LogisticRegression(C=0.5, max_iter=1000, penalty='l1', solver='saga')\n"
     ]
    }
   ],
   "source": [
    "from src.classifier.Mylib import myfuncs\n",
    "\n",
    "text = \"LogisticRegression-C=0.5-penalty=l1-solver=saga-max_iter=1000\"\n",
    "model = myfuncs.get_object_from_string_4(text)\n",
    "print(model)"
   ]
  },
  {
   "cell_type": "code",
   "execution_count": 14,
   "metadata": {},
   "outputs": [
    {
     "name": "stdout",
     "output_type": "stream",
     "text": [
      "LogisticRegression(C=144, dual=True, max_iter=10000, penalty='l1',\n",
      "                   solver='saga')\n"
     ]
    }
   ],
   "source": [
    "\n",
    "import tensorflow as tf\n",
    "import sklearn\n",
    "\n",
    "# Chuỗi đầu vào\n",
    "layer_str = 'LogisticRegression(C=144,penalty=\"l1\",solver=\"saga\",max_iter=10000,dual=True)'\n",
    "\n",
    "# Tách tên lớp và tham số\n",
    "layer_name, params = layer_str.split(\"(\", 1)\n",
    "params = params.rstrip(\")\")\n",
    "\n",
    "# Lấy lớp từ tf.keras.layers\n",
    "layer_class = getattr(sklearn.linear_model, layer_name)\n",
    "\n",
    "# Tạo đối tượng bằng eval (không khuyến khích nếu có dữ liệu không đáng tin cậy)\n",
    "layer = eval(f\"layer_class({params})\")\n",
    "\n",
    "# Kiểm tra kết quả\n",
    "print(layer)\n"
   ]
  },
  {
   "cell_type": "code",
   "execution_count": 7,
   "metadata": {},
   "outputs": [
    {
     "name": "stdout",
     "output_type": "stream",
     "text": [
      "LogisticRegression(C=144, dual=True, max_iter=10000, penalty='l1',\n",
      "                   solver='saga')\n"
     ]
    }
   ],
   "source": [
    "import sklearn\n",
    "import sklearn.linear_model \n",
    "from src.classifier.Mylib import myfuncs\n",
    "\n",
    "layer_str = 'LogisticRegression(C=144, penalty=\"l1\", solver=\"saga\"    ,max_iter=10000,dual=True)'\n",
    "\n",
    "obj = myfuncs.get_object_from_string_using_eval_6(layer_str, sklearn.linear_model)\n",
    "\n",
    "print(obj)"
   ]
  },
  {
   "cell_type": "code",
   "execution_count": null,
   "metadata": {},
   "outputs": [],
   "source": []
  },
  {
   "cell_type": "code",
   "execution_count": 3,
   "metadata": {},
   "outputs": [
    {
     "name": "stdout",
     "output_type": "stream",
     "text": [
      "LogisticRegression(C=144)\n"
     ]
    }
   ],
   "source": [
    "from sklearn.linear_model import LogisticRegression\n",
    "from src.classifier.Mylib import myfuncs\n",
    "\n",
    "text = 'LogisticRegression(C=144)'\n",
    "\n",
    "obj = myfuncs.get_object_from_string_4(text)\n",
    "\n",
    "print(obj)"
   ]
  },
  {
   "cell_type": "code",
   "execution_count": 13,
   "metadata": {},
   "outputs": [
    {
     "data": {
      "text/plain": [
       "{'C': 144,\n",
       " 'class_weight': None,\n",
       " 'dual': True,\n",
       " 'fit_intercept': True,\n",
       " 'intercept_scaling': 1,\n",
       " 'l1_ratio': None,\n",
       " 'max_iter': 10000,\n",
       " 'multi_class': 'auto',\n",
       " 'n_jobs': None,\n",
       " 'penalty': 'l1',\n",
       " 'random_state': None,\n",
       " 'solver': 'saga',\n",
       " 'tol': 0.0001,\n",
       " 'verbose': 0,\n",
       " 'warm_start': False}"
      ]
     },
     "execution_count": 13,
     "metadata": {},
     "output_type": "execute_result"
    }
   ],
   "source": [
    "layer.get_params()"
   ]
  },
  {
   "cell_type": "code",
   "execution_count": null,
   "metadata": {},
   "outputs": [
    {
     "data": {
      "application/vnd.microsoft.datawrangler.viewer.v0+json": {
       "columns": [
        {
         "name": "index",
         "rawType": "int64",
         "type": "integer"
        },
        {
         "name": "A",
         "rawType": "int64",
         "type": "integer"
        },
        {
         "name": "B",
         "rawType": "int64",
         "type": "integer"
        },
        {
         "name": "C",
         "rawType": "int64",
         "type": "integer"
        }
       ],
       "conversionMethod": "pd.DataFrame",
       "ref": "b13ad7ec-55d1-4375-884d-65b33a3a4792",
       "rows": [
        [
         "0",
         "9",
         "5",
         "90"
        ],
        [
         "1",
         "18",
         "14",
         "180"
        ],
        [
         "2",
         "27",
         "23",
         "270"
        ],
        [
         "3",
         "36",
         "32",
         "360"
        ]
       ],
       "shape": {
        "columns": 3,
        "rows": 4
       }
      },
      "text/html": [
       "<div>\n",
       "<style scoped>\n",
       "    .dataframe tbody tr th:only-of-type {\n",
       "        vertical-align: middle;\n",
       "    }\n",
       "\n",
       "    .dataframe tbody tr th {\n",
       "        vertical-align: top;\n",
       "    }\n",
       "\n",
       "    .dataframe thead th {\n",
       "        text-align: right;\n",
       "    }\n",
       "</style>\n",
       "<table border=\"1\" class=\"dataframe\">\n",
       "  <thead>\n",
       "    <tr style=\"text-align: right;\">\n",
       "      <th></th>\n",
       "      <th>A</th>\n",
       "      <th>B</th>\n",
       "      <th>C</th>\n",
       "    </tr>\n",
       "  </thead>\n",
       "  <tbody>\n",
       "    <tr>\n",
       "      <th>0</th>\n",
       "      <td>9</td>\n",
       "      <td>5</td>\n",
       "      <td>90</td>\n",
       "    </tr>\n",
       "    <tr>\n",
       "      <th>1</th>\n",
       "      <td>18</td>\n",
       "      <td>14</td>\n",
       "      <td>180</td>\n",
       "    </tr>\n",
       "    <tr>\n",
       "      <th>2</th>\n",
       "      <td>27</td>\n",
       "      <td>23</td>\n",
       "      <td>270</td>\n",
       "    </tr>\n",
       "    <tr>\n",
       "      <th>3</th>\n",
       "      <td>36</td>\n",
       "      <td>32</td>\n",
       "      <td>360</td>\n",
       "    </tr>\n",
       "  </tbody>\n",
       "</table>\n",
       "</div>"
      ],
      "text/plain": [
       "    A   B    C\n",
       "0   9   5   90\n",
       "1  18  14  180\n",
       "2  27  23  270\n",
       "3  36  32  360"
      ]
     },
     "execution_count": 6,
     "metadata": {},
     "output_type": "execute_result"
    }
   ],
   "source": [
    "import pandas as pd\n",
    "\n",
    "# Tạo DataFrame A\n",
    "data_A = {\"A\": [10, 20, 30, 40], \"B\": [5, 15, 25, 35], \"C\": [100, 200, 300, 400]}\n",
    "df_A = pd.DataFrame(data_A)\n",
    "\n",
    "# Tạo DataFrame B\n",
    "data_B = {\"A\": [1, 2, 3, 4], \"B\": [0, 1, 2, 3], \"C\": [10, 20, 30, 40]}\n",
    "df_B = pd.DataFrame(data_B)\n",
    "\n",
    "# Trừ df_B khỏi df_A\n",
    "df_C = df_A - df_B\n",
    "\n",
    "df_C\n"
   ]
  },
  {
   "cell_type": "code",
   "execution_count": 3,
   "metadata": {},
   "outputs": [
    {
     "name": "stdout",
     "output_type": "stream",
     "text": [
      "2.10.0\n"
     ]
    }
   ],
   "source": [
    "import tensorflow as tf\n",
    "\n",
    "print(tf.__version__)"
   ]
  },
  {
   "cell_type": "code",
   "execution_count": 5,
   "metadata": {},
   "outputs": [
    {
     "data": {
      "text/plain": [
       "0.00392156862745098"
      ]
     },
     "execution_count": 5,
     "metadata": {},
     "output_type": "execute_result"
    }
   ],
   "source": [
    "\n",
    "1/255"
   ]
  },
  {
   "cell_type": "code",
   "execution_count": 4,
   "metadata": {},
   "outputs": [
    {
     "name": "stdout",
     "output_type": "stream",
     "text": [
      "<class 'str'>\n"
     ]
    }
   ],
   "source": [
    "import ast \n",
    "\n",
    "\n",
    "text = \"'val_accuracy'\"\n",
    "\n",
    "a = ast.literal_eval(text)\n",
    "\n",
    "print(type(a))"
   ]
  },
  {
   "cell_type": "code",
   "execution_count": 1,
   "metadata": {},
   "outputs": [
    {
     "data": {
      "image/png": "[encoded data removed]",
      "text/plain": [
       "<Figure size 640x480 with 1 Axes>"
      ]
     },
     "metadata": {},
     "output_type": "display_data"
    }
   ],
   "source": [
    "import matplotlib.pyplot as plt\n",
    "import matplotlib.patches as patches\n",
    "\n",
    "# Chuỗi cần vẽ\n",
    "text = \"RandomFlip(mode='horizontal_and_vertical')\"\n",
    "text1 = \"RandomRotation(factor=0.2)\"\n",
    "\n",
    "# Tạo hình chữ nhật bao quanh chuỗi\n",
    "fig, ax = plt.subplots()\n",
    "\n",
    "# Vẽ hình chữ nhật\n",
    "rect = patches.FancyBboxPatch((0.1, 0.4), 0.8, 0.2, boxstyle=\"round,pad=0.1\", linewidth=1, edgecolor=\"black\", facecolor=\"lightblue\")\n",
    "ax.add_patch(rect)\n",
    "\n",
    "# Thêm chuỗi vào hình\n",
    "ax.text(0.5, 0.5, text, ha=\"center\", va=\"center\", fontsize=12, fontweight=\"bold\")\n",
    "\n",
    "# Cấu hình plot\n",
    "ax.set_xlim(0, 1)\n",
    "ax.set_ylim(0, 1)\n",
    "ax.set_axis_off()\n",
    "\n",
    "# Lưu hình ảnh vào file\n",
    "plt.savefig(\"RandomFlip_image.png\", format=\"png\", bbox_inches=\"tight\", pad_inches=0.1)\n",
    "\n",
    "# Hiển thị ảnh\n",
    "plt.show()\n"
   ]
  },
  {
   "cell_type": "code",
   "execution_count": 2,
   "metadata": {},
   "outputs": [
    {
     "data": {
      "image/png": "[encoded data removed]",
      "text/plain": [
       "<Figure size 640x480 with 1 Axes>"
      ]
     },
     "metadata": {},
     "output_type": "display_data"
    }
   ],
   "source": [
    "import matplotlib.pyplot as plt\n",
    "import matplotlib.patches as patches\n",
    "\n",
    "# Chuỗi cần vẽ\n",
    "text = \"RandomFlip(mode='horizontal_and_vertical')\"\n",
    "text1 = \"RandomRotation(factor=0.2)\"\n",
    "\n",
    "# Tạo hình chữ nhật bao quanh chuỗi\n",
    "fig, ax = plt.subplots()\n",
    "\n",
    "# Vẽ hình chữ nhật bao quanh text\n",
    "rect1 = patches.FancyBboxPatch((0.1, 0.6), 0.8, 0.2, boxstyle=\"round,pad=0.1\", linewidth=1, edgecolor=\"black\", facecolor=\"lightblue\")\n",
    "ax.add_patch(rect1)\n",
    "\n",
    "# Vẽ hình chữ nhật bao quanh text1\n",
    "rect2 = patches.FancyBboxPatch((0.1, 0.2), 0.8, 0.2, boxstyle=\"round,pad=0.1\", linewidth=1, edgecolor=\"black\", facecolor=\"lightgreen\")\n",
    "ax.add_patch(rect2)\n",
    "\n",
    "# Thêm chuỗi vào hình\n",
    "ax.text(0.5, 0.7, text, ha=\"center\", va=\"center\", fontsize=12, fontweight=\"bold\")\n",
    "ax.text(0.5, 0.3, text1, ha=\"center\", va=\"center\", fontsize=12, fontweight=\"bold\")\n",
    "\n",
    "# Vẽ dấu mũi tên từ rect1 đến rect2\n",
    "ax.annotate('', xy=(0.5, 0.4), xytext=(0.5, 0.8),\n",
    "            arrowprops=dict(facecolor='black', shrink=0.05))\n",
    "\n",
    "# Cấu hình plot\n",
    "ax.set_xlim(0, 1)\n",
    "ax.set_ylim(0, 1)\n",
    "ax.set_axis_off()\n",
    "\n",
    "# Lưu hình ảnh vào file\n",
    "file_path = \"RandomFlip_with_arrow.png\"\n",
    "plt.savefig(file_path, format=\"png\", bbox_inches=\"tight\", pad_inches=0.1)\n",
    "\n",
    "# Hiển thị ảnh\n",
    "plt.show()\n"
   ]
  },
  {
   "cell_type": "code",
   "execution_count": 3,
   "metadata": {},
   "outputs": [
    {
     "data": {
      "image/png": "[encoded data removed]",
      "text/plain": [
       "<Figure size 640x480 with 1 Axes>"
      ]
     },
     "metadata": {},
     "output_type": "display_data"
    }
   ],
   "source": [
    "import matplotlib.pyplot as plt\n",
    "import matplotlib.patches as patches\n",
    "\n",
    "# Chuỗi cần vẽ\n",
    "text = \"RandomFlip(mode='horizontal_and_vertical')\"\n",
    "text1 = \"RandomRotation(factor=0.2)\"\n",
    "\n",
    "# Tạo hình chữ nhật bao quanh chuỗi\n",
    "fig, ax = plt.subplots()\n",
    "\n",
    "# Vẽ hình chữ nhật bao quanh text\n",
    "rect1 = patches.FancyBboxPatch((0.1, 0.6), 0.6, 0.15, boxstyle=\"round,pad=0.1\", linewidth=1, edgecolor=\"black\", facecolor=\"lightblue\")\n",
    "ax.add_patch(rect1)\n",
    "\n",
    "# Vẽ hình chữ nhật bao quanh text1\n",
    "rect2 = patches.FancyBboxPatch((0.1, 0.2), 0.6, 0.15, boxstyle=\"round,pad=0.1\", linewidth=1, edgecolor=\"black\", facecolor=\"lightgreen\")\n",
    "ax.add_patch(rect2)\n",
    "\n",
    "# Thêm chuỗi vào hình, thu nhỏ kích thước chữ\n",
    "ax.text(0.4, 0.675, text, ha=\"center\", va=\"center\", fontsize=10, fontweight=\"bold\")\n",
    "ax.text(0.4, 0.275, text1, ha=\"center\", va=\"center\", fontsize=10, fontweight=\"bold\")\n",
    "\n",
    "# Vẽ dấu mũi tên từ lề dưới của rect1 đến lề trên của rect2\n",
    "ax.annotate('', xy=(0.4, 0.35), xytext=(0.4, 0.725),\n",
    "            arrowprops=dict(facecolor='black', shrink=0.05))\n",
    "\n",
    "# Cấu hình plot\n",
    "ax.set_xlim(0, 1)\n",
    "ax.set_ylim(0, 1)\n",
    "ax.set_axis_off()\n",
    "\n",
    "# Lưu hình ảnh vào file\n",
    "file_path = \"RandomFlip_with_arrow_updated.png\"\n",
    "plt.savefig(file_path, format=\"png\", bbox_inches=\"tight\", pad_inches=0.1)\n",
    "\n",
    "# Hiển thị ảnh\n",
    "plt.show()\n"
   ]
  },
  {
   "cell_type": "code",
   "execution_count": 14,
   "metadata": {},
   "outputs": [
    {
     "data": {
      "text/plain": [
       "'RandomFlip_with_arrow_final.png'"
      ]
     },
     "execution_count": 14,
     "metadata": {},
     "output_type": "execute_result"
    },
    {
     "data": {
      "image/png": "[encoded data removed]",
      "text/plain": [
       "<Figure size 640x480 with 1 Axes>"
      ]
     },
     "metadata": {},
     "output_type": "display_data"
    }
   ],
   "source": [
    "import matplotlib.pyplot as plt\n",
    "import matplotlib.patches as patches\n",
    "\n",
    "# Chuỗi cần vẽ\n",
    "text = \"RandomFlip(mode='horizontal_and_vertical')\"\n",
    "text1 = \"RandomRotation(factor=0.2)\"\n",
    "\n",
    "# Tạo hình chữ nhật bao quanh chuỗi\n",
    "fig, ax = plt.subplots()\n",
    "\n",
    "# Vẽ hình chữ nhật bao quanh text (Thu nhỏ kích thước hình chữ nhật)\n",
    "rect1 = patches.FancyBboxPatch((0.2, 0.6), 0.4, 0.01, boxstyle=\"round,pad=0.1\", linewidth=1, edgecolor=\"black\", facecolor=\"lightblue\")\n",
    "ax.add_patch(rect1)\n",
    "\n",
    "# Vẽ hình chữ nhật bao quanh text1 (Thu nhỏ kích thước hình chữ nhật)\n",
    "rect2 = patches.FancyBboxPatch((0.2, 0.2), 0.6, 0.1, boxstyle=\"round,pad=0.1\", linewidth=1, edgecolor=\"black\", facecolor=\"lightgreen\")\n",
    "ax.add_patch(rect2)\n",
    "\n",
    "# Thêm chuỗi vào hình, thu nhỏ kích thước chữ\n",
    "ax.text(0.5, 0.65, text, ha=\"center\", va=\"center\", fontsize=10)\n",
    "ax.text(0.5, 0.25, text1, ha=\"center\", va=\"center\", fontsize=10)\n",
    "\n",
    "# Vẽ dấu mũi tên từ mép dưới của rect1 đến mép trên của rect2\n",
    "ax.annotate('', xy=(0.5, 0.3), xytext=(0.5, 0.7),\n",
    "            arrowprops=dict(facecolor='black', shrink=0.05))\n",
    "\n",
    "# Cấu hình plot\n",
    "ax.set_xlim(0, 1)\n",
    "ax.set_ylim(0, 1)\n",
    "ax.set_axis_off()\n",
    "\n",
    "# Lưu hình ảnh vào file\n",
    "file_path = \"RandomFlip_with_arrow_final.png\"\n",
    "plt.savefig(file_path, format=\"png\", bbox_inches=\"tight\", pad_inches=0.1)\n",
    "\n",
    "# Hiển thị file path\n",
    "file_path\n"
   ]
  },
  {
   "cell_type": "code",
   "execution_count": 17,
   "metadata": {},
   "outputs": [
    {
     "data": {
      "text/plain": [
       "'RandomFlip_with_arrow_updated.png'"
      ]
     },
     "execution_count": 17,
     "metadata": {},
     "output_type": "execute_result"
    },
    {
     "data": {
      "image/png": "[encoded data removed]",
      "text/plain": [
       "<Figure size 640x480 with 1 Axes>"
      ]
     },
     "metadata": {},
     "output_type": "display_data"
    }
   ],
   "source": [
    "import matplotlib.pyplot as plt\n",
    "\n",
    "# Chuỗi cần vẽ\n",
    "text = \"RandomFlip(mode='horizontal_and_vertical')\"\n",
    "text1 = \"RandomRotation(factor=0.2)\"\n",
    "\n",
    "# Tạo figure và axes\n",
    "fig, ax = plt.subplots()\n",
    "\n",
    "# Vẽ hình chữ nhật kèm chữ và căn giữa\n",
    "ax.text(0.5, 0.65, text, ha=\"center\", va=\"center\", fontsize=10, \n",
    "        bbox=dict(facecolor=\"lightblue\", edgecolor=\"black\", boxstyle=\"round,pad=0.3\"))\n",
    "\n",
    "ax.text(0.5, 0.25, text1, ha=\"center\", va=\"center\", fontsize=10, \n",
    "        bbox=dict(facecolor=\"lightgreen\", edgecolor=\"black\", boxstyle=\"round,pad=0.3\"))\n",
    "\n",
    "# Vẽ dấu mũi tên từ mép dưới của text1 đến mép trên của text2\n",
    "ax.annotate('', xy=(0.5, 0.15), xytext=(0.5, 0.7),\n",
    "            arrowprops=dict(facecolor='black', shrink=0.05))\n",
    "\n",
    "# Cấu hình plot\n",
    "ax.set_xlim(0, 1)\n",
    "ax.set_ylim(0, 1)\n",
    "ax.set_axis_off()\n",
    "\n",
    "# Lưu hình ảnh vào file\n",
    "file_path = \"RandomFlip_with_arrow_updated.png\"\n",
    "plt.savefig(file_path, format=\"png\", bbox_inches=\"tight\", pad_inches=0.1)\n",
    "\n",
    "# Hiển thị file path\n",
    "file_path\n"
   ]
  },
  {
   "cell_type": "code",
   "execution_count": 18,
   "metadata": {},
   "outputs": [
    {
     "data": {
      "text/plain": [
       "'RandomFlip_with_arrow_final.png'"
      ]
     },
     "execution_count": 18,
     "metadata": {},
     "output_type": "execute_result"
    },
    {
     "data": {
      "image/png": "[encoded data removed]",
      "text/plain": [
       "<Figure size 640x480 with 1 Axes>"
      ]
     },
     "metadata": {},
     "output_type": "display_data"
    }
   ],
   "source": [
    "import matplotlib.pyplot as plt\n",
    "\n",
    "# Chuỗi cần vẽ\n",
    "text = \"RandomFlip(mode='horizontal_and_vertical')\"\n",
    "text1 = \"RandomRotation(factor=0.2)\"\n",
    "\n",
    "# Tạo figure và axes\n",
    "fig, ax = plt.subplots()\n",
    "\n",
    "# Vẽ hình chữ nhật kèm chữ và căn giữa\n",
    "ax.text(0.5, 0.75, text, ha=\"center\", va=\"center\", fontsize=10, \n",
    "        bbox=dict(facecolor=\"lightblue\", edgecolor=\"black\", boxstyle=\"round,pad=0.3\"))\n",
    "\n",
    "ax.text(0.5, 0.25, text1, ha=\"center\", va=\"center\", fontsize=10, \n",
    "        bbox=dict(facecolor=\"lightgreen\", edgecolor=\"black\", boxstyle=\"round,pad=0.3\"))\n",
    "\n",
    "# Vẽ dấu mũi tên từ mép dưới của text1 đến mép trên của text2\n",
    "ax.annotate('', xy=(0.5, 0.35), xytext=(0.5, 0.65),\n",
    "            arrowprops=dict(facecolor='black', shrink=0.05))\n",
    "\n",
    "# Cấu hình plot\n",
    "ax.set_xlim(0, 1)\n",
    "ax.set_ylim(0, 1)\n",
    "ax.set_axis_off()\n",
    "\n",
    "# Lưu hình ảnh vào file\n",
    "file_path = \"RandomFlip_with_arrow_final.png\"\n",
    "plt.savefig(file_path, format=\"png\", bbox_inches=\"tight\", pad_inches=0.1)\n",
    "\n",
    "# Hiển thị file path\n",
    "file_path\n"
   ]
  },
  {
   "cell_type": "code",
   "execution_count": null,
   "metadata": {},
   "outputs": [
    {
     "data": {
      "image/png": "[encoded data removed]",
      "text/plain": [
       "<Figure size 640x480 with 1 Axes>"
      ]
     },
     "metadata": {},
     "output_type": "display_data"
    }
   ],
   "source": [
    "import matplotlib.pyplot as plt\n",
    "\n",
    "\n",
    "def draw_arrow_between_texts(ax, text1_pos, text2_pos):\n",
    "    \"\"\"\n",
    "    Vẽ mũi tên giữa hai vị trí text.\n",
    "    \"\"\"\n",
    "    ax.annotate('', xy=text2_pos, xytext=text1_pos,\n",
    "                arrowprops=dict(facecolor='black', shrink=0.1, linewidth=0.5))\n",
    "\n",
    "# Các layers\n",
    "text = \"RandomFlip(mode='horizontal_and_vertical')\"\n",
    "text1 = \"RandomRotation(factor=0.2)\"\n",
    "text2 = \"RandomRotation(factor=0.8)\"\n",
    "\n",
    "\n",
    "# Vị trí của các layers\n",
    "text_pos1 = (0.5, 0.75)\n",
    "text_pos2 = (0.2, 0.55)\n",
    "text_pos3 = (0.7, 0.55)\n",
    "\n",
    "\n",
    "fig, ax = plt.subplots()\n",
    "\n",
    "ax.text(*text_pos1, text, ha=\"center\", va=\"center\", fontsize=10, \n",
    "        bbox=dict(facecolor=\"lightblue\", edgecolor=\"black\", boxstyle=\"round,pad=0.3\"))\n",
    "\n",
    "ax.text(*text_pos2, text1, ha=\"center\", va=\"center\", fontsize=10, \n",
    "        bbox=dict(facecolor=\"lightblue\", edgecolor=\"black\", boxstyle=\"round,pad=0.3\"))\n",
    "ax.text(*text_pos3, text1, ha=\"center\", va=\"center\", fontsize=10, \n",
    "        bbox=dict(facecolor=\"lightblue\", edgecolor=\"black\", boxstyle=\"round,pad=0.3\"))\n",
    "\n",
    "draw_arrow_between_texts(ax, text_pos1, text_pos2)\n",
    "draw_arrow_between_texts(ax, text_pos1, text_pos3)\n",
    "\n",
    "ax.set_xlim(0, 1)\n",
    "ax.set_ylim(0, 1)\n",
    "ax.set_axis_off()\n",
    "\n",
    "file_path = \"RandomFlip_with_arrow_final_v2.png\"\n",
    "plt.savefig(file_path, format=\"png\", bbox_inches=\"tight\", pad_inches=0.1) # Lưu ảnh vào file\n"
   ]
  },
  {
   "cell_type": "code",
   "execution_count": 22,
   "metadata": {},
   "outputs": [
    {
     "ename": "ValueError",
     "evalue": "'RandomFlip(mode=horizontal_and_vertical)/' is not a valid root scope name. A root scope name has to match the following pattern: ^[A-Za-z0-9.][A-Za-z0-9_.\\\\/>-]*$",
     "output_type": "error",
     "traceback": [
      "\u001b[1;31m---------------------------------------------------------------------------\u001b[0m",
      "\u001b[1;31mValueError\u001b[0m                                Traceback (most recent call last)",
      "Cell \u001b[1;32mIn[22], line 9\u001b[0m\n\u001b[0;32m      6\u001b[0m model \u001b[38;5;241m=\u001b[39m models\u001b[38;5;241m.\u001b[39mSequential()\n\u001b[0;32m      8\u001b[0m \u001b[38;5;66;03m# Thêm layer với tham số đi kèm trong tên layer\u001b[39;00m\n\u001b[1;32m----> 9\u001b[0m \u001b[43mmodel\u001b[49m\u001b[38;5;241;43m.\u001b[39;49m\u001b[43madd\u001b[49m\u001b[43m(\u001b[49m\u001b[43mlayers\u001b[49m\u001b[38;5;241;43m.\u001b[39;49m\u001b[43mRandomFlip\u001b[49m\u001b[43m(\u001b[49m\u001b[43mmode\u001b[49m\u001b[38;5;241;43m=\u001b[39;49m\u001b[38;5;124;43m'\u001b[39;49m\u001b[38;5;124;43mhorizontal_and_vertical\u001b[39;49m\u001b[38;5;124;43m'\u001b[39;49m\u001b[43m,\u001b[49m\u001b[43m \u001b[49m\u001b[43minput_shape\u001b[49m\u001b[38;5;241;43m=\u001b[39;49m\u001b[43m(\u001b[49m\u001b[38;5;241;43m224\u001b[39;49m\u001b[43m,\u001b[49m\u001b[43m \u001b[49m\u001b[38;5;241;43m224\u001b[39;49m\u001b[43m,\u001b[49m\u001b[43m \u001b[49m\u001b[38;5;241;43m3\u001b[39;49m\u001b[43m)\u001b[49m\u001b[43m,\u001b[49m\u001b[43m \u001b[49m\u001b[43mname\u001b[49m\u001b[38;5;241;43m=\u001b[39;49m\u001b[38;5;124;43m'\u001b[39;49m\u001b[38;5;124;43mRandomFlip(mode=horizontal_and_vertical)\u001b[39;49m\u001b[38;5;124;43m'\u001b[39;49m\u001b[43m)\u001b[49m\u001b[43m)\u001b[49m\n\u001b[0;32m     10\u001b[0m model\u001b[38;5;241m.\u001b[39madd(layers\u001b[38;5;241m.\u001b[39mRandomRotation(factor\u001b[38;5;241m=\u001b[39m\u001b[38;5;241m0.2\u001b[39m, name\u001b[38;5;241m=\u001b[39m\u001b[38;5;124m'\u001b[39m\u001b[38;5;124mRandomRotation(factor=0.2)\u001b[39m\u001b[38;5;124m'\u001b[39m))\n\u001b[0;32m     11\u001b[0m model\u001b[38;5;241m.\u001b[39madd(layers\u001b[38;5;241m.\u001b[39mConv2D(\u001b[38;5;241m32\u001b[39m, (\u001b[38;5;241m3\u001b[39m, \u001b[38;5;241m3\u001b[39m), activation\u001b[38;5;241m=\u001b[39m\u001b[38;5;124m'\u001b[39m\u001b[38;5;124mrelu\u001b[39m\u001b[38;5;124m'\u001b[39m, name\u001b[38;5;241m=\u001b[39m\u001b[38;5;124m'\u001b[39m\u001b[38;5;124mConv2D(32)\u001b[39m\u001b[38;5;124m'\u001b[39m))\n",
      "File \u001b[1;32mc:\\Users\\ADMIN\\miniconda3\\envs\\ml_venv\\lib\\site-packages\\tensorflow\\python\\trackable\\base.py:205\u001b[0m, in \u001b[0;36mno_automatic_dependency_tracking.<locals>._method_wrapper\u001b[1;34m(self, *args, **kwargs)\u001b[0m\n\u001b[0;32m    203\u001b[0m \u001b[38;5;28mself\u001b[39m\u001b[38;5;241m.\u001b[39m_self_setattr_tracking \u001b[38;5;241m=\u001b[39m \u001b[38;5;28;01mFalse\u001b[39;00m  \u001b[38;5;66;03m# pylint: disable=protected-access\u001b[39;00m\n\u001b[0;32m    204\u001b[0m \u001b[38;5;28;01mtry\u001b[39;00m:\n\u001b[1;32m--> 205\u001b[0m   result \u001b[38;5;241m=\u001b[39m method(\u001b[38;5;28mself\u001b[39m, \u001b[38;5;241m*\u001b[39margs, \u001b[38;5;241m*\u001b[39m\u001b[38;5;241m*\u001b[39mkwargs)\n\u001b[0;32m    206\u001b[0m \u001b[38;5;28;01mfinally\u001b[39;00m:\n\u001b[0;32m    207\u001b[0m   \u001b[38;5;28mself\u001b[39m\u001b[38;5;241m.\u001b[39m_self_setattr_tracking \u001b[38;5;241m=\u001b[39m previous_value  \u001b[38;5;66;03m# pylint: disable=protected-access\u001b[39;00m\n",
      "File \u001b[1;32mc:\\Users\\ADMIN\\miniconda3\\envs\\ml_venv\\lib\\site-packages\\keras\\utils\\traceback_utils.py:70\u001b[0m, in \u001b[0;36mfilter_traceback.<locals>.error_handler\u001b[1;34m(*args, **kwargs)\u001b[0m\n\u001b[0;32m     67\u001b[0m     filtered_tb \u001b[38;5;241m=\u001b[39m _process_traceback_frames(e\u001b[38;5;241m.\u001b[39m__traceback__)\n\u001b[0;32m     68\u001b[0m     \u001b[38;5;66;03m# To get the full stack trace, call:\u001b[39;00m\n\u001b[0;32m     69\u001b[0m     \u001b[38;5;66;03m# `tf.debugging.disable_traceback_filtering()`\u001b[39;00m\n\u001b[1;32m---> 70\u001b[0m     \u001b[38;5;28;01mraise\u001b[39;00m e\u001b[38;5;241m.\u001b[39mwith_traceback(filtered_tb) \u001b[38;5;28;01mfrom\u001b[39;00m\u001b[38;5;250m \u001b[39m\u001b[38;5;28;01mNone\u001b[39;00m\n\u001b[0;32m     71\u001b[0m \u001b[38;5;28;01mfinally\u001b[39;00m:\n\u001b[0;32m     72\u001b[0m     \u001b[38;5;28;01mdel\u001b[39;00m filtered_tb\n",
      "File \u001b[1;32mc:\\Users\\ADMIN\\miniconda3\\envs\\ml_venv\\lib\\contextlib.py:119\u001b[0m, in \u001b[0;36m_GeneratorContextManager.__enter__\u001b[1;34m(self)\u001b[0m\n\u001b[0;32m    117\u001b[0m \u001b[38;5;28;01mdel\u001b[39;00m \u001b[38;5;28mself\u001b[39m\u001b[38;5;241m.\u001b[39margs, \u001b[38;5;28mself\u001b[39m\u001b[38;5;241m.\u001b[39mkwds, \u001b[38;5;28mself\u001b[39m\u001b[38;5;241m.\u001b[39mfunc\n\u001b[0;32m    118\u001b[0m \u001b[38;5;28;01mtry\u001b[39;00m:\n\u001b[1;32m--> 119\u001b[0m     \u001b[38;5;28;01mreturn\u001b[39;00m \u001b[38;5;28mnext\u001b[39m(\u001b[38;5;28mself\u001b[39m\u001b[38;5;241m.\u001b[39mgen)\n\u001b[0;32m    120\u001b[0m \u001b[38;5;28;01mexcept\u001b[39;00m \u001b[38;5;167;01mStopIteration\u001b[39;00m:\n\u001b[0;32m    121\u001b[0m     \u001b[38;5;28;01mraise\u001b[39;00m \u001b[38;5;167;01mRuntimeError\u001b[39;00m(\u001b[38;5;124m\"\u001b[39m\u001b[38;5;124mgenerator didn\u001b[39m\u001b[38;5;124m'\u001b[39m\u001b[38;5;124mt yield\u001b[39m\u001b[38;5;124m\"\u001b[39m) \u001b[38;5;28;01mfrom\u001b[39;00m\u001b[38;5;250m \u001b[39m\u001b[38;5;28;01mNone\u001b[39;00m\n",
      "\u001b[1;31mValueError\u001b[0m: 'RandomFlip(mode=horizontal_and_vertical)/' is not a valid root scope name. A root scope name has to match the following pattern: ^[A-Za-z0-9.][A-Za-z0-9_.\\\\/>-]*$"
     ]
    }
   ],
   "source": [
    "import tensorflow as tf\n",
    "from tensorflow.keras import layers, models\n",
    "from tensorflow.keras.utils import plot_model\n",
    "\n",
    "# Tạo mô hình đơn giản\n",
    "model = models.Sequential()\n",
    "\n",
    "# Thêm layer với tham số đi kèm trong tên layer\n",
    "model.add(layers.RandomFlip(mode='horizontal_and_vertical', input_shape=(224, 224, 3), name='RandomFlip(mode=horizontal_and_vertical)'))\n",
    "model.add(layers.RandomRotation(factor=0.2, name='RandomRotation(factor=0.2)'))\n",
    "model.add(layers.Conv2D(32, (3, 3), activation='relu', name='Conv2D(32)'))\n",
    "model.add(layers.MaxPooling2D((2, 2), name='MaxPooling2D'))\n",
    "model.add(layers.Flatten())\n",
    "model.add(layers.Dense(10, activation='softmax', name='Dense(10)'))\n",
    "\n",
    "# Vẽ mô hình với tham số trong tên các layer\n",
    "plot_model(model, \"ticket_classifier_with_shape_info.png\", show_shapes=True, show_layer_names=True)\n"
   ]
  },
  {
   "cell_type": "code",
   "execution_count": null,
   "metadata": {},
   "outputs": [],
   "source": [
    "ax.annotate(\n",
    "    '', # không hiển thị văn bản gì \n",
    "    xy=(0.5, 0.35), # điểm cuối của múi tên \n",
    "    xytext=(0.5, 0.65), # điểm đầu của múi tên \n",
    "    arrowprops=dict(\n",
    "        facecolor='black',  # màu mũi tên \n",
    "        shrink=0.05 # thu nhỏ kích thước mũi tên \n",
    "    ) \n",
    ")"
   ]
  },
  {
   "cell_type": "code",
   "execution_count": null,
   "metadata": {},
   "outputs": [],
   "source": []
  },
  {
   "cell_type": "code",
   "execution_count": 1,
   "metadata": {},
   "outputs": [
    {
     "name": "stdout",
     "output_type": "stream",
     "text": [
      "<class 'tuple'>\n"
     ]
    }
   ],
   "source": [
    "a= 10 \n",
    "b = 5 \n",
    "\n",
    "c = (a, b)\n",
    "\n",
    "print(type(c))"
   ]
  },
  {
   "cell_type": "code",
   "execution_count": 1,
   "metadata": {},
   "outputs": [
    {
     "ename": "RuntimeError",
     "evalue": "The Tensorflow package version needs to be at least 2.11.0 for KerasCV to run. Currently, your TensorFlow version is 2.10.0. Please upgrade with `$ pip install --upgrade tensorflow`. You can use `pip freeze` to check afterwards that everything is ok.",
     "output_type": "error",
     "traceback": [
      "\u001b[1;31m---------------------------------------------------------------------------\u001b[0m",
      "\u001b[1;31mRuntimeError\u001b[0m                              Traceback (most recent call last)",
      "Cell \u001b[1;32mIn[1], line 1\u001b[0m\n\u001b[1;32m----> 1\u001b[0m \u001b[38;5;28;01mfrom\u001b[39;00m\u001b[38;5;250m \u001b[39m\u001b[38;5;21;01mkeras_cv\u001b[39;00m\u001b[38;5;21;01m.\u001b[39;00m\u001b[38;5;21;01mlayers\u001b[39;00m\u001b[38;5;250m \u001b[39m\u001b[38;5;28;01mimport\u001b[39;00m RandomFlip\n\u001b[0;32m      4\u001b[0m RandomFlip(mode\u001b[38;5;241m=\u001b[39m\u001b[38;5;124m\"\u001b[39m\u001b[38;5;124mhorizontal_and_vertical\u001b[39m\u001b[38;5;124m\"\u001b[39m)\n",
      "File \u001b[1;32mc:\\Users\\ADMIN\\miniconda3\\envs\\ml_venv\\lib\\site-packages\\keras_cv\\__init__.py:10\u001b[0m\n\u001b[0;32m      7\u001b[0m \u001b[38;5;28;01mimport\u001b[39;00m\u001b[38;5;250m \u001b[39m\u001b[38;5;21;01mos\u001b[39;00m\n\u001b[0;32m      9\u001b[0m \u001b[38;5;66;03m# Import everything from /api/ into keras.\u001b[39;00m\n\u001b[1;32m---> 10\u001b[0m \u001b[38;5;28;01mfrom\u001b[39;00m\u001b[38;5;250m \u001b[39m\u001b[38;5;21;01mkeras_cv\u001b[39;00m\u001b[38;5;21;01m.\u001b[39;00m\u001b[38;5;21;01mapi\u001b[39;00m\u001b[38;5;250m \u001b[39m\u001b[38;5;28;01mimport\u001b[39;00m \u001b[38;5;241m*\u001b[39m  \u001b[38;5;66;03m# noqa: F403\u001b[39;00m\n\u001b[0;32m     11\u001b[0m \u001b[38;5;28;01mfrom\u001b[39;00m\u001b[38;5;250m \u001b[39m\u001b[38;5;21;01mkeras_cv\u001b[39;00m\u001b[38;5;21;01m.\u001b[39;00m\u001b[38;5;21;01mapi\u001b[39;00m\u001b[38;5;250m \u001b[39m\u001b[38;5;28;01mimport\u001b[39;00m __version__  \u001b[38;5;66;03m# Import * ignores names start with \"_\".\u001b[39;00m\n\u001b[0;32m     13\u001b[0m \u001b[38;5;66;03m# Add everything in /api/ to the module search path.\u001b[39;00m\n",
      "File \u001b[1;32mc:\\Users\\ADMIN\\miniconda3\\envs\\ml_venv\\lib\\site-packages\\keras_cv\\api\\__init__.py:7\u001b[0m\n\u001b[0;32m      1\u001b[0m \u001b[38;5;124;03m\"\"\"DO NOT EDIT.\u001b[39;00m\n\u001b[0;32m      2\u001b[0m \n\u001b[0;32m      3\u001b[0m \u001b[38;5;124;03mThis file was autogenerated. Do not edit it by hand,\u001b[39;00m\n\u001b[0;32m      4\u001b[0m \u001b[38;5;124;03msince your modifications would be overwritten.\u001b[39;00m\n\u001b[0;32m      5\u001b[0m \u001b[38;5;124;03m\"\"\"\u001b[39;00m\n\u001b[1;32m----> 7\u001b[0m \u001b[38;5;28;01mfrom\u001b[39;00m\u001b[38;5;250m \u001b[39m\u001b[38;5;21;01mkeras_cv\u001b[39;00m\u001b[38;5;21;01m.\u001b[39;00m\u001b[38;5;21;01mapi\u001b[39;00m\u001b[38;5;250m \u001b[39m\u001b[38;5;28;01mimport\u001b[39;00m bounding_box\n\u001b[0;32m      8\u001b[0m \u001b[38;5;28;01mfrom\u001b[39;00m\u001b[38;5;250m \u001b[39m\u001b[38;5;21;01mkeras_cv\u001b[39;00m\u001b[38;5;21;01m.\u001b[39;00m\u001b[38;5;21;01mapi\u001b[39;00m\u001b[38;5;250m \u001b[39m\u001b[38;5;28;01mimport\u001b[39;00m callbacks\n\u001b[0;32m      9\u001b[0m \u001b[38;5;28;01mfrom\u001b[39;00m\u001b[38;5;250m \u001b[39m\u001b[38;5;21;01mkeras_cv\u001b[39;00m\u001b[38;5;21;01m.\u001b[39;00m\u001b[38;5;21;01mapi\u001b[39;00m\u001b[38;5;250m \u001b[39m\u001b[38;5;28;01mimport\u001b[39;00m core\n",
      "File \u001b[1;32mc:\\Users\\ADMIN\\miniconda3\\envs\\ml_venv\\lib\\site-packages\\keras_cv\\api\\bounding_box\\__init__.py:7\u001b[0m\n\u001b[0;32m      1\u001b[0m \u001b[38;5;124;03m\"\"\"DO NOT EDIT.\u001b[39;00m\n\u001b[0;32m      2\u001b[0m \n\u001b[0;32m      3\u001b[0m \u001b[38;5;124;03mThis file was autogenerated. Do not edit it by hand,\u001b[39;00m\n\u001b[0;32m      4\u001b[0m \u001b[38;5;124;03msince your modifications would be overwritten.\u001b[39;00m\n\u001b[0;32m      5\u001b[0m \u001b[38;5;124;03m\"\"\"\u001b[39;00m\n\u001b[1;32m----> 7\u001b[0m \u001b[38;5;28;01mfrom\u001b[39;00m\u001b[38;5;250m \u001b[39m\u001b[38;5;21;01mkeras_cv\u001b[39;00m\u001b[38;5;21;01m.\u001b[39;00m\u001b[38;5;21;01msrc\u001b[39;00m\u001b[38;5;21;01m.\u001b[39;00m\u001b[38;5;21;01mbounding_box\u001b[39;00m\u001b[38;5;21;01m.\u001b[39;00m\u001b[38;5;21;01mconverters\u001b[39;00m\u001b[38;5;250m \u001b[39m\u001b[38;5;28;01mimport\u001b[39;00m convert_format\n\u001b[0;32m      8\u001b[0m \u001b[38;5;28;01mfrom\u001b[39;00m\u001b[38;5;250m \u001b[39m\u001b[38;5;21;01mkeras_cv\u001b[39;00m\u001b[38;5;21;01m.\u001b[39;00m\u001b[38;5;21;01msrc\u001b[39;00m\u001b[38;5;21;01m.\u001b[39;00m\u001b[38;5;21;01mbounding_box\u001b[39;00m\u001b[38;5;21;01m.\u001b[39;00m\u001b[38;5;21;01mensure_tensor\u001b[39;00m\u001b[38;5;250m \u001b[39m\u001b[38;5;28;01mimport\u001b[39;00m ensure_tensor\n\u001b[0;32m      9\u001b[0m \u001b[38;5;28;01mfrom\u001b[39;00m\u001b[38;5;250m \u001b[39m\u001b[38;5;21;01mkeras_cv\u001b[39;00m\u001b[38;5;21;01m.\u001b[39;00m\u001b[38;5;21;01msrc\u001b[39;00m\u001b[38;5;21;01m.\u001b[39;00m\u001b[38;5;21;01mbounding_box\u001b[39;00m\u001b[38;5;21;01m.\u001b[39;00m\u001b[38;5;21;01mformats\u001b[39;00m\u001b[38;5;250m \u001b[39m\u001b[38;5;28;01mimport\u001b[39;00m CENTER_XYWH\n",
      "File \u001b[1;32mc:\\Users\\ADMIN\\miniconda3\\envs\\ml_venv\\lib\\site-packages\\keras_cv\\src\\__init__.py:27\u001b[0m\n\u001b[0;32m     24\u001b[0m \u001b[38;5;66;03m# isort:off\u001b[39;00m\n\u001b[0;32m     25\u001b[0m \u001b[38;5;28;01mfrom\u001b[39;00m\u001b[38;5;250m \u001b[39m\u001b[38;5;21;01mkeras_cv\u001b[39;00m\u001b[38;5;21;01m.\u001b[39;00m\u001b[38;5;21;01msrc\u001b[39;00m\u001b[38;5;250m \u001b[39m\u001b[38;5;28;01mimport\u001b[39;00m version_check\n\u001b[1;32m---> 27\u001b[0m \u001b[43mversion_check\u001b[49m\u001b[38;5;241;43m.\u001b[39;49m\u001b[43mcheck_tf_version\u001b[49m\u001b[43m(\u001b[49m\u001b[43m)\u001b[49m\n\u001b[0;32m     28\u001b[0m \u001b[38;5;66;03m# isort:on\u001b[39;00m\n\u001b[0;32m     30\u001b[0m \u001b[38;5;28;01mfrom\u001b[39;00m\u001b[38;5;250m \u001b[39m\u001b[38;5;21;01mkeras_cv\u001b[39;00m\u001b[38;5;21;01m.\u001b[39;00m\u001b[38;5;21;01msrc\u001b[39;00m\u001b[38;5;250m \u001b[39m\u001b[38;5;28;01mimport\u001b[39;00m bounding_box  \u001b[38;5;66;03m# noqa: E402\u001b[39;00m\n",
      "File \u001b[1;32mc:\\Users\\ADMIN\\miniconda3\\envs\\ml_venv\\lib\\site-packages\\keras_cv\\src\\version_check.py:34\u001b[0m, in \u001b[0;36mcheck_tf_version\u001b[1;34m()\u001b[0m\n\u001b[0;32m     32\u001b[0m \u001b[38;5;28;01mdef\u001b[39;00m\u001b[38;5;250m \u001b[39m\u001b[38;5;21mcheck_tf_version\u001b[39m():\n\u001b[0;32m     33\u001b[0m     \u001b[38;5;28;01mif\u001b[39;00m parse(tf\u001b[38;5;241m.\u001b[39m__version__) \u001b[38;5;241m<\u001b[39m parse(MIN_VERSION):\n\u001b[1;32m---> 34\u001b[0m         \u001b[38;5;28;01mraise\u001b[39;00m \u001b[38;5;167;01mRuntimeError\u001b[39;00m(\n\u001b[0;32m     35\u001b[0m             \u001b[38;5;124m\"\u001b[39m\u001b[38;5;124mThe Tensorflow package version needs to be at least \u001b[39m\u001b[38;5;124m\"\u001b[39m\n\u001b[0;32m     36\u001b[0m             \u001b[38;5;124mf\u001b[39m\u001b[38;5;124m\"\u001b[39m\u001b[38;5;132;01m{\u001b[39;00mMIN_VERSION\u001b[38;5;132;01m}\u001b[39;00m\u001b[38;5;124m for KerasCV to run. Currently, your TensorFlow \u001b[39m\u001b[38;5;124m\"\u001b[39m\n\u001b[0;32m     37\u001b[0m             \u001b[38;5;124mf\u001b[39m\u001b[38;5;124m\"\u001b[39m\u001b[38;5;124mversion is \u001b[39m\u001b[38;5;132;01m{\u001b[39;00mtf\u001b[38;5;241m.\u001b[39m__version__\u001b[38;5;132;01m}\u001b[39;00m\u001b[38;5;124m. Please upgrade with `$ pip install \u001b[39m\u001b[38;5;124m\"\u001b[39m\n\u001b[0;32m     38\u001b[0m             \u001b[38;5;124m\"\u001b[39m\u001b[38;5;124m--upgrade tensorflow`. You can use `pip freeze` to check \u001b[39m\u001b[38;5;124m\"\u001b[39m\n\u001b[0;32m     39\u001b[0m             \u001b[38;5;124m\"\u001b[39m\u001b[38;5;124mafterwards that everything is ok.\u001b[39m\u001b[38;5;124m\"\u001b[39m\n\u001b[0;32m     40\u001b[0m         )\n",
      "\u001b[1;31mRuntimeError\u001b[0m: The Tensorflow package version needs to be at least 2.11.0 for KerasCV to run. Currently, your TensorFlow version is 2.10.0. Please upgrade with `$ pip install --upgrade tensorflow`. You can use `pip freeze` to check afterwards that everything is ok."
     ]
    }
   ],
   "source": [
    "from keras_cv.layers import RandomFlip\n",
    "\n",
    "\n",
    "RandomFlip(mode=\"horizontal_and_vertical\")"
   ]
  },
  {
   "cell_type": "code",
   "execution_count": null,
   "metadata": {},
   "outputs": [
    {
     "data": {
      "text/plain": [
       "27090.0"
      ]
     },
     "execution_count": 5,
     "metadata": {},
     "output_type": "execute_result"
    }
   ],
   "source": [
    "18060 / 4 * 6\n"
   ]
  },
  {
   "cell_type": "markdown",
   "metadata": {},
   "source": [
    "['HadArthritis_bin',\n",
    "'SmokerStatus_ord',\n",
    "'MentalHealthDays_num',\n",
    "'LastCheckupTime_ord',\n",
    "'FluVaxLast12_bin',\n",
    "'DifficultyConcentrating_bin',\n",
    "'Sex_nom',\n",
    "'HadKidneyDisease_bin',\n",
    "'HadCOPD_bin',\n",
    "'DeafOrHardOfHearing_bin',\n",
    "'AgeCategory_nom',\n",
    "'PhysicalActivities_bin',\n",
    "'HadStroke_bin',\n",
    "'HadDiabetes_nom',\n",
    "'SleepHours_num',\n",
    "'RemovedTeeth_nom',\n",
    "'HadSkinCancer_bin',\n",
    "'DifficultyWalking_bin',\n",
    "'DifficultyErrands_bin',\n",
    "'PneumoVaxEver_bin',\n",
    "'AlcoholDrinkers_bin',\n",
    "'State_nom',\n",
    "'HadHeartAttack',\n",
    "'DifficultyDressingBathing_bin',\n",
    "'HadAsthma_bin',\n",
    "'PhysicalHealthDays_num',\n",
    "'HadDepressiveDisorder_bin',\n",
    "'HadAngina_bin',\n",
    "'BlindOrVisionDifficulty_bin',\n",
    "'TetanusLast10Tdap_nom',\n",
    "'ECigaretteUsage_ord',\n",
    "'GeneralHealth_ord']\n"
   ]
  },
  {
   "cell_type": "markdown",
   "metadata": {},
   "source": [
    "- HadArthritis_bin co No chiem 66%\n",
    "- SmokerStatus_ord co 'Never smoked' chiem 63%\n",
    "- MentalHealthDays_num co 0 chiem 60%\n",
    "- LastCheckupTime_ord co 'Within past year' chiem 80%\n",
    "- FluVaxLast12_bin co No va Yes can bang\n",
    "- DifficultyConcentrating_bin co No chiem 88%\n",
    "- Sex_nom co Male va Female can bang\n",
    "- HadKidneyDisease_bin co No chiem 95%\n",
    "- HadCOPD_bin co No chiem 92%\n",
    "- DeafOrHardOfHearing_bin co No chiem 91%\n",
    "- AgeCategory_nom co cac nhom tuoi can bang nhau\n",
    "- PhysicalActivities_bin co Yes chiem 76%\n",
    "- HadStroke_bin co No chiem 95%\n",
    "- HadDiabetes_nom co No chiem 83%, cac gia tri con lai nghia la da tung bi\n",
    "- SleepHours_num co phan bo can bang\n",
    "- RemovedTeeth_nom co None chiem 55%\n",
    "- HadSkinCancer_bin co No chiem 92%\n",
    "- DifficultyWalking_bin co No chiem 84%\n",
    "- DifficultyErrands_bin co No chiem 92%\n",
    "- PneumoVaxEver_bin co phan bo can bang\n",
    "- AlcoholDrinkers_bin co phan bo can bang\n",
    "- State_nom co phan bo can bang\n",
    "- **HadHeartAttack** co No chiem 94%\n",
    "- DifficultyDressingBathing_bin co No chiem 96%\n",
    "- HadAsthma_bin co No chiem 85%\n",
    "- PhysicalHealthDays_num co phan bo can bang\n",
    "- HadDepressiveDisorder_bin co No chiem 79%\n",
    "- HadAngina_bin co No chiem 94%\n",
    "- BlindOrVisionDifficulty_bin co No chiem 94%\n",
    "- TetanusLast10Tdap_nom co No chiem 45%, Yes received tetanus shot not TDap + Yes received tetanus shot not sure what type chiem 31%\n",
    "- ECigaretteUsage_ord co Never chiem 78%, con lai la da tung dung\n",
    "- GeneralHealth_ord co Poor + Fair chiem 17%\n"
   ]
  },
  {
   "cell_type": "markdown",
   "metadata": {},
   "source": [
    "Index(['PhysicalHealthDays_num', 'MentalHealthDays_num', 'SleepHours_num',\n",
    "'HeightInMeters_num', 'WeightInKilograms_num', 'PhysicalActivities_bin',\n",
    "'HadAngina_bin', 'HadStroke_bin', 'HadAsthma_bin', 'HadSkinCancer_bin',\n",
    "'HadCOPD_bin', 'HadDepressiveDisorder_bin', 'HadKidneyDisease_bin',\n",
    "'HadArthritis_bin', 'DeafOrHardOfHearing_bin',\n",
    "'BlindOrVisionDifficulty_bin', 'DifficultyConcentrating_bin',\n",
    "'DifficultyWalking_bin', 'DifficultyDressingBathing_bin',\n",
    "'DifficultyErrands_bin', 'AlcoholDrinkers_bin', 'FluVaxLast12_bin',\n",
    "'PneumoVaxEver_bin', 'State_nom', 'Sex_nom', 'RemovedTeeth_nom',\n",
    "'HadDiabetes_nom', 'AgeCategory_nom', 'TetanusLast10Tdap_nom',\n",
    "'GeneralHealth_ord', 'LastCheckupTime_ord', 'SmokerStatus_ord',\n",
    "'ECigaretteUsage_ord', 'HadHeartAttack'],\n",
    "dtype='object')\n"
   ]
  },
  {
   "cell_type": "markdown",
   "metadata": {},
   "source": [
    "Y nghia cac cot\n",
    "\n",
    "| Cot                       | Y nghia                                                               | Don vi | Phan loai |\n",
    "| ------------------------- | --------------------------------------------------------------------- | ------ | --------- |\n",
    "| State                     | bang                                                                  | none   | Nominal   |\n",
    "| Sex                       | gioi tinh                                                             | none   | Nominal   |\n",
    "| GeneralHealth             | suc khoe chung                                                        | none   | ordinal   |\n",
    "| PhysicalHealthDays        | so ngay gap van de the chat                                           | none   | numeric   |\n",
    "| MentalHealthDays          | so ngay gap van de tinh than                                          | none   | numeric   |\n",
    "| LastCheckupTime           | lan cuoi di kham suc khoe                                             | none   | ordinal   |\n",
    "| PhysicalActivities        | co tham gia hoat dong the chat khong                                  | none   | binary    |\n",
    "| SleepHours                | gio ngu trong 1 ngay                                                  | none   | numeric   |\n",
    "| RemovedTeeth              | so rang da bi loai bo                                                 | none   | nominal   |\n",
    "| **HadHeartAttack**        | co bi heart attack khong                                              | none   | binary    |\n",
    "| HadAngina                 | co bi đau thắt ngực                                                   | none   | binary    |\n",
    "| HadStroke                 | co bi đột quỵ                                                         | none   | binary    |\n",
    "| HadAsthma                 | co bi hen suyen khong                                                 | none   | binary    |\n",
    "| HadSkinCancer             | co bi ung thu da khong                                                | none   | binary    |\n",
    "| HadCOPD                   | co bi Bệnh phổi tắc nghẽn mãn tính                                    | none   | binary    |\n",
    "| HadDepressiveDisorder     | co bi roi loan tam than khong                                         | none   | binary    |\n",
    "| HadKidneyDisease          | co bi benh than khong                                                 | none   | binary    |\n",
    "| HadArthritis              | co bi viêm khớp khong                                                 | none   | binary    |\n",
    "| HadDiabetes               | co bi tieu duong khong                                                | none   | binary    |\n",
    "| DeafOrHardOfHearing       | co bi chung kho nghe khong                                            | none   | binary    |\n",
    "| BlindOrVisionDifficulty   | co bi chung kho nhin khong                                            | none   | binary    |\n",
    "| DifficultyConcentrating   | co bi chung kho tap trung khong                                       | none   | binary    |\n",
    "| DifficultyWalking         | co bi chung kho di lai khong                                          | none   | binary    |\n",
    "| DifficultyDressingBathing | co bi gap kho khan trong viec thay do hay tam rua khong               | none   | binary    |\n",
    "| DifficultyErrands         | co bi gap kho khan trong viec thuc hien cac cong viec hang ngay khong | none   | binary    |\n",
    "| SmokerStatus              | muc do hut thuoc truyen thong                                         | none   | ordinal   |\n",
    "| ECigaretteUsage           | muc do hut thuoc la dien tu                                           | none   | ordinal   |\n",
    "| _ChestScan_               |                                                                       | none   | remove    |\n",
    "| _RaceEthnicityCategory_   | chung toc                                                             | none   | remove    |\n",
    "| AgeCategory               | pham vi tuoi                                                          | none   | nominal   |\n",
    "| HeightInMeters            | chieu cao                                                             | m      | numeric   |\n",
    "| WeightInKilograms         | can nang                                                              | kg     | numeric   |\n",
    "| _BMI_                     | chi so BMI                                                            | none   | remove    |\n",
    "| AlcoholDrinkers           | co uong ruou khong                                                    | none   | binary    |\n",
    "| _HIVTesting_              |                                                                       | none   | remove    |\n",
    "| FluVaxLast12              | đã tiêm vắc xin phòng cúm trong 12 tháng qua hay không.               | none   | binary    |\n",
    "| PneumoVaxEver             | đã từng tiêm vắc xin phòng phổi (Pneumococcal vaccine) hay chưa       | none   | binary    |\n",
    "| TetanusLast10Tdap         | muc do tiêm vắc xin phòng uốn ván trong 10 nam qua                    | none   | nominal   |\n",
    "| _HighRiskLastYear_        |                                                                       | none   | remove    |\n",
    "| _CovidPos_                |                                                                       | none   | remove    |\n"
   ]
  },
  {
   "cell_type": "markdown",
   "metadata": {},
   "source": [
    "<class 'pandas.core.frame.DataFrame'>\n",
    "RangeIndex: 397860 entries, 0 to 397859\n",
    "Data columns (total 34 columns):\n",
    "\n",
    "# Column Non-Null Count Dtype\n",
    "\n",
    "---\n",
    "\n",
    "5 PhysicalActivities_bin 396987 non-null object\n",
    "6 HadAngina_bin 394627 non-null object\n",
    "7 HadStroke_bin 396915 non-null object\n",
    "8 HadAsthma_bin 396577 non-null object\n",
    "9 HadSkinCancer_bin 395357 non-null object\n",
    "10 HadCOPD_bin 396217 non-null object\n",
    "11 HadDepressiveDisorder_bin 395699 non-null object\n",
    "12 HadKidneyDisease_bin 396401 non-null object\n",
    "13 HadArthritis_bin 395775 non-null object\n",
    "14 HadDiabetes_bin 397142 non-null object\n",
    "15 DeafOrHardOfHearing_bin 379641 non-null object\n",
    "16 BlindOrVisionDifficulty_bin 378813 non-null object\n",
    "17 DifficultyConcentrating_bin 376497 non-null object\n",
    "18 DifficultyWalking_bin 376677 non-null object\n",
    "19 DifficultyDressingBathing_bin 376758 non-null object\n",
    "20 DifficultyErrands_bin 375211 non-null object\n",
    "21 AlcoholDrinkers_bin 356594 non-null object\n",
    "22 FluVaxLast12_bin 356077 non-null object\n",
    "23 PneumoVaxEver_bin 329305 non-null object\n",
    "24 State_nom 397860 non-null object\n",
    "25 Sex_nom 397860 non-null object\n",
    "26 RemovedTeeth_nom 387915 non-null object\n",
    "27 AgeCategory_nom 389896 non-null object\n",
    "28 TetanusLast10Tdap_nom 324445 non-null object\n",
    "29 GeneralHealth_ord 396871 non-null object\n",
    "30 LastCheckupTime_ord 390625 non-null object\n",
    "31 SmokerStatus_ord 366478 non-null object\n",
    "32 ECigaretteUsage_ord 366269 non-null object\n",
    "33 HadHeartAttack 397860 non-null object\n",
    "dtypes: float64(5), object(29)\n",
    "memory usage: 103.2+ MB\n"
   ]
  },
  {
   "cell_type": "markdown",
   "metadata": {},
   "source": [
    "PhysicalActivities_bin -> ['No', 'Yes', nan]\n",
    "HadAngina_bin -> ['Yes', 'No', nan]\n",
    "HadStroke_bin -> ['Yes', 'No', nan]\n",
    "HadAsthma_bin -> ['No', 'Yes', nan]\n",
    "HadSkinCancer_bin -> ['No', 'Yes', nan]\n",
    "HadCOPD_bin -> ['No', 'Yes', nan]\n",
    "HadDepressiveDisorder_bin -> ['Yes', 'No', nan]\n",
    "HadKidneyDisease_bin -> ['No', 'Yes', nan]\n",
    "HadArthritis_bin -> ['Yes', 'No', nan]\n",
    "DeafOrHardOfHearing_bin -> ['Yes', 'No', nan]\n",
    "BlindOrVisionDifficulty_bin -> ['No', 'Yes', nan]\n",
    "DifficultyConcentrating_bin -> ['No', nan, 'Yes']\n",
    "DifficultyWalking_bin -> ['Yes', 'No', nan]\n",
    "DifficultyDressingBathing_bin -> ['No', nan, 'Yes']\n",
    "DifficultyErrands_bin -> ['No', nan, 'Yes']\n",
    "AlcoholDrinkers_bin -> ['Yes', 'No', nan]\n",
    "FluVaxLast12_bin -> ['No', 'Yes', nan]\n",
    "PneumoVaxEver_bin -> ['No', 'Yes', nan]\n"
   ]
  },
  {
   "cell_type": "markdown",
   "metadata": {},
   "source": [
    "GeneralHealth_ord -> ['Poor', 'Good', 'Excellent', 'Fair', 'Very good', nan]\n",
    "LastCheckupTime_ord -> ['Within past year (anytime less than 12 months ago)', 'Within past 2 years (1 year but less than 2 years ago)', 'Within past 5 years (2 years but less than 5 years ago)', '5 or more years ago', nan]\n",
    "\n",
    "SmokerStatus_ord -> ['Former smoker', 'Never smoked', nan, 'Current smoker - now smokes every day', 'Current smoker - now smokes some days']\n",
    "ECigaretteUsage_ord -> ['Not at all (right now)', 'Use them some days', 'Never used e-cigarettes in my entire life', nan, 'Use them every day']\n"
   ]
  },
  {
   "cell_type": "code",
   "execution_count": null,
   "metadata": {},
   "outputs": [
    {
     "data": {
      "text/plain": [
       "10.092813985210386"
      ]
     },
     "execution_count": 1,
     "metadata": {},
     "output_type": "execute_result"
    }
   ],
   "source": [
    "(442067 - 397450) / 442067 * 100\n"
   ]
  },
  {
   "cell_type": "markdown",
   "metadata": {},
   "source": [
    "do_get_Diabetes_bin -> ['No', 'Yes']\n",
    "do_get_Hypertension_bin -> ['No', 'Yes']\n",
    "do_Family_History_bin -> ['No', 'Yes']\n",
    "do_get_Genetic_Risk_Factor_bin -> ['Yes', 'No']\n",
    "\n",
    "do_get_Alzheimer -> ['Yes', 'No']\n"
   ]
  },
  {
   "cell_type": "code",
   "execution_count": null,
   "metadata": {},
   "outputs": [
    {
     "name": "stderr",
     "output_type": "stream",
     "text": [
      "d:\\DA_workspace\\alzheimers_prediction\\venv\\lib\\site-packages\\sklearn\\model_selection\\_search.py:307: UserWarning: The total space of parameters 4 is smaller than n_iter=10. Running 4 iterations. For exhaustive searches, use GridSearchCV.\n",
      "  warnings.warn(\n"
     ]
    },
    {
     "name": "stdout",
     "output_type": "stream",
     "text": [
      "Fitting 5 folds for each of 4 candidates, totalling 20 fits\n",
      "[CV] END .......................max_depth=2, n_estimators=10; total time=   0.0s\n",
      "[CV] END .......................max_depth=2, n_estimators=10; total time=   0.0s\n",
      "[CV] END .......................max_depth=2, n_estimators=10; total time=   0.0s\n",
      "[CV] END .......................max_depth=2, n_estimators=10; total time=   0.0s\n",
      "[CV] END .......................max_depth=2, n_estimators=10; total time=   0.0s\n",
      "[CV] END .......................max_depth=2, n_estimators=50; total time=   0.0s\n",
      "[CV] END .......................max_depth=2, n_estimators=50; total time=   0.0s\n",
      "[CV] END .......................max_depth=2, n_estimators=50; total time=   0.0s\n",
      "[CV] END .......................max_depth=2, n_estimators=50; total time=   0.0s\n",
      "[CV] END .......................max_depth=2, n_estimators=50; total time=   0.0s\n",
      "[CV] END .......................max_depth=1, n_estimators=10; total time=   0.0s\n",
      "[CV] END .......................max_depth=1, n_estimators=10; total time=   0.0s\n",
      "[CV] END .......................max_depth=1, n_estimators=10; total time=   0.0s\n",
      "[CV] END .......................max_depth=1, n_estimators=10; total time=   0.0s\n",
      "[CV] END .......................max_depth=1, n_estimators=10; total time=   0.0s\n",
      "[CV] END .......................max_depth=1, n_estimators=50; total time=   0.0s\n",
      "[CV] END .......................max_depth=1, n_estimators=50; total time=   0.0s\n",
      "[CV] END .......................max_depth=1, n_estimators=50; total time=   0.0s\n",
      "[CV] END .......................max_depth=1, n_estimators=50; total time=   0.0s\n",
      "[CV] END .......................max_depth=1, n_estimators=50; total time=   0.0s\n"
     ]
    },
    {
     "data": {
      "text/plain": [
       "[(0.9583333333333334, 0.96),\n",
       " (0.9666666666666666, 0.9533333333333334),\n",
       " (0.9083333333333334, 0.9199999999999999),\n",
       " (0.8216666666666667, 0.78)]"
      ]
     },
     "execution_count": 13,
     "metadata": {},
     "output_type": "execute_result"
    }
   ],
   "source": [
    "from sklearn.model_selection import RandomizedSearchCV\n",
    "from sklearn.ensemble import RandomForestClassifier\n",
    "from sklearn.datasets import load_iris\n",
    "from sklearn.model_selection import train_test_split\n",
    "\n",
    "# Tải dữ liệu\n",
    "data = load_iris()\n",
    "X = data.data\n",
    "y = data.target\n",
    "\n",
    "\n",
    "# Khởi tạo mô hình và tham số để tìm kiếm\n",
    "\n",
    "param_dist = {\n",
    "    \"n_estimators\": [10, 50],\n",
    "    \"max_depth\": [2, 1],\n",
    "}\n",
    "\n",
    "rf = RandomForestClassifier()\n",
    "random_search = RandomizedSearchCV(\n",
    "    rf,\n",
    "    param_distributions=param_dist,\n",
    "    n_iter=10,\n",
    "    cv=5,\n",
    "    random_state=42,\n",
    "    scoring=\"accuracy\",\n",
    "    return_train_score=True,  # Lưu lại điểm train trong kết quả\n",
    "    verbose=2,\n",
    ")\n",
    "\n",
    "random_search.fit(X, y)\n",
    "best_model = random_search.best_estimator_\n",
    "\n",
    "# Lấy kết quả từ cross-validation\n",
    "cv_results = random_search.cv_results_\n",
    "\n",
    "# Train Scores: trung bình của điểm số trong các fold huấn luyện\n",
    "scores = list(zip(cv_results[\"mean_train_score\"], cv_results[\"mean_test_score\"]))\n",
    "scores = sorted(scores, key=lambda x: x[1], reverse=True)\n",
    "scores\n"
   ]
  },
  {
   "cell_type": "code",
   "execution_count": null,
   "metadata": {},
   "outputs": [
    {
     "data": {
      "text/plain": [
       "0.9733333333333334"
      ]
     },
     "execution_count": 14,
     "metadata": {},
     "output_type": "execute_result"
    }
   ],
   "source": [
    "best_model.score(X, y)\n"
   ]
  },
  {
   "cell_type": "code",
   "execution_count": null,
   "metadata": {},
   "outputs": [
    {
     "data": {
      "text/plain": [
       "14400"
      ]
     },
     "execution_count": 6,
     "metadata": {},
     "output_type": "execute_result"
    }
   ],
   "source": [
    "20 * 5 * 4 * 4 * \n"
   ]
  },
  {
   "cell_type": "code",
   "execution_count": null,
   "metadata": {},
   "outputs": [],
   "source": [
    "# Dự đoán xác suất trên tập validation\n",
    "y_val_prob = best_model.predict_proba(X_val)\n",
    "val_log_loss = log_loss(y_val, y_val_prob)\n",
    "\n",
    "# Dự đoán xác suất trên tập training\n",
    "y_train_prob = best_model.predict_proba(X_train)\n",
    "train_log_loss = log_loss(y_train, y_train_prob)\n"
   ]
  },
  {
   "cell_type": "code",
   "execution_count": null,
   "metadata": {},
   "outputs": [],
   "source": [
    "PredefinedSplit(\n",
    "    test_fold=[-1] * len(self.train_feature_data) + [0] * len(self.val_feature_data)\n",
    ")\n"
   ]
  },
  {
   "cell_type": "code",
   "execution_count": null,
   "metadata": {},
   "outputs": [
    {
     "data": {
      "text/plain": [
       "12500"
      ]
     },
     "execution_count": 1,
     "metadata": {},
     "output_type": "execute_result"
    }
   ],
   "source": [
    "25 * 500\n"
   ]
  },
  {
   "cell_type": "code",
   "execution_count": null,
   "metadata": {},
   "outputs": [],
   "source": [
    "from sklearn.neighbors import KNeighborsTransformer\n",
    "from sklearn.linear_model import LogisticRegression\n",
    "from sklearn.model_selection import train_test_split\n",
    "from sklearn.datasets import make_classification\n",
    "from sklearn.pipeline import Pipeline\n",
    "\n",
    "# Tạo dữ liệu giả (ví dụ)\n",
    "X, y = make_classification(n_samples=100, n_features=20, random_state=42)\n",
    "\n",
    "# Chia dữ liệu thành train và test\n",
    "X_train, X_test, y_train, y_test = train_test_split(\n",
    "    X, y, test_size=0.3, random_state=42\n",
    ")\n",
    "\n",
    "# Bước 1: Sử dụng KNeighborsTransformer để transform dữ liệu\n",
    "knn_transformer = KNeighborsTransformer(n_neighbors=5)\n",
    "\n",
    "# Bước 2: Xây dựng pipeline với KNN Transformer và mô hình Logistic Regression\n",
    "pipeline = Pipeline(\n",
    "    steps=[\n",
    "        (\"knn_transform\", knn_transformer),  # Áp dụng KNN để transform\n",
    "        (\"model\", LogisticRegression()),  # Áp dụng mô hình Logistic Regression\n",
    "    ]\n",
    ")\n",
    "\n",
    "# Huấn luyện pipeline\n",
    "pipeline.fit(X_train, y_train)\n",
    "\n",
    "# Đánh giá mô hình\n",
    "accuracy = pipeline.score(X_test, y_test)\n",
    "print(f\"Accuracy of the model after KNN transformation: {accuracy:.4f}\")\n"
   ]
  },
  {
   "cell_type": "markdown",
   "metadata": {},
   "source": [
    "Physical_Activity_Level -> ['High', 'Low', 'Medium']\n",
    "Smoking_Status_level -> ['Current', 'Former', 'Never']\n",
    "Alcohol_Consumption_Level -> ['Occasionally', 'Never', 'Regularly']\n",
    "Cholesterol_Level -> ['Normal', 'High']\n",
    "Depression_Level -> ['Medium', 'Low', 'High']\n",
    "Sleep_Quality_Level -> ['Poor', 'Good', 'Average']\n",
    "Diet_level -> ['Healthy', 'Average', 'Unhealthy']\n",
    "Air_Pollution_Exposure_level -> ['High', 'Medium', 'Low']\n",
    "Social_Engagement_Level -> ['High', 'Low', 'Medium']\n",
    "Income_Level -> ['High', 'Medium', 'Low']\n",
    "Stress_Levels -> ['High', 'Medium', 'Low']\n"
   ]
  },
  {
   "cell_type": "code",
   "execution_count": null,
   "metadata": {},
   "outputs": [
    {
     "name": "stdout",
     "output_type": "stream",
     "text": [
      "Ordered mặc định: False\n",
      "Categories ban đầu: Index(['High', 'Low', 'Medium'], dtype='object')\n"
     ]
    },
    {
     "data": {
      "text/plain": [
       "0    1\n",
       "1    0\n",
       "2    2\n",
       "3    1\n",
       "4    0\n",
       "5    2\n",
       "Name: Level_code, dtype: int8"
      ]
     },
     "execution_count": 2,
     "metadata": {},
     "output_type": "execute_result"
    }
   ],
   "source": [
    "import pandas as pd\n",
    "\n",
    "# Tạo DataFrame\n",
    "data = {\"Level\": [\"Medium\", \"Low\", \"High\", \"Medium\", \"Low\", \"High\"]}\n",
    "df = pd.DataFrame(data)\n",
    "\n",
    "# Chuyển cột 'Level' sang dạng category (mặc định ordered=False)\n",
    "df[\"Level\"] = df[\"Level\"].astype(\"category\")\n",
    "\n",
    "# Kiểm tra thuộc tính ordered\n",
    "print(\"Ordered mặc định:\", df[\"Level\"].cat.ordered)\n",
    "\n",
    "# In ra danh sách các category mặc định (không có thứ tự)\n",
    "print(\"Categories ban đầu:\", df[\"Level\"].cat.categories)\n",
    "\n",
    "# Thay đổi thứ tự category và đặt ordered=True\n",
    "df[\"Level\"] = df[\"Level\"].cat.reorder_categories(\n",
    "    [\"Low\", \"Medium\", \"High\"], ordered=True\n",
    ")\n",
    "\n",
    "# Mã hóa thành các số 0, 1, 2\n",
    "df[\"Level_code\"] = df[\"Level\"].cat.codes\n",
    "\n",
    "df[\"Level_code\"]\n"
   ]
  },
  {
   "cell_type": "code",
   "execution_count": null,
   "metadata": {},
   "outputs": [],
   "source": [
    "# Lấy chỉ mục của dữ liệu train và val\n",
    "train_idx, val_idx = list(trainval_splitter.split(df))[0]\n",
    "\n",
    "df_train = df.iloc[train_idx, :]\n",
    "df_val = df.iloc[val_idx, :]\n"
   ]
  },
  {
   "cell_type": "code",
   "execution_count": null,
   "metadata": {},
   "outputs": [
    {
     "name": "stderr",
     "output_type": "stream",
     "text": [
      "d:\\DA_workspace\\alzheimers_prediction\\venv\\lib\\site-packages\\sklearn\\model_selection\\_search.py:307: UserWarning: The total space of parameters 4 is smaller than n_iter=10. Running 4 iterations. For exhaustive searches, use GridSearchCV.\n",
      "  warnings.warn(\n",
      "d:\\DA_workspace\\alzheimers_prediction\\venv\\lib\\site-packages\\sklearn\\model_selection\\_validation.py:824: UserWarning: Scoring failed. The score on this train-test partition for these parameters will be set to nan. Details: \n",
      "Traceback (most recent call last):\n",
      "  File \"d:\\DA_workspace\\alzheimers_prediction\\venv\\lib\\site-packages\\sklearn\\model_selection\\_validation.py\", line 813, in _score\n",
      "    scores = scorer(estimator, X_test, y_test)\n",
      "  File \"d:\\DA_workspace\\alzheimers_prediction\\venv\\lib\\site-packages\\sklearn\\metrics\\_scorer.py\", line 266, in __call__\n",
      "    return self._score(partial(_cached_call, None), estimator, X, y_true, **_kwargs)\n",
      "  File \"d:\\DA_workspace\\alzheimers_prediction\\venv\\lib\\site-packages\\sklearn\\metrics\\_scorer.py\", line 452, in _score\n",
      "    raise ValueError(\"{0} format is not supported\".format(y_type))\n",
      "ValueError: multiclass format is not supported\n",
      "\n",
      "  warnings.warn(\n",
      "d:\\DA_workspace\\alzheimers_prediction\\venv\\lib\\site-packages\\sklearn\\model_selection\\_validation.py:824: UserWarning: Scoring failed. The score on this train-test partition for these parameters will be set to nan. Details: \n",
      "Traceback (most recent call last):\n",
      "  File \"d:\\DA_workspace\\alzheimers_prediction\\venv\\lib\\site-packages\\sklearn\\model_selection\\_validation.py\", line 813, in _score\n",
      "    scores = scorer(estimator, X_test, y_test)\n",
      "  File \"d:\\DA_workspace\\alzheimers_prediction\\venv\\lib\\site-packages\\sklearn\\metrics\\_scorer.py\", line 266, in __call__\n",
      "    return self._score(partial(_cached_call, None), estimator, X, y_true, **_kwargs)\n",
      "  File \"d:\\DA_workspace\\alzheimers_prediction\\venv\\lib\\site-packages\\sklearn\\metrics\\_scorer.py\", line 452, in _score\n",
      "    raise ValueError(\"{0} format is not supported\".format(y_type))\n",
      "ValueError: multiclass format is not supported\n",
      "\n",
      "  warnings.warn(\n",
      "d:\\DA_workspace\\alzheimers_prediction\\venv\\lib\\site-packages\\sklearn\\model_selection\\_validation.py:824: UserWarning: Scoring failed. The score on this train-test partition for these parameters will be set to nan. Details: \n",
      "Traceback (most recent call last):\n",
      "  File \"d:\\DA_workspace\\alzheimers_prediction\\venv\\lib\\site-packages\\sklearn\\model_selection\\_validation.py\", line 813, in _score\n",
      "    scores = scorer(estimator, X_test, y_test)\n",
      "  File \"d:\\DA_workspace\\alzheimers_prediction\\venv\\lib\\site-packages\\sklearn\\metrics\\_scorer.py\", line 266, in __call__\n",
      "    return self._score(partial(_cached_call, None), estimator, X, y_true, **_kwargs)\n",
      "  File \"d:\\DA_workspace\\alzheimers_prediction\\venv\\lib\\site-packages\\sklearn\\metrics\\_scorer.py\", line 452, in _score\n",
      "    raise ValueError(\"{0} format is not supported\".format(y_type))\n",
      "ValueError: multiclass format is not supported\n",
      "\n",
      "  warnings.warn(\n",
      "d:\\DA_workspace\\alzheimers_prediction\\venv\\lib\\site-packages\\sklearn\\model_selection\\_validation.py:824: UserWarning: Scoring failed. The score on this train-test partition for these parameters will be set to nan. Details: \n",
      "Traceback (most recent call last):\n",
      "  File \"d:\\DA_workspace\\alzheimers_prediction\\venv\\lib\\site-packages\\sklearn\\model_selection\\_validation.py\", line 813, in _score\n",
      "    scores = scorer(estimator, X_test, y_test)\n",
      "  File \"d:\\DA_workspace\\alzheimers_prediction\\venv\\lib\\site-packages\\sklearn\\metrics\\_scorer.py\", line 266, in __call__\n",
      "    return self._score(partial(_cached_call, None), estimator, X, y_true, **_kwargs)\n",
      "  File \"d:\\DA_workspace\\alzheimers_prediction\\venv\\lib\\site-packages\\sklearn\\metrics\\_scorer.py\", line 452, in _score\n",
      "    raise ValueError(\"{0} format is not supported\".format(y_type))\n",
      "ValueError: multiclass format is not supported\n",
      "\n",
      "  warnings.warn(\n",
      "d:\\DA_workspace\\alzheimers_prediction\\venv\\lib\\site-packages\\sklearn\\model_selection\\_validation.py:824: UserWarning: Scoring failed. The score on this train-test partition for these parameters will be set to nan. Details: \n",
      "Traceback (most recent call last):\n",
      "  File \"d:\\DA_workspace\\alzheimers_prediction\\venv\\lib\\site-packages\\sklearn\\model_selection\\_validation.py\", line 813, in _score\n",
      "    scores = scorer(estimator, X_test, y_test)\n",
      "  File \"d:\\DA_workspace\\alzheimers_prediction\\venv\\lib\\site-packages\\sklearn\\metrics\\_scorer.py\", line 266, in __call__\n",
      "    return self._score(partial(_cached_call, None), estimator, X, y_true, **_kwargs)\n",
      "  File \"d:\\DA_workspace\\alzheimers_prediction\\venv\\lib\\site-packages\\sklearn\\metrics\\_scorer.py\", line 452, in _score\n",
      "    raise ValueError(\"{0} format is not supported\".format(y_type))\n",
      "ValueError: multiclass format is not supported\n",
      "\n",
      "  warnings.warn(\n",
      "d:\\DA_workspace\\alzheimers_prediction\\venv\\lib\\site-packages\\sklearn\\model_selection\\_validation.py:824: UserWarning: Scoring failed. The score on this train-test partition for these parameters will be set to nan. Details: \n",
      "Traceback (most recent call last):\n",
      "  File \"d:\\DA_workspace\\alzheimers_prediction\\venv\\lib\\site-packages\\sklearn\\model_selection\\_validation.py\", line 813, in _score\n",
      "    scores = scorer(estimator, X_test, y_test)\n",
      "  File \"d:\\DA_workspace\\alzheimers_prediction\\venv\\lib\\site-packages\\sklearn\\metrics\\_scorer.py\", line 266, in __call__\n",
      "    return self._score(partial(_cached_call, None), estimator, X, y_true, **_kwargs)\n",
      "  File \"d:\\DA_workspace\\alzheimers_prediction\\venv\\lib\\site-packages\\sklearn\\metrics\\_scorer.py\", line 452, in _score\n",
      "    raise ValueError(\"{0} format is not supported\".format(y_type))\n",
      "ValueError: multiclass format is not supported\n",
      "\n",
      "  warnings.warn(\n",
      "d:\\DA_workspace\\alzheimers_prediction\\venv\\lib\\site-packages\\sklearn\\model_selection\\_validation.py:824: UserWarning: Scoring failed. The score on this train-test partition for these parameters will be set to nan. Details: \n",
      "Traceback (most recent call last):\n",
      "  File \"d:\\DA_workspace\\alzheimers_prediction\\venv\\lib\\site-packages\\sklearn\\model_selection\\_validation.py\", line 813, in _score\n",
      "    scores = scorer(estimator, X_test, y_test)\n",
      "  File \"d:\\DA_workspace\\alzheimers_prediction\\venv\\lib\\site-packages\\sklearn\\metrics\\_scorer.py\", line 266, in __call__\n",
      "    return self._score(partial(_cached_call, None), estimator, X, y_true, **_kwargs)\n",
      "  File \"d:\\DA_workspace\\alzheimers_prediction\\venv\\lib\\site-packages\\sklearn\\metrics\\_scorer.py\", line 452, in _score\n",
      "    raise ValueError(\"{0} format is not supported\".format(y_type))\n",
      "ValueError: multiclass format is not supported\n",
      "\n",
      "  warnings.warn(\n",
      "d:\\DA_workspace\\alzheimers_prediction\\venv\\lib\\site-packages\\sklearn\\model_selection\\_validation.py:824: UserWarning: Scoring failed. The score on this train-test partition for these parameters will be set to nan. Details: \n",
      "Traceback (most recent call last):\n",
      "  File \"d:\\DA_workspace\\alzheimers_prediction\\venv\\lib\\site-packages\\sklearn\\model_selection\\_validation.py\", line 813, in _score\n",
      "    scores = scorer(estimator, X_test, y_test)\n",
      "  File \"d:\\DA_workspace\\alzheimers_prediction\\venv\\lib\\site-packages\\sklearn\\metrics\\_scorer.py\", line 266, in __call__\n",
      "    return self._score(partial(_cached_call, None), estimator, X, y_true, **_kwargs)\n",
      "  File \"d:\\DA_workspace\\alzheimers_prediction\\venv\\lib\\site-packages\\sklearn\\metrics\\_scorer.py\", line 452, in _score\n",
      "    raise ValueError(\"{0} format is not supported\".format(y_type))\n",
      "ValueError: multiclass format is not supported\n",
      "\n",
      "  warnings.warn(\n",
      "d:\\DA_workspace\\alzheimers_prediction\\venv\\lib\\site-packages\\sklearn\\model_selection\\_validation.py:824: UserWarning: Scoring failed. The score on this train-test partition for these parameters will be set to nan. Details: \n",
      "Traceback (most recent call last):\n",
      "  File \"d:\\DA_workspace\\alzheimers_prediction\\venv\\lib\\site-packages\\sklearn\\model_selection\\_validation.py\", line 813, in _score\n",
      "    scores = scorer(estimator, X_test, y_test)\n",
      "  File \"d:\\DA_workspace\\alzheimers_prediction\\venv\\lib\\site-packages\\sklearn\\metrics\\_scorer.py\", line 266, in __call__\n",
      "    return self._score(partial(_cached_call, None), estimator, X, y_true, **_kwargs)\n",
      "  File \"d:\\DA_workspace\\alzheimers_prediction\\venv\\lib\\site-packages\\sklearn\\metrics\\_scorer.py\", line 452, in _score\n",
      "    raise ValueError(\"{0} format is not supported\".format(y_type))\n",
      "ValueError: multiclass format is not supported\n",
      "\n",
      "  warnings.warn(\n",
      "d:\\DA_workspace\\alzheimers_prediction\\venv\\lib\\site-packages\\sklearn\\model_selection\\_validation.py:824: UserWarning: Scoring failed. The score on this train-test partition for these parameters will be set to nan. Details: \n",
      "Traceback (most recent call last):\n",
      "  File \"d:\\DA_workspace\\alzheimers_prediction\\venv\\lib\\site-packages\\sklearn\\model_selection\\_validation.py\", line 813, in _score\n",
      "    scores = scorer(estimator, X_test, y_test)\n",
      "  File \"d:\\DA_workspace\\alzheimers_prediction\\venv\\lib\\site-packages\\sklearn\\metrics\\_scorer.py\", line 266, in __call__\n",
      "    return self._score(partial(_cached_call, None), estimator, X, y_true, **_kwargs)\n",
      "  File \"d:\\DA_workspace\\alzheimers_prediction\\venv\\lib\\site-packages\\sklearn\\metrics\\_scorer.py\", line 452, in _score\n",
      "    raise ValueError(\"{0} format is not supported\".format(y_type))\n",
      "ValueError: multiclass format is not supported\n",
      "\n",
      "  warnings.warn(\n",
      "d:\\DA_workspace\\alzheimers_prediction\\venv\\lib\\site-packages\\sklearn\\model_selection\\_validation.py:824: UserWarning: Scoring failed. The score on this train-test partition for these parameters will be set to nan. Details: \n",
      "Traceback (most recent call last):\n",
      "  File \"d:\\DA_workspace\\alzheimers_prediction\\venv\\lib\\site-packages\\sklearn\\model_selection\\_validation.py\", line 813, in _score\n",
      "    scores = scorer(estimator, X_test, y_test)\n",
      "  File \"d:\\DA_workspace\\alzheimers_prediction\\venv\\lib\\site-packages\\sklearn\\metrics\\_scorer.py\", line 266, in __call__\n",
      "    return self._score(partial(_cached_call, None), estimator, X, y_true, **_kwargs)\n",
      "  File \"d:\\DA_workspace\\alzheimers_prediction\\venv\\lib\\site-packages\\sklearn\\metrics\\_scorer.py\", line 452, in _score\n",
      "    raise ValueError(\"{0} format is not supported\".format(y_type))\n",
      "ValueError: multiclass format is not supported\n",
      "\n",
      "  warnings.warn(\n",
      "d:\\DA_workspace\\alzheimers_prediction\\venv\\lib\\site-packages\\sklearn\\model_selection\\_validation.py:824: UserWarning: Scoring failed. The score on this train-test partition for these parameters will be set to nan. Details: \n",
      "Traceback (most recent call last):\n",
      "  File \"d:\\DA_workspace\\alzheimers_prediction\\venv\\lib\\site-packages\\sklearn\\model_selection\\_validation.py\", line 813, in _score\n",
      "    scores = scorer(estimator, X_test, y_test)\n",
      "  File \"d:\\DA_workspace\\alzheimers_prediction\\venv\\lib\\site-packages\\sklearn\\metrics\\_scorer.py\", line 266, in __call__\n",
      "    return self._score(partial(_cached_call, None), estimator, X, y_true, **_kwargs)\n",
      "  File \"d:\\DA_workspace\\alzheimers_prediction\\venv\\lib\\site-packages\\sklearn\\metrics\\_scorer.py\", line 452, in _score\n",
      "    raise ValueError(\"{0} format is not supported\".format(y_type))\n",
      "ValueError: multiclass format is not supported\n",
      "\n",
      "  warnings.warn(\n",
      "d:\\DA_workspace\\alzheimers_prediction\\venv\\lib\\site-packages\\sklearn\\model_selection\\_validation.py:824: UserWarning: Scoring failed. The score on this train-test partition for these parameters will be set to nan. Details: \n",
      "Traceback (most recent call last):\n",
      "  File \"d:\\DA_workspace\\alzheimers_prediction\\venv\\lib\\site-packages\\sklearn\\model_selection\\_validation.py\", line 813, in _score\n",
      "    scores = scorer(estimator, X_test, y_test)\n",
      "  File \"d:\\DA_workspace\\alzheimers_prediction\\venv\\lib\\site-packages\\sklearn\\metrics\\_scorer.py\", line 266, in __call__\n",
      "    return self._score(partial(_cached_call, None), estimator, X, y_true, **_kwargs)\n",
      "  File \"d:\\DA_workspace\\alzheimers_prediction\\venv\\lib\\site-packages\\sklearn\\metrics\\_scorer.py\", line 452, in _score\n",
      "    raise ValueError(\"{0} format is not supported\".format(y_type))\n",
      "ValueError: multiclass format is not supported\n",
      "\n",
      "  warnings.warn(\n",
      "d:\\DA_workspace\\alzheimers_prediction\\venv\\lib\\site-packages\\sklearn\\model_selection\\_validation.py:824: UserWarning: Scoring failed. The score on this train-test partition for these parameters will be set to nan. Details: \n",
      "Traceback (most recent call last):\n",
      "  File \"d:\\DA_workspace\\alzheimers_prediction\\venv\\lib\\site-packages\\sklearn\\model_selection\\_validation.py\", line 813, in _score\n",
      "    scores = scorer(estimator, X_test, y_test)\n",
      "  File \"d:\\DA_workspace\\alzheimers_prediction\\venv\\lib\\site-packages\\sklearn\\metrics\\_scorer.py\", line 266, in __call__\n",
      "    return self._score(partial(_cached_call, None), estimator, X, y_true, **_kwargs)\n",
      "  File \"d:\\DA_workspace\\alzheimers_prediction\\venv\\lib\\site-packages\\sklearn\\metrics\\_scorer.py\", line 452, in _score\n",
      "    raise ValueError(\"{0} format is not supported\".format(y_type))\n",
      "ValueError: multiclass format is not supported\n",
      "\n",
      "  warnings.warn(\n",
      "d:\\DA_workspace\\alzheimers_prediction\\venv\\lib\\site-packages\\sklearn\\model_selection\\_validation.py:824: UserWarning: Scoring failed. The score on this train-test partition for these parameters will be set to nan. Details: \n",
      "Traceback (most recent call last):\n",
      "  File \"d:\\DA_workspace\\alzheimers_prediction\\venv\\lib\\site-packages\\sklearn\\model_selection\\_validation.py\", line 813, in _score\n",
      "    scores = scorer(estimator, X_test, y_test)\n",
      "  File \"d:\\DA_workspace\\alzheimers_prediction\\venv\\lib\\site-packages\\sklearn\\metrics\\_scorer.py\", line 266, in __call__\n",
      "    return self._score(partial(_cached_call, None), estimator, X, y_true, **_kwargs)\n",
      "  File \"d:\\DA_workspace\\alzheimers_prediction\\venv\\lib\\site-packages\\sklearn\\metrics\\_scorer.py\", line 452, in _score\n",
      "    raise ValueError(\"{0} format is not supported\".format(y_type))\n",
      "ValueError: multiclass format is not supported\n",
      "\n",
      "  warnings.warn(\n",
      "d:\\DA_workspace\\alzheimers_prediction\\venv\\lib\\site-packages\\sklearn\\model_selection\\_validation.py:824: UserWarning: Scoring failed. The score on this train-test partition for these parameters will be set to nan. Details: \n",
      "Traceback (most recent call last):\n",
      "  File \"d:\\DA_workspace\\alzheimers_prediction\\venv\\lib\\site-packages\\sklearn\\model_selection\\_validation.py\", line 813, in _score\n",
      "    scores = scorer(estimator, X_test, y_test)\n",
      "  File \"d:\\DA_workspace\\alzheimers_prediction\\venv\\lib\\site-packages\\sklearn\\metrics\\_scorer.py\", line 266, in __call__\n",
      "    return self._score(partial(_cached_call, None), estimator, X, y_true, **_kwargs)\n",
      "  File \"d:\\DA_workspace\\alzheimers_prediction\\venv\\lib\\site-packages\\sklearn\\metrics\\_scorer.py\", line 452, in _score\n",
      "    raise ValueError(\"{0} format is not supported\".format(y_type))\n",
      "ValueError: multiclass format is not supported\n",
      "\n",
      "  warnings.warn(\n",
      "d:\\DA_workspace\\alzheimers_prediction\\venv\\lib\\site-packages\\sklearn\\model_selection\\_validation.py:824: UserWarning: Scoring failed. The score on this train-test partition for these parameters will be set to nan. Details: \n",
      "Traceback (most recent call last):\n",
      "  File \"d:\\DA_workspace\\alzheimers_prediction\\venv\\lib\\site-packages\\sklearn\\model_selection\\_validation.py\", line 813, in _score\n",
      "    scores = scorer(estimator, X_test, y_test)\n",
      "  File \"d:\\DA_workspace\\alzheimers_prediction\\venv\\lib\\site-packages\\sklearn\\metrics\\_scorer.py\", line 266, in __call__\n",
      "    return self._score(partial(_cached_call, None), estimator, X, y_true, **_kwargs)\n",
      "  File \"d:\\DA_workspace\\alzheimers_prediction\\venv\\lib\\site-packages\\sklearn\\metrics\\_scorer.py\", line 452, in _score\n",
      "    raise ValueError(\"{0} format is not supported\".format(y_type))\n",
      "ValueError: multiclass format is not supported\n",
      "\n",
      "  warnings.warn(\n"
     ]
    },
    {
     "name": "stdout",
     "output_type": "stream",
     "text": [
      "Best Estimator: RandomForestClassifier(max_depth=2, n_estimators=10)\n",
      "Train Score: 0.9416666666666667\n",
      "Validation Score: 1.0\n"
     ]
    },
    {
     "name": "stderr",
     "output_type": "stream",
     "text": [
      "d:\\DA_workspace\\alzheimers_prediction\\venv\\lib\\site-packages\\sklearn\\model_selection\\_validation.py:824: UserWarning: Scoring failed. The score on this train-test partition for these parameters will be set to nan. Details: \n",
      "Traceback (most recent call last):\n",
      "  File \"d:\\DA_workspace\\alzheimers_prediction\\venv\\lib\\site-packages\\sklearn\\model_selection\\_validation.py\", line 813, in _score\n",
      "    scores = scorer(estimator, X_test, y_test)\n",
      "  File \"d:\\DA_workspace\\alzheimers_prediction\\venv\\lib\\site-packages\\sklearn\\metrics\\_scorer.py\", line 266, in __call__\n",
      "    return self._score(partial(_cached_call, None), estimator, X, y_true, **_kwargs)\n",
      "  File \"d:\\DA_workspace\\alzheimers_prediction\\venv\\lib\\site-packages\\sklearn\\metrics\\_scorer.py\", line 452, in _score\n",
      "    raise ValueError(\"{0} format is not supported\".format(y_type))\n",
      "ValueError: multiclass format is not supported\n",
      "\n",
      "  warnings.warn(\n",
      "d:\\DA_workspace\\alzheimers_prediction\\venv\\lib\\site-packages\\sklearn\\model_selection\\_validation.py:824: UserWarning: Scoring failed. The score on this train-test partition for these parameters will be set to nan. Details: \n",
      "Traceback (most recent call last):\n",
      "  File \"d:\\DA_workspace\\alzheimers_prediction\\venv\\lib\\site-packages\\sklearn\\model_selection\\_validation.py\", line 813, in _score\n",
      "    scores = scorer(estimator, X_test, y_test)\n",
      "  File \"d:\\DA_workspace\\alzheimers_prediction\\venv\\lib\\site-packages\\sklearn\\metrics\\_scorer.py\", line 266, in __call__\n",
      "    return self._score(partial(_cached_call, None), estimator, X, y_true, **_kwargs)\n",
      "  File \"d:\\DA_workspace\\alzheimers_prediction\\venv\\lib\\site-packages\\sklearn\\metrics\\_scorer.py\", line 452, in _score\n",
      "    raise ValueError(\"{0} format is not supported\".format(y_type))\n",
      "ValueError: multiclass format is not supported\n",
      "\n",
      "  warnings.warn(\n",
      "d:\\DA_workspace\\alzheimers_prediction\\venv\\lib\\site-packages\\sklearn\\model_selection\\_validation.py:824: UserWarning: Scoring failed. The score on this train-test partition for these parameters will be set to nan. Details: \n",
      "Traceback (most recent call last):\n",
      "  File \"d:\\DA_workspace\\alzheimers_prediction\\venv\\lib\\site-packages\\sklearn\\model_selection\\_validation.py\", line 813, in _score\n",
      "    scores = scorer(estimator, X_test, y_test)\n",
      "  File \"d:\\DA_workspace\\alzheimers_prediction\\venv\\lib\\site-packages\\sklearn\\metrics\\_scorer.py\", line 266, in __call__\n",
      "    return self._score(partial(_cached_call, None), estimator, X, y_true, **_kwargs)\n",
      "  File \"d:\\DA_workspace\\alzheimers_prediction\\venv\\lib\\site-packages\\sklearn\\metrics\\_scorer.py\", line 452, in _score\n",
      "    raise ValueError(\"{0} format is not supported\".format(y_type))\n",
      "ValueError: multiclass format is not supported\n",
      "\n",
      "  warnings.warn(\n",
      "d:\\DA_workspace\\alzheimers_prediction\\venv\\lib\\site-packages\\sklearn\\model_selection\\_search.py:976: UserWarning: One or more of the test scores are non-finite: [nan nan nan nan]\n",
      "  warnings.warn(\n"
     ]
    }
   ],
   "source": [
    "from sklearn.model_selection import RandomizedSearchCV\n",
    "from sklearn.ensemble import RandomForestClassifier\n",
    "from sklearn.datasets import load_iris\n",
    "from sklearn.model_selection import train_test_split\n",
    "\n",
    "# Tải dữ liệu\n",
    "data = load_iris()\n",
    "X = data.data\n",
    "y = data.target\n",
    "\n",
    "# Chia dữ liệu thành train và test\n",
    "X_train, X_val, y_train, y_val = train_test_split(X, y, test_size=0.2, random_state=42)\n",
    "\n",
    "# Khởi tạo mô hình và tham số để tìm kiếm\n",
    "rf = RandomForestClassifier()\n",
    "param_dist = {\n",
    "    \"n_estimators\": [10, 50],\n",
    "    \"max_depth\": [2, 1],\n",
    "}\n",
    "\n",
    "random_search = RandomizedSearchCV(\n",
    "    rf,\n",
    "    param_distributions=param_dist,\n",
    "    n_iter=10,\n",
    "    cv=5,\n",
    "    random_state=42,\n",
    "    scoring=\"accuracy\",\n",
    ")\n",
    "random_search.fit(X_train, y_train)\n",
    "best_model = random_search.best_estimator_\n",
    "\n",
    "# Tính toán train score (điểm trên tập train)\n",
    "train_score = best_model.score(X_train, y_train)\n",
    "\n",
    "# Tính toán validation score (điểm trên tập validation)\n",
    "val_score = best_model.score(X_val, y_val)\n",
    "\n",
    "# In kết quả\n",
    "print(f\"Best Estimator: {best_model}\")\n",
    "print(f\"Train Score: {train_score}\")\n",
    "print(f\"Validation Score: {val_score}\")\n"
   ]
  },
  {
   "cell_type": "markdown",
   "metadata": {},
   "source": [
    "Y nghia cac cot\n",
    "\n",
    "| Cot            | Y nghia                                       | Don vi |\n",
    "| -------------- | --------------------------------------------- | ------ |\n",
    "| Gender         | Gioi tinh                                     | None   |\n",
    "| Age            | Tuoi tac                                      | None   |\n",
    "| Height         | Chieu cao                                     | m      |\n",
    "| Weight         | Can nang                                      | kg     |\n",
    "| family_history | Tien su gia dinh co nguoi bi beo phi chua     | none   |\n",
    "| FAVC           | Co an do nhieu calo thuong xuyen              | none   |\n",
    "| FCVC           | Thoi quen an rau khong                        | none   |\n",
    "| NCP            | Co bao nhieu bua an chinh                     | none   |\n",
    "| CAEC           | Co an thuc an giua cac buoi an                | none   |\n",
    "| SMOKE          | Co hut thuoc khong                            | none   |\n",
    "| CH2O           | Luong nuoc uong moi ngay                      | lit    |\n",
    "| SCC            | Ban co theo doi luong calo tieu thu hang ngay | none   |\n",
    "| FAF            | Bao lau ban tap the duc                       | none   |\n",
    "| TUE            | Ban su dung thiet bi cong nghe trong bao lau  | gio    |\n",
    "| CALC           | Thoi quen uong ruou                           | none   |\n",
    "| MTRANS         | Phuong tien nao hay su dung                   | none   |\n",
    "| Obesity        | Cot target, muc do beo phi                    | none   |\n"
   ]
  },
  {
   "cell_type": "code",
   "execution_count": null,
   "metadata": {},
   "outputs": [],
   "source": [
    "categorical_cols = [\n",
    "    \"Gender\",\n",
    "    \"family_history\",\n",
    "    \"do_eat_highcalo_food_frequently\",\n",
    "    \"do_eat_between_meals\",\n",
    "    \"do_smoke\",\n",
    "    \"do_monitor_consumed_calo_everyday\",\n",
    "    \"drink_frequency\",\n",
    "    \"transport_frequently_used\",\n",
    "    \"Obesity\",\n",
    "]\n"
   ]
  },
  {
   "cell_type": "code",
   "execution_count": null,
   "metadata": {},
   "outputs": [],
   "source": [
    "X = X.replace(\n",
    "    {\n",
    "        \"Obesity_Type_II\": \"Obesity\",\n",
    "        \"Obesity_Type_III\": \"Obesity\",\n",
    "        \"Obesity_Type_I\": \"Obesity\",\n",
    "    }\n",
    ")\n"
   ]
  },
  {
   "cell_type": "code",
   "execution_count": null,
   "metadata": {},
   "outputs": [],
   "source": [
    "a = [\"hello\", \"hi\", \"thanks\"]\n"
   ]
  },
  {
   "cell_type": "markdown",
   "metadata": {},
   "source": [
    "Y nghia cac cot\n",
    "\n",
    "| Cot           | Y nghia                                              | Don vi |\n",
    "| ------------- | ---------------------------------------------------- | ------ |\n",
    "| battery_power | tong nang luong ma pin co the luu tru                | mAh    |\n",
    "| blue          | co bluetooth hoac khong                              | none   |\n",
    "| clock_speed   | toc do vi xu li thuc hien tac vu                     | none   |\n",
    "| dual_sim      | co tinh nang dual sim hay khong                      | none   |\n",
    "| fc            | Số megapixels của camera trước                       | none   |\n",
    "| four_g        | co 4G hay khong                                      | none   |\n",
    "| int_memory    | dung luong bo nho trong                              | GB     |\n",
    "| m_dep         | do day cua dien thoai                                | cm     |\n",
    "| mobile_wt     | trong luong cua dien thoai                           | none   |\n",
    "| n_cores       | Số lõi (cores) của bộ vi xử lý                       | none   |\n",
    "| pc            | Số megapixels của camera chinh                       | none   |\n",
    "| px_height     | Chiều cao độ phân giải điểm ảnh                      | none   |\n",
    "| px_width      | Chiều rong độ phân giải điểm ảnh                     | none   |\n",
    "| ram           | dung luong bo nho RAM                                | MB     |\n",
    "| sc_h          | chieu cao man hinh dien thoai                        | cm     |\n",
    "| sc_w          | chieu rong man hinh dien thoai                       | cm     |\n",
    "| talk_time     | thời gian lâu nhất mà một lần sạc pin có thể kéo dài | none   |\n",
    "| three_g       | co 3G hoac khong                                     | none   |\n",
    "| touch_screen  | co man hinh cam ung hay khong                        | none   |\n",
    "| wifi          | co wifi hay khong                                    | none   |\n",
    "| price_range   | bien muc tieu                                        | none   |\n"
   ]
  },
  {
   "cell_type": "markdown",
   "metadata": {},
   "source": [
    "Y nghia cac cot\n",
    "\n",
    "| Cot                           | Y nghia                                              | Don vi |\n",
    "| ----------------------------- | ---------------------------------------------------- | ------ |\n",
    "| battery_power                 | tong nang luong ma pin co the luu tru                | mAh    |\n",
    "| do_have_bluetooth             | co bluetooth hoac khong                              | none   |\n",
    "| microprocessor_handling_speed | toc do vi xu li thuc hien tac vu                     | none   |\n",
    "| do_have_dual_sim              | co tinh nang dual sim hay khong                      | none   |\n",
    "| megapixels_front_cam          | Số megapixels của camera trước                       | none   |\n",
    "| do_have_four_g                | co 4G hay khong                                      | none   |\n",
    "| int_memory                    | dung luong bo nho trong                              | GB     |\n",
    "| mobile_depth                  | do day cua dien thoai                                | cm     |\n",
    "| mobile_wt                     | trong luong cua dien thoai                           | none   |\n",
    "| n_cores                       | Số lõi (cores) của bộ vi xử lý                       | none   |\n",
    "| megapixels_primary_cam        | Số megapixels của camera chinh                       | none   |\n",
    "| px_height                     | Chiều cao độ phân giải điểm ảnh                      | none   |\n",
    "| px_width                      | Chiều rong độ phân giải điểm ảnh                     | none   |\n",
    "| ram_memory                    | dung luong bo nho RAM                                | MB     |\n",
    "| sc_height                     | chieu cao man hinh dien thoai                        | cm     |\n",
    "| sc_width                      | chieu rong man hinh dien thoai                       | cm     |\n",
    "| longest_charging_time         | thời gian lâu nhất mà một lần sạc pin có thể kéo dài | none   |\n",
    "| do_have_three_g               | co 3G hoac khong                                     | none   |\n",
    "| do_have_touch_screen          | co man hinh cam ung hay khong                        | none   |\n",
    "| do_have_wifi                  | co wifi hay khong                                    | none   |\n",
    "| price_range                   | bien muc tieu                                        | none   |\n"
   ]
  },
  {
   "cell_type": "markdown",
   "metadata": {},
   "source": [
    "<class 'pandas.core.frame.DataFrame'>\n",
    "RangeIndex: 2000 entries, 0 to 1999\n",
    "Data columns (total 21 columns):\n",
    "\n",
    "# Column Non-Null Count Dtype\n",
    "\n",
    "---\n",
    "\n",
    "0 battery_power 2000 non-null int64  \n",
    " 1 microprocessor_handling_speed 2000 non-null float64\n",
    "2 megapixels_front_cam 2000 non-null int64  \n",
    " 3 int_memory 2000 non-null int64  \n",
    " 4 mobile_depth 2000 non-null float64\n",
    "5 mobile_wt 2000 non-null int64  \n",
    " 6 n_cores 2000 non-null int64  \n",
    " 7 megapixels_primary_cam 2000 non-null int64  \n",
    " 8 px_height 2000 non-null int64  \n",
    " 9 px_width 2000 non-null int64  \n",
    " 10 ram_memory 2000 non-null int64  \n",
    " 11 sc_height 2000 non-null int64  \n",
    " 12 sc_width 2000 non-null int64  \n",
    " 13 longest_charging_time 2000 non-null int64  \n",
    " 14 do_have_bluetooth 2000 non-null int64  \n",
    " 15 do_have_dual_sim 2000 non-null int64  \n",
    " 16 do_have_four_g 2000 non-null int64  \n",
    " 17 do_have_three_g 2000 non-null int64  \n",
    " 18 do_have_touch_screen 2000 non-null int64  \n",
    " 19 do_have_wifi 2000 non-null int64  \n",
    " 20 price_range 2000 non-null int64  \n",
    "dtypes: float64(2), int64(19)\n",
    "memory usage: 328.2 KB\n"
   ]
  },
  {
   "cell_type": "markdown",
   "metadata": {},
   "source": [
    "SAI kieu du lieu\n",
    "\n",
    "- battery_power: float\n",
    "- megapixels_front_cam: float\n",
    "- int_memory: float\n",
    "- mobile_wt: float\n",
    "- n_cores: float\n",
    "- megapixels_primary_cam: float\n",
    "- px_height: float\n",
    "- px_width: float\n",
    "- ram_memory: float\n",
    "- sc_height: float\n",
    "- sc_width: float\n",
    "- longest_charging_time: float\n",
    "- do_have_bluetooth: float\n",
    "- do_have_dual_sim: float\n",
    "- do_have_four_g: float\n",
    "- do_have_three_g: float\n",
    "- do_have_touch_screen: float\n",
    "- do_have_wifi: float\n",
    "- price_range: category\n"
   ]
  },
  {
   "cell_type": "code",
   "execution_count": null,
   "metadata": {},
   "outputs": [
    {
     "data": {
      "text/html": [
       "<div>\n",
       "<style scoped>\n",
       "    .dataframe tbody tr th:only-of-type {\n",
       "        vertical-align: middle;\n",
       "    }\n",
       "\n",
       "    .dataframe tbody tr th {\n",
       "        vertical-align: top;\n",
       "    }\n",
       "\n",
       "    .dataframe thead th {\n",
       "        text-align: right;\n",
       "    }\n",
       "</style>\n",
       "<table border=\"1\" class=\"dataframe\">\n",
       "  <thead>\n",
       "    <tr style=\"text-align: right;\">\n",
       "      <th></th>\n",
       "      <th>hello</th>\n",
       "      <th>chao_buoi_sang</th>\n",
       "      <th>chao_buoi_chieu</th>\n",
       "      <th>hello^2</th>\n",
       "      <th>hello chao_buoi_sang</th>\n",
       "      <th>hello chao_buoi_chieu</th>\n",
       "      <th>chao_buoi_sang^2</th>\n",
       "      <th>chao_buoi_sang chao_buoi_chieu</th>\n",
       "      <th>chao_buoi_chieu^2</th>\n",
       "    </tr>\n",
       "  </thead>\n",
       "  <tbody>\n",
       "    <tr>\n",
       "      <th>0</th>\n",
       "      <td>1.0</td>\n",
       "      <td>4.0</td>\n",
       "      <td>7.0</td>\n",
       "      <td>1.0</td>\n",
       "      <td>4.0</td>\n",
       "      <td>7.0</td>\n",
       "      <td>16.0</td>\n",
       "      <td>28.0</td>\n",
       "      <td>49.0</td>\n",
       "    </tr>\n",
       "    <tr>\n",
       "      <th>1</th>\n",
       "      <td>2.0</td>\n",
       "      <td>5.0</td>\n",
       "      <td>8.0</td>\n",
       "      <td>4.0</td>\n",
       "      <td>10.0</td>\n",
       "      <td>16.0</td>\n",
       "      <td>25.0</td>\n",
       "      <td>40.0</td>\n",
       "      <td>64.0</td>\n",
       "    </tr>\n",
       "    <tr>\n",
       "      <th>2</th>\n",
       "      <td>3.0</td>\n",
       "      <td>6.0</td>\n",
       "      <td>9.0</td>\n",
       "      <td>9.0</td>\n",
       "      <td>18.0</td>\n",
       "      <td>27.0</td>\n",
       "      <td>36.0</td>\n",
       "      <td>54.0</td>\n",
       "      <td>81.0</td>\n",
       "    </tr>\n",
       "  </tbody>\n",
       "</table>\n",
       "</div>"
      ],
      "text/plain": [
       "   hello  chao_buoi_sang  chao_buoi_chieu  hello^2  hello chao_buoi_sang  \\\n",
       "0    1.0             4.0              7.0      1.0                   4.0   \n",
       "1    2.0             5.0              8.0      4.0                  10.0   \n",
       "2    3.0             6.0              9.0      9.0                  18.0   \n",
       "\n",
       "   hello chao_buoi_chieu  chao_buoi_sang^2  chao_buoi_sang chao_buoi_chieu  \\\n",
       "0                    7.0              16.0                            28.0   \n",
       "1                   16.0              25.0                            40.0   \n",
       "2                   27.0              36.0                            54.0   \n",
       "\n",
       "   chao_buoi_chieu^2  \n",
       "0               49.0  \n",
       "1               64.0  \n",
       "2               81.0  "
      ]
     },
     "execution_count": 4,
     "metadata": {},
     "output_type": "execute_result"
    }
   ],
   "source": [
    "import numpy as np\n",
    "import pandas as pd\n",
    "from sklearn.preprocessing import PolynomialFeatures\n",
    "\n",
    "# Tạo DataFrame mẫu\n",
    "X = pd.DataFrame(\n",
    "    {\"hello\": [1, 2, 3], \"chao_buoi_sang\": [4, 5, 6], \"chao_buoi_chieu\": [7, 8, 9]}\n",
    ")\n",
    "\n",
    "# Khởi tạo PolynomialFeatures (bậc 2)\n",
    "poly = PolynomialFeatures(degree=2, include_bias=False)\n",
    "X_poly = poly.fit_transform(X)\n",
    "\n",
    "# Lấy tên cột mới sau khi transform\n",
    "feature_names = poly.get_feature_names_out()\n",
    "\n",
    "# Tạo DataFrame mới với tên cột đã được cập nhật\n",
    "X_poly_df = pd.DataFrame(X_poly, columns=feature_names)\n",
    "\n",
    "X_poly_df\n"
   ]
  },
  {
   "cell_type": "code",
   "execution_count": null,
   "metadata": {},
   "outputs": [],
   "source": [
    "column_preprocessor = ColumnTransformer(\n",
    "    transformers=[\n",
    "        (\"num\", StandardScaler(), NUMERIC_COLS),\n",
    "        (\"binary\", StandardScaler(), BINARY_TYPE_COLS),\n",
    "    ]\n",
    ")\n",
    "\n",
    "preprocessor = Pipeline(\n",
    "    steps=[\n",
    "        (\"column_preprocessor\", column_preprocessor),\n",
    "        (\"poly\", PolynomialFeatures(degree=2, include_bias=False)),\n",
    "    ]\n",
    ")\n",
    "\n",
    "X_poly = preprocessor.fit_transform(X)\n",
    "\n",
    "# Lấy tên cột mới sau khi transform\n",
    "feature_names = preprocessor.get_feature_names_out()\n",
    "\n",
    "# Tạo DataFrame mới với tên cột đã được cập nhật\n",
    "X_poly_df = pd.DataFrame(X_poly, columns=feature_names)\n"
   ]
  },
  {
   "cell_type": "code",
   "execution_count": null,
   "metadata": {},
   "outputs": [],
   "source": [
    "preprocessor = Pipeline(\n",
    "    steps=[\n",
    "        (\"column_preprocessor\", NamedColumnTransformer(column_preprocessor)),\n",
    "        (\n",
    "            \"poly\",\n",
    "            NamedPolynomialFeatures(PolynomialFeatures(degree=2, include_bias=False)),\n",
    "        ),\n",
    "        (\"deleter\", ColumnDeleter()),\n",
    "    ]\n",
    ")\n"
   ]
  },
  {
   "cell_type": "code",
   "execution_count": null,
   "metadata": {},
   "outputs": [],
   "source": [
    "randint(a, b + 1)\n"
   ]
  },
  {
   "cell_type": "code",
   "execution_count": null,
   "metadata": {},
   "outputs": [
    {
     "name": "stdout",
     "output_type": "stream",
     "text": [
      "Fitting 5 folds for each of 10 candidates, totalling 50 fits\n",
      "[CV] END ......................max_depth=9, n_estimators=180; total time=   0.2s\n",
      "[CV] END ......................max_depth=9, n_estimators=180; total time=   0.1s\n",
      "[CV] END ......................max_depth=9, n_estimators=180; total time=   0.1s\n",
      "[CV] END ......................max_depth=9, n_estimators=180; total time=   0.1s\n",
      "[CV] END ......................max_depth=9, n_estimators=180; total time=   0.1s\n",
      "[CV] END ......................max_depth=24, n_estimators=90; total time=   0.0s\n",
      "[CV] END ......................max_depth=24, n_estimators=90; total time=   0.0s\n",
      "[CV] END ......................max_depth=24, n_estimators=90; total time=   0.0s\n",
      "[CV] END ......................max_depth=24, n_estimators=90; total time=   0.0s\n",
      "[CV] END ......................max_depth=24, n_estimators=90; total time=   0.0s\n",
      "[CV] END .....................max_depth=18, n_estimators=100; total time=   0.0s\n",
      "[CV] END .....................max_depth=18, n_estimators=100; total time=   0.0s\n",
      "[CV] END .....................max_depth=18, n_estimators=100; total time=   0.0s\n",
      "[CV] END .....................max_depth=18, n_estimators=100; total time=   0.0s\n",
      "[CV] END .....................max_depth=18, n_estimators=100; total time=   0.0s\n",
      "[CV] END .....................max_depth=12, n_estimators=140; total time=   0.0s\n",
      "[CV] END .....................max_depth=12, n_estimators=140; total time=   0.0s\n",
      "[CV] END .....................max_depth=12, n_estimators=140; total time=   0.0s\n",
      "[CV] END .....................max_depth=12, n_estimators=140; total time=   0.0s\n",
      "[CV] END .....................max_depth=12, n_estimators=140; total time=   0.0s\n",
      "[CV] END .....................max_depth=30, n_estimators=120; total time=   0.0s\n",
      "[CV] END .....................max_depth=30, n_estimators=120; total time=   0.0s\n",
      "[CV] END .....................max_depth=30, n_estimators=120; total time=   0.0s\n",
      "[CV] END .....................max_depth=30, n_estimators=120; total time=   0.0s\n",
      "[CV] END .....................max_depth=30, n_estimators=120; total time=   0.0s\n",
      "[CV] END .....................max_depth=30, n_estimators=190; total time=   0.1s\n",
      "[CV] END .....................max_depth=30, n_estimators=190; total time=   0.1s\n",
      "[CV] END .....................max_depth=30, n_estimators=190; total time=   0.1s\n",
      "[CV] END .....................max_depth=30, n_estimators=190; total time=   0.1s\n",
      "[CV] END .....................max_depth=30, n_estimators=190; total time=   0.1s\n",
      "[CV] END .....................max_depth=24, n_estimators=160; total time=   0.1s\n",
      "[CV] END .....................max_depth=24, n_estimators=160; total time=   0.1s\n",
      "[CV] END .....................max_depth=24, n_estimators=160; total time=   0.1s\n",
      "[CV] END .....................max_depth=24, n_estimators=160; total time=   0.0s\n",
      "[CV] END .....................max_depth=24, n_estimators=160; total time=   0.1s\n",
      "[CV] END .....................max_depth=12, n_estimators=100; total time=   0.0s\n",
      "[CV] END .....................max_depth=12, n_estimators=100; total time=   0.0s\n",
      "[CV] END .....................max_depth=12, n_estimators=100; total time=   0.0s\n",
      "[CV] END .....................max_depth=12, n_estimators=100; total time=   0.0s\n",
      "[CV] END .....................max_depth=12, n_estimators=100; total time=   0.0s\n",
      "[CV] END ......................max_depth=9, n_estimators=160; total time=   0.1s\n",
      "[CV] END ......................max_depth=9, n_estimators=160; total time=   0.1s\n",
      "[CV] END ......................max_depth=9, n_estimators=160; total time=   0.0s\n",
      "[CV] END ......................max_depth=9, n_estimators=160; total time=   0.1s\n",
      "[CV] END ......................max_depth=9, n_estimators=160; total time=   0.1s\n",
      "[CV] END .....................max_depth=12, n_estimators=110; total time=   0.0s\n",
      "[CV] END .....................max_depth=12, n_estimators=110; total time=   0.0s\n",
      "[CV] END .....................max_depth=12, n_estimators=110; total time=   0.0s\n",
      "[CV] END .....................max_depth=12, n_estimators=110; total time=   0.0s\n",
      "[CV] END .....................max_depth=12, n_estimators=110; total time=   0.0s\n",
      "Best parameters: {'n_estimators': 140, 'max_depth': 12}\n"
     ]
    }
   ],
   "source": [
    "from sklearn.model_selection import RandomizedSearchCV\n",
    "from sklearn.ensemble import RandomForestClassifier\n",
    "from scipy.stats import randint\n",
    "import numpy as np\n",
    "\n",
    "# Tạo mô hình\n",
    "model = RandomForestClassifier()\n",
    "\n",
    "# Định nghĩa tham số với số bước nhảy 3 đơn vị\n",
    "param_distributions = {\n",
    "    \"max_depth\": randint(10 // 3, (30 // 3) + 1).rvs(size=100) * 3,\n",
    "    \"n_estimators\": randint(50 // 10, 200 // 10 + 1).rvs(size=100)\n",
    "    * 10,  # Một tham số khác ví dụ\n",
    "}\n",
    "\n",
    "# Khởi tạo RandomizedSearchCV\n",
    "random_search = RandomizedSearchCV(\n",
    "    model, param_distributions, n_iter=10, cv=5, random_state=42, verbose=2\n",
    ")\n",
    "random_search.fit(\n",
    "    np.random.rand(100, 5), np.random.randint(0, 2, 100)\n",
    ")  # Dữ liệu giả lập\n",
    "\n",
    "# Hiển thị kết quả tốt nhất\n",
    "print(\"Best parameters:\", random_search.best_params_)\n"
   ]
  },
  {
   "cell_type": "code",
   "execution_count": null,
   "metadata": {},
   "outputs": [
    {
     "name": "stdout",
     "output_type": "stream",
     "text": [
      "Fitting 5 folds for each of 10 candidates, totalling 50 fits\n",
      "[CV] END ...............learning_rate=0.11, n_estimators=190; total time=   0.1s\n",
      "[CV] END ...............learning_rate=0.11, n_estimators=190; total time=   0.1s\n",
      "[CV] END ...............learning_rate=0.11, n_estimators=190; total time=   0.0s\n",
      "[CV] END ...............learning_rate=0.11, n_estimators=190; total time=   0.0s\n",
      "[CV] END ...............learning_rate=0.11, n_estimators=190; total time=   0.0s\n",
      "[CV] END ...............learning_rate=0.81, n_estimators=140; total time=   0.0s\n",
      "[CV] END ...............learning_rate=0.81, n_estimators=140; total time=   0.0s\n",
      "[CV] END ...............learning_rate=0.81, n_estimators=140; total time=   0.0s\n",
      "[CV] END ...............learning_rate=0.81, n_estimators=140; total time=   0.0s\n",
      "[CV] END ...............learning_rate=0.81, n_estimators=140; total time=   0.0s\n",
      "[CV] END learning_rate=0.41000000000000003, n_estimators=100; total time=   0.0s\n",
      "[CV] END learning_rate=0.41000000000000003, n_estimators=100; total time=   0.0s\n",
      "[CV] END learning_rate=0.41000000000000003, n_estimators=100; total time=   0.0s\n",
      "[CV] END learning_rate=0.41000000000000003, n_estimators=100; total time=   0.0s\n",
      "[CV] END learning_rate=0.41000000000000003, n_estimators=100; total time=   0.0s\n",
      "[CV] END ...............learning_rate=0.91, n_estimators=200; total time=   0.0s\n",
      "[CV] END ...............learning_rate=0.91, n_estimators=200; total time=   0.0s\n",
      "[CV] END ...............learning_rate=0.91, n_estimators=200; total time=   0.0s\n",
      "[CV] END ...............learning_rate=0.91, n_estimators=200; total time=   0.0s\n",
      "[CV] END ...............learning_rate=0.91, n_estimators=200; total time=   0.0s\n",
      "[CV] END learning_rate=0.21000000000000002, n_estimators=280; total time=   0.1s\n",
      "[CV] END learning_rate=0.21000000000000002, n_estimators=280; total time=   0.1s\n",
      "[CV] END learning_rate=0.21000000000000002, n_estimators=280; total time=   0.1s\n",
      "[CV] END learning_rate=0.21000000000000002, n_estimators=280; total time=   0.1s\n",
      "[CV] END learning_rate=0.21000000000000002, n_estimators=280; total time=   0.1s\n",
      "[CV] END .learning_rate=0.7100000000000001, n_estimators=180; total time=   0.0s\n",
      "[CV] END .learning_rate=0.7100000000000001, n_estimators=180; total time=   0.0s\n",
      "[CV] END .learning_rate=0.7100000000000001, n_estimators=180; total time=   0.0s\n",
      "[CV] END .learning_rate=0.7100000000000001, n_estimators=180; total time=   0.0s\n",
      "[CV] END .learning_rate=0.7100000000000001, n_estimators=180; total time=   0.0s\n",
      "[CV] END learning_rate=0.21000000000000002, n_estimators=130; total time=   0.0s\n",
      "[CV] END learning_rate=0.21000000000000002, n_estimators=130; total time=   0.0s\n",
      "[CV] END learning_rate=0.21000000000000002, n_estimators=130; total time=   0.0s\n",
      "[CV] END learning_rate=0.21000000000000002, n_estimators=130; total time=   0.0s\n",
      "[CV] END learning_rate=0.21000000000000002, n_estimators=130; total time=   0.0s\n",
      "[CV] END ...............learning_rate=0.81, n_estimators=240; total time=   0.0s\n",
      "[CV] END ...............learning_rate=0.81, n_estimators=240; total time=   0.1s\n",
      "[CV] END ...............learning_rate=0.81, n_estimators=240; total time=   0.0s\n",
      "[CV] END ...............learning_rate=0.81, n_estimators=240; total time=   0.1s\n",
      "[CV] END ...............learning_rate=0.81, n_estimators=240; total time=   0.1s\n",
      "[CV] END ...............learning_rate=0.01, n_estimators=190; total time=   0.0s\n",
      "[CV] END ...............learning_rate=0.01, n_estimators=190; total time=   0.0s\n",
      "[CV] END ...............learning_rate=0.01, n_estimators=190; total time=   0.0s\n",
      "[CV] END ...............learning_rate=0.01, n_estimators=190; total time=   0.0s\n",
      "[CV] END ...............learning_rate=0.01, n_estimators=190; total time=   0.1s\n",
      "[CV] END ...............learning_rate=0.91, n_estimators=170; total time=   0.0s\n",
      "[CV] END ...............learning_rate=0.91, n_estimators=170; total time=   0.0s\n",
      "[CV] END ...............learning_rate=0.91, n_estimators=170; total time=   0.0s\n",
      "[CV] END ...............learning_rate=0.91, n_estimators=170; total time=   0.0s\n",
      "[CV] END ...............learning_rate=0.91, n_estimators=170; total time=   0.1s\n",
      "Best parameters: {'n_estimators': 180, 'learning_rate': 0.7100000000000001}\n"
     ]
    }
   ],
   "source": [
    "from sklearn.ensemble import GradientBoostingClassifier\n",
    "\n",
    "start = 0.01\n",
    "end = 0.9\n",
    "\n",
    "model = GradientBoostingClassifier()\n",
    "\n",
    "param_distributions = {\n",
    "    \"learning_rate\": np.arange(start, end + 0.1, 0.1),\n",
    "    \"n_estimators\": np.arange(100, 300 + 10, 10),\n",
    "}\n",
    "\n",
    "# Khởi tạo RandomizedSearchCV\n",
    "random_search = RandomizedSearchCV(\n",
    "    model, param_distributions, n_iter=10, cv=5, random_state=42, verbose=2\n",
    ")\n",
    "random_search.fit(\n",
    "    np.random.rand(100, 5), np.random.randint(0, 2, 100)\n",
    ")  # Dữ liệu giả lập\n",
    "\n",
    "# Hiển thị kết quả tốt nhất\n",
    "print(\"Best parameters:\", random_search.best_params_)\n"
   ]
  },
  {
   "cell_type": "code",
   "execution_count": null,
   "metadata": {},
   "outputs": [
    {
     "data": {
      "text/plain": [
       "array([0.1, 0.2, 0.3, 0.4, 0.5, 0.6, 0.7, 0.8, 0.9])"
      ]
     },
     "execution_count": 15,
     "metadata": {},
     "output_type": "execute_result"
    }
   ],
   "source": [
    "np.arange(start, end + 0.1, 0.1)\n"
   ]
  },
  {
   "cell_type": "code",
   "execution_count": null,
   "metadata": {},
   "outputs": [
    {
     "name": "stdout",
     "output_type": "stream",
     "text": [
      "scikit-learn version: 1.3.0\n"
     ]
    }
   ],
   "source": [
    "import sklearn\n",
    "\n",
    "print(\"scikit-learn version:\", sklearn.__version__)\n"
   ]
  },
  {
   "cell_type": "code",
   "execution_count": null,
   "metadata": {},
   "outputs": [],
   "source": [
    "random.sample(\n",
    "    np.arange(a, b + 0.1, 0.1).tolist(),\n",
    "    5,\n",
    "),\n"
   ]
  },
  {
   "cell_type": "code",
   "execution_count": null,
   "metadata": {},
   "outputs": [
    {
     "data": {
      "text/plain": [
       "([0.7999999999999999, 0.9999999999999999, 0.7, 0.8999999999999999, 0.6],)"
      ]
     },
     "execution_count": 3,
     "metadata": {},
     "output_type": "execute_result"
    }
   ],
   "source": [
    "import random\n",
    "import numpy as np\n",
    "\n",
    "random.sample(\n",
    "    np.arange(0.5, 1.0 + 0.1, 0.1).tolist(),\n",
    "    5,\n",
    "),\n"
   ]
  },
  {
   "cell_type": "code",
   "execution_count": null,
   "metadata": {},
   "outputs": [
    {
     "data": {
      "text/plain": [
       "[0.5,\n",
       " 0.6,\n",
       " 0.7,\n",
       " 0.7999999999999999,\n",
       " 0.8999999999999999,\n",
       " 0.9999999999999999,\n",
       " 1.0999999999999999]"
      ]
     },
     "execution_count": 4,
     "metadata": {},
     "output_type": "execute_result"
    }
   ],
   "source": [
    "np.arange(0.5, 1.0 + 0.1, 0.1).tolist()\n"
   ]
  },
  {
   "cell_type": "code",
   "execution_count": null,
   "metadata": {},
   "outputs": [
    {
     "name": "stdout",
     "output_type": "stream",
     "text": [
      "[array(['blue', 'green', 'red'], dtype='<U5')]\n",
      "[[2.]\n",
      " [0.]\n",
      " [1.]\n",
      " [0.]\n",
      " [2.]\n",
      " [1.]]\n"
     ]
    }
   ],
   "source": [
    "from sklearn.preprocessing import OrdinalEncoder\n",
    "import numpy as np\n",
    "\n",
    "# Dữ liệu mẫu\n",
    "data = np.array([[\"red\"], [\"blue\"], [\"green\"], [\"blue\"], [\"red\"], [\"green\"]])\n",
    "\n",
    "# Khởi tạo OrdinalEncoder và fit dữ liệu\n",
    "encoder = OrdinalEncoder()\n",
    "data_encoded = encoder.fit_transform(data)\n",
    "\n",
    "# Lấy danh sách các lớp\n",
    "print(encoder.categories_)\n",
    "print(data_encoded)\n"
   ]
  },
  {
   "cell_type": "code",
   "execution_count": null,
   "metadata": {},
   "outputs": [
    {
     "data": {
      "text/plain": [
       "list"
      ]
     },
     "execution_count": 10,
     "metadata": {},
     "output_type": "execute_result"
    }
   ],
   "source": [
    "type(encoder.categories_)\n"
   ]
  },
  {
   "cell_type": "code",
   "execution_count": null,
   "metadata": {},
   "outputs": [],
   "source": [
    "# Trước khi thực hiện ColumnTransformer\n",
    "class PreColumnTransformer(BaseEstimator, TransformerMixin):\n",
    "    def __init__(self) -> None:\n",
    "        super().__init__()\n",
    "\n",
    "    def fit(self, X, y=None):\n",
    "\n",
    "        return self\n",
    "\n",
    "    def transform(self, X, y=None):\n",
    "        X = X.drop(\n",
    "            columns=[\n",
    "                \"battery_power\",\n",
    "                \"microprocessor_handling_speed\",\n",
    "                \"megapixels_front_cam\",\n",
    "            ]\n",
    "        )\n",
    "\n",
    "        X[\"int_memory\"] = X[\"int_memory\"].replace({27: 0.01})\n",
    "        X[\"mobile_inch\"] = X[\"mobile_depth\"] * X[\"mobile_wt\"]\n",
    "\n",
    "        return X\n",
    "\n",
    "    def fit_transform(self, X, y=None):\n",
    "        self.fit(X)\n",
    "        return self.transform(X)\n",
    "\n",
    "\n",
    "# Thực hiện ColumnTransformer\n",
    "class NamedColumnTransformer(BaseEstimator, TransformerMixin):\n",
    "    def __init__(self) -> None:\n",
    "        super().__init__()\n",
    "\n",
    "    def fit(self, X, y=None):\n",
    "        numeric_cols = X.select_dtypes(include=[\"float\"]).columns.tolist()\n",
    "\n",
    "        self.column_transformer = ColumnTransformer(\n",
    "            transformers=[\n",
    "                (\"1\", StandardScaler(), numeric_cols),\n",
    "                (\"2\", OrdinalEncoder(), [TARGET_COL]),\n",
    "            ]\n",
    "        )\n",
    "\n",
    "        self.column_transformer.fit(X)\n",
    "\n",
    "    def transform(self, X, y=None):\n",
    "        X = self.column_transformer.transform(X)\n",
    "\n",
    "        columns = self.column_transformer.get_feature_names_out()\n",
    "        columns = [self.get_real_name(item) for item in columns]\n",
    "        return pd.DataFrame(X, columns=columns)\n",
    "\n",
    "    def fit_transform(self, X, y=None):\n",
    "        self.fit(X)\n",
    "        return self.transform(X)\n",
    "\n",
    "    def get_real_name(self, column):\n",
    "        start_index = column.find(\"__\") + 2\n",
    "        column = column[start_index:]\n",
    "        return column\n",
    "\n",
    "\n",
    "# Sau khi thực hiện ColumnTransformer\n",
    "class AfterColumnTransformer(BaseEstimator, TransformerMixin):\n",
    "    def __init__(self) -> None:\n",
    "        super().__init__()\n",
    "\n",
    "    def fit(self, X, y=None):\n",
    "\n",
    "        return self\n",
    "\n",
    "    def transform(self, X, y=None):\n",
    "        X = X.drop(\n",
    "            columns=[\n",
    "                \"n_cores\",\n",
    "                \"megapixels_primary_cam\",\n",
    "            ]\n",
    "        )\n",
    "\n",
    "        return X\n",
    "\n",
    "    def fit_transform(self, X, y=None):\n",
    "        self.fit(X)\n",
    "        return self.transform(X)\n"
   ]
  },
  {
   "cell_type": "code",
   "execution_count": null,
   "metadata": {},
   "outputs": [],
   "source": [
    "with open(<file_path>, \"rb\") as file:\n",
    "    python_obj = dill.load(file)\n"
   ]
  },
  {
   "cell_type": "code",
   "execution_count": null,
   "metadata": {},
   "outputs": [],
   "source": [
    "import random\n",
    "\n",
    "\"n_estimators\": random.sample(\n",
    "    np.arange(100, 300, 10).tolist(),\n",
    "    5,\n",
    "),\n"
   ]
  },
  {
   "cell_type": "code",
   "execution_count": null,
   "metadata": {},
   "outputs": [],
   "source": [
    "import os\n",
    "from pathlib import Path\n",
    "import logging\n",
    "\n",
    "logging.basicConfig(level=logging.INFO, format=\"[%(asctime)s]: %(message)s:\")\n",
    "\n",
    "project_name = \"cnnClassifier\"  # Đổi thành tên project tương ứng\n",
    "\n",
    "list_of_files = [\n",
    "    \".github/workflows/.gitkeep\",\n",
    "    f\"src/{project_name}/__init__.py\",\n",
    "    f\"src/{project_name}/components/__init__.py\",\n",
    "    f\"src/{project_name}/utils\",\n",
    "    f\"src/{project_name}/Mylib\",\n",
    "    f\"src/{project_name}/config/__init__.py\",\n",
    "    f\"src/{project_name}/config/configuration.py\",\n",
    "    f\"src/{project_name}/pipeline/__init__.py\",\n",
    "    f\"src/{project_name}/entity/__init__.py\",\n",
    "    f\"src/{project_name}/entity/config_entity.py\",\n",
    "    f\"src/{project_name}/constants/__init__.py\",\n",
    "    f\"src/research/trials.ipynb\",\n",
    "    \"config/config.yaml\",\n",
    "    \"dvc.yaml\",\n",
    "    \"params.yaml\",\n",
    "    \"main.py\",\n",
    "    \"app.py\",\n",
    "    \"Dockerfile\",\n",
    "    \"requirements.txt\",\n",
    "    \"setup.py\",\n",
    "    \"templates/index.html\",\n",
    "]\n",
    "\n",
    "for filepath in list_of_files:\n",
    "    filepath = Path(filepath)\n",
    "    filedir, filename = os.path.split(filepath)\n",
    "\n",
    "    if filedir != \"\":\n",
    "        os.makedirs(filedir, exist_ok=True)\n",
    "        logging.info(f\"Creating the directory: {filedir} for the file: {filename}\")\n",
    "\n",
    "    if not os.path.exists(filepath) or os.path.getsize(filepath) == 0:\n",
    "        with open(filepath, \"w\") as f:\n",
    "            pass\n",
    "            logging.info(f\"Creating empty file: {filepath}\")\n",
    "\n",
    "    else:\n",
    "        logging.info(f\"{filename} is already created\")\n"
   ]
  },
  {
   "cell_type": "markdown",
   "metadata": {},
   "source": [
    "Y nghia cac cot\n",
    "\n",
    "| Cot                                  | Y nghia                                | Don vi | Phan loai |\n",
    "| ------------------------------------ | -------------------------------------- | ------ | --------- |\n",
    "| Country                              | Dat nuoc dang song                     | none   | Nominal   |\n",
    "| Age                                  | Tuoi                                   | none   | Numeric   |\n",
    "| Gender                               | Gioi tinh                              | none   | Numeric   |\n",
    "| Education Level                      | Muc do hoc van                         | none   | Numeric   |\n",
    "| BMI                                  | Chi so BMI (18.5 - 35)                 | none   | Numeric   |\n",
    "| Physical Activity Level              | Muc do hoat dong the chat              | none   | Ordinal   |\n",
    "| Smoking Status                       | Trang thai hut thuoc                   | none   | Ordinal   |\n",
    "| Alcohol Consumption                  | Tan suat tieu thu ruou                 | none   | Ordinal   |\n",
    "| Diabetes                             | Co bi tieu duong khong                 | none   | binary    |\n",
    "| Hypertension                         | Co bi huyet ap cao khong               | none   | binary    |\n",
    "| Cholesterol Level                    | Muc do Cholesterol                     | none   | ordinal   |\n",
    "| Family History of Alzheimer’s        | Co nguoi nha bi Alzheimer’s khong      | none   | binary    |\n",
    "| Cognitive Test Score                 | Diem kiem tra tu duy                   | none   | Numeric   |\n",
    "| Depression Level                     | Muc do tram cam                        | none   | ordinal   |\n",
    "| Sleep Quality                        | Chat luong giac ngu                    | none   | ordinal   |\n",
    "| Dietary Habits                       | Chat luong bua an                      | none   | ordinal   |\n",
    "| Air Pollution Exposure               | Muc do tiep xuc voi o nhiem khong khi  | none   | ordinal   |\n",
    "| Employment Status                    | Trang thai viec lam hien tai           | none   | nominal   |\n",
    "| Marital Status                       | Trang thai hon nhan                    | none   | nominal   |\n",
    "| Genetic Risk Factor (APOE-ε4 allele) | Co dinh yeu to di truyen khong         | none   | binary    |\n",
    "| Social Engagement Level              | muc do tham gia vao cong tac xa hoi    | none   | ordinal   |\n",
    "| Income Level                         | muc do thu nhap                        | none   | ordinal   |\n",
    "| Stress Levels                        | muc do stress                          | none   | ordinal   |\n",
    "| Urban vs Rural Living                | noi song                               | none   | nominal   |\n",
    "| Alzheimer’s Diagnosis                | bien muc tieu, co bi Alzheimer’s khong | none   | binary    |\n",
    "\n",
    "Marital Status = \"Widowed\":có nghĩa là góa, tức là một người đã mất vợ hoặc chồng.\n",
    "\n",
    "**Alzheimer’s Diagnosis**\n",
    "\n",
    "- Yes: Co bi Alzheimer\n",
    "- No: Khong bi Alzheimer\n"
   ]
  },
  {
   "cell_type": "code",
   "execution_count": null,
   "metadata": {},
   "outputs": [],
   "source": [
    "rename_dict = {\n",
    "    \"Education Level\": \"Education_Level\",\n",
    "    \"Physical Activity Level\": \"Physical_Activity_Level\",\n",
    "    \"Smoking Status\": \"Smoking_Status_level\",\n",
    "    \"Alcohol Consumption\": \"Alcohol_Consumption_Level\",\n",
    "    \"Diabetes\": \"do_get_Diabetes\",\n",
    "    \"Hypertension\": \"do_get_Hypertension\",\n",
    "    \"Cholesterol Level\": \"Cholesterol_Level\",\n",
    "    \"Family History of Alzheimer’s\": \"do_Family_History\",\n",
    "    \"Cognitive Test Score\": \"Cognitive_Test_Score\",\n",
    "    \"Depression Level\": \"Depression_Level\",\n",
    "    \"Sleep Quality\": \" Sleep_Quality_Level\",\n",
    "    \"Dietary Habits\": \"Diet_level\",\n",
    "    \"Air Pollution Exposure\": \"Air_Pollution_Exposure_level\",\n",
    "    \"Employment Status\": \"Employment_Status\",\n",
    "    \"Marital Status\": \"Marital_Status\",\n",
    "    \"Genetic Risk Factor (APOE-ε4 allele)\": \"do_get_Genetic_Risk_Factor\",\n",
    "    \"Social Engagement Level\": \"Social_Engagement_Level\",\n",
    "    \"Income Level\": \"Income_Level\",\n",
    "    \"Stress Levels\": \"Stress_Levels\",\n",
    "    \"Urban vs Rural Living\": \"living_place_urban_or_rural\",\n",
    "    \"Alzheimer’s Diagnosis\": \"do_get_Alzheimer\",\n",
    "}\n"
   ]
  },
  {
   "cell_type": "markdown",
   "metadata": {},
   "source": [
    "Y nghia cac cot\n",
    "\n",
    "| Cot                          | Y nghia                                | Don vi | Phan loai |\n",
    "| ---------------------------- | -------------------------------------- | ------ | --------- |\n",
    "| Country                      | Dat nuoc dang song                     | none   | Nominal   |\n",
    "| Age                          | Tuoi                                   | none   | Numeric   |\n",
    "| Gender                       | Gioi tinh                              | none   | Numeric   |\n",
    "| Education_Level              | Muc do hoc van                         | none   | Numeric   |\n",
    "| BMI                          | Chi so BMI (18.5 - 35)                 | none   | Numeric   |\n",
    "| Physical_Activity_Level      | Muc do hoat dong the chat              | none   | Ordinal   |\n",
    "| Smoking_Status_level         | Trang thai hut thuoc                   | none   | Ordinal   |\n",
    "| Alcohol_Consumption_Level    | Tan suat tieu thu ruou                 | none   | Ordinal   |\n",
    "| do_get_Diabetes              | Co bi tieu duong khong                 | none   | binary    |\n",
    "| do_get_Hypertension          | Co bi huyet ap cao khong               | none   | binary    |\n",
    "| Cholesterol_Level            | Muc do Cholesterol                     | none   | ordinal   |\n",
    "| do_Family_History            | Co nguoi nha bi Alzheimer’s khong      | none   | binary    |\n",
    "| Cognitive_Test_Score         | Diem kiem tra tu duy                   | none   | Numeric   |\n",
    "| Depression_Level             | Muc do tram cam                        | none   | ordinal   |\n",
    "| Sleep_Quality_Level          | Chat luong giac ngu                    | none   | ordinal   |\n",
    "| Diet_level                   | Chat luong bua an                      | none   | ordinal   |\n",
    "| Air_Pollution_Exposure_level | Muc do tiep xuc voi o nhiem khong khi  | none   | ordinal   |\n",
    "| Employment_Status            | Trang thai viec lam hien tai           | none   | nominal   |\n",
    "| Marital_Status               | Trang thai hon nhan                    | none   | nominal   |\n",
    "| do_get_Genetic_Risk_Factor   | Co dinh yeu to di truyen khong         | none   | binary    |\n",
    "| Social_Engagement_Level      | muc do tham gia vao cong tac xa hoi    | none   | ordinal   |\n",
    "| Income_Level                 | muc do thu nhap                        | none   | ordinal   |\n",
    "| Stress_Levels                | muc do stress                          | none   | ordinal   |\n",
    "| living_place_urban_or_rural  | noi song                               | none   | nominal   |\n",
    "| do_get_Alzheimer             | bien muc tieu, co bi Alzheimer’s khong | none   | binary    |\n",
    "\n",
    "Marital_Status = \"Widowed\":có nghĩa là góa, tức là một người đã mất vợ hoặc chồng.\n",
    "\n",
    "**do_get_Alzheimer**\n",
    "\n",
    "- Yes: Co bi Alzheimer\n",
    "- No: Khong bi Alzheimer\n"
   ]
  },
  {
   "cell_type": "code",
   "execution_count": null,
   "metadata": {},
   "outputs": [
    {
     "data": {
      "application/vnd.plotly.v1+json": {
       "config": {
        "plotlyServerURL": "https://plot.ly"
       },
       "data": [
        {
         "hovertemplate": "Category=b<br>y=%{y}<extra></extra>",
         "legendgroup": "b",
         "line": {
          "color": "blue",
          "dash": "solid"
         },
         "marker": {
          "symbol": "circle"
         },
         "mode": "lines+markers",
         "name": "b",
         "orientation": "v",
         "showlegend": true,
         "type": "scatter",
         "x": [
          "abcdefl_1",
          "abcdefl_2",
          "abcdefl_3",
          "abcdefl_4",
          "abcdefl_5",
          "abcdefl_6",
          "abcdefl_7",
          "abcdefl_8",
          "abcdefl_9",
          "abcdefl_10",
          "abcdefl_11",
          "abcdefl_12",
          "abcdefl_13",
          "abcdefl_14",
          "abcdefl_15",
          "abcdefl_16",
          "abcdefl_17",
          "abcdefl_18",
          "abcdefl_19",
          "abcdefl_20",
          "abcdefl_21",
          "abcdefl_22",
          "abcdefl_23",
          "abcdefl_24",
          "abcdefl_25",
          "abcdefl_26",
          "abcdefl_27",
          "abcdefl_28",
          "abcdefl_29",
          "abcdefl_30",
          "abcdefl_31",
          "abcdefl_32",
          "abcdefl_33",
          "abcdefl_34",
          "abcdefl_35",
          "abcdefl_36",
          "abcdefl_37",
          "abcdefl_38",
          "abcdefl_39",
          "abcdefl_40"
         ],
         "xaxis": "x",
         "y": {
          "bdata": "BgYHBwYGBwcGBgcHBgYHBwYGBwcGBgcHBgYHBwYGBwcGBgcHBgYHBw==",
          "dtype": "i1"
         },
         "yaxis": "y"
        },
        {
         "hovertemplate": "Category=c<br>y=%{y}<extra></extra>",
         "legendgroup": "c",
         "line": {
          "color": "gray",
          "dash": "solid"
         },
         "marker": {
          "symbol": "circle"
         },
         "mode": "lines+markers",
         "name": "c",
         "orientation": "v",
         "showlegend": true,
         "type": "scatter",
         "x": [
          "abcdefl_1",
          "abcdefl_2",
          "abcdefl_3",
          "abcdefl_4",
          "abcdefl_5",
          "abcdefl_6",
          "abcdefl_7",
          "abcdefl_8",
          "abcdefl_9",
          "abcdefl_10",
          "abcdefl_11",
          "abcdefl_12",
          "abcdefl_13",
          "abcdefl_14",
          "abcdefl_15",
          "abcdefl_16",
          "abcdefl_17",
          "abcdefl_18",
          "abcdefl_19",
          "abcdefl_20",
          "abcdefl_21",
          "abcdefl_22",
          "abcdefl_23",
          "abcdefl_24",
          "abcdefl_25",
          "abcdefl_26",
          "abcdefl_27",
          "abcdefl_28",
          "abcdefl_29",
          "abcdefl_30",
          "abcdefl_31",
          "abcdefl_32",
          "abcdefl_33",
          "abcdefl_34",
          "abcdefl_35",
          "abcdefl_36",
          "abcdefl_37",
          "abcdefl_38",
          "abcdefl_39",
          "abcdefl_40"
         ],
         "xaxis": "x",
         "y": {
          "bdata": "BwgJAQcICQEHCAkBBwgJAQcICQEHCAkBBwgJAQcICQEHCAkBBwgJAQ==",
          "dtype": "i1"
         },
         "yaxis": "y"
        }
       ],
       "layout": {
        "legend": {
         "title": {
          "text": "Category"
         },
         "tracegroupgap": 0
        },
        "margin": {
         "t": 60
        },
        "showlegend": false,
        "template": {
         "data": {
          "bar": [
           {
            "error_x": {
             "color": "#2a3f5f"
            },
            "error_y": {
             "color": "#2a3f5f"
            },
            "marker": {
             "line": {
              "color": "#E5ECF6",
              "width": 0.5
             },
             "pattern": {
              "fillmode": "overlay",
              "size": 10,
              "solidity": 0.2
             }
            },
            "type": "bar"
           }
          ],
          "barpolar": [
           {
            "marker": {
             "line": {
              "color": "#E5ECF6",
              "width": 0.5
             },
             "pattern": {
              "fillmode": "overlay",
              "size": 10,
              "solidity": 0.2
             }
            },
            "type": "barpolar"
           }
          ],
          "carpet": [
           {
            "aaxis": {
             "endlinecolor": "#2a3f5f",
             "gridcolor": "white",
             "linecolor": "white",
             "minorgridcolor": "white",
             "startlinecolor": "#2a3f5f"
            },
            "baxis": {
             "endlinecolor": "#2a3f5f",
             "gridcolor": "white",
             "linecolor": "white",
             "minorgridcolor": "white",
             "startlinecolor": "#2a3f5f"
            },
            "type": "carpet"
           }
          ],
          "choropleth": [
           {
            "colorbar": {
             "outlinewidth": 0,
             "ticks": ""
            },
            "type": "choropleth"
           }
          ],
          "contour": [
           {
            "colorbar": {
             "outlinewidth": 0,
             "ticks": ""
            },
            "colorscale": [
             [
              0,
              "#0d0887"
             ],
             [
              0.1111111111111111,
              "#46039f"
             ],
             [
              0.2222222222222222,
              "#7201a8"
             ],
             [
              0.3333333333333333,
              "#9c179e"
             ],
             [
              0.4444444444444444,
              "#bd3786"
             ],
             [
              0.5555555555555556,
              "#d8576b"
             ],
             [
              0.6666666666666666,
              "#ed7953"
             ],
             [
              0.7777777777777778,
              "#fb9f3a"
             ],
             [
              0.8888888888888888,
              "#fdca26"
             ],
             [
              1,
              "#f0f921"
             ]
            ],
            "type": "contour"
           }
          ],
          "contourcarpet": [
           {
            "colorbar": {
             "outlinewidth": 0,
             "ticks": ""
            },
            "type": "contourcarpet"
           }
          ],
          "heatmap": [
           {
            "colorbar": {
             "outlinewidth": 0,
             "ticks": ""
            },
            "colorscale": [
             [
              0,
              "#0d0887"
             ],
             [
              0.1111111111111111,
              "#46039f"
             ],
             [
              0.2222222222222222,
              "#7201a8"
             ],
             [
              0.3333333333333333,
              "#9c179e"
             ],
             [
              0.4444444444444444,
              "#bd3786"
             ],
             [
              0.5555555555555556,
              "#d8576b"
             ],
             [
              0.6666666666666666,
              "#ed7953"
             ],
             [
              0.7777777777777778,
              "#fb9f3a"
             ],
             [
              0.8888888888888888,
              "#fdca26"
             ],
             [
              1,
              "#f0f921"
             ]
            ],
            "type": "heatmap"
           }
          ],
          "histogram": [
           {
            "marker": {
             "pattern": {
              "fillmode": "overlay",
              "size": 10,
              "solidity": 0.2
             }
            },
            "type": "histogram"
           }
          ],
          "histogram2d": [
           {
            "colorbar": {
             "outlinewidth": 0,
             "ticks": ""
            },
            "colorscale": [
             [
              0,
              "#0d0887"
             ],
             [
              0.1111111111111111,
              "#46039f"
             ],
             [
              0.2222222222222222,
              "#7201a8"
             ],
             [
              0.3333333333333333,
              "#9c179e"
             ],
             [
              0.4444444444444444,
              "#bd3786"
             ],
             [
              0.5555555555555556,
              "#d8576b"
             ],
             [
              0.6666666666666666,
              "#ed7953"
             ],
             [
              0.7777777777777778,
              "#fb9f3a"
             ],
             [
              0.8888888888888888,
              "#fdca26"
             ],
             [
              1,
              "#f0f921"
             ]
            ],
            "type": "histogram2d"
           }
          ],
          "histogram2dcontour": [
           {
            "colorbar": {
             "outlinewidth": 0,
             "ticks": ""
            },
            "colorscale": [
             [
              0,
              "#0d0887"
             ],
             [
              0.1111111111111111,
              "#46039f"
             ],
             [
              0.2222222222222222,
              "#7201a8"
             ],
             [
              0.3333333333333333,
              "#9c179e"
             ],
             [
              0.4444444444444444,
              "#bd3786"
             ],
             [
              0.5555555555555556,
              "#d8576b"
             ],
             [
              0.6666666666666666,
              "#ed7953"
             ],
             [
              0.7777777777777778,
              "#fb9f3a"
             ],
             [
              0.8888888888888888,
              "#fdca26"
             ],
             [
              1,
              "#f0f921"
             ]
            ],
            "type": "histogram2dcontour"
           }
          ],
          "mesh3d": [
           {
            "colorbar": {
             "outlinewidth": 0,
             "ticks": ""
            },
            "type": "mesh3d"
           }
          ],
          "parcoords": [
           {
            "line": {
             "colorbar": {
              "outlinewidth": 0,
              "ticks": ""
             }
            },
            "type": "parcoords"
           }
          ],
          "pie": [
           {
            "automargin": true,
            "type": "pie"
           }
          ],
          "scatter": [
           {
            "fillpattern": {
             "fillmode": "overlay",
             "size": 10,
             "solidity": 0.2
            },
            "type": "scatter"
           }
          ],
          "scatter3d": [
           {
            "line": {
             "colorbar": {
              "outlinewidth": 0,
              "ticks": ""
             }
            },
            "marker": {
             "colorbar": {
              "outlinewidth": 0,
              "ticks": ""
             }
            },
            "type": "scatter3d"
           }
          ],
          "scattercarpet": [
           {
            "marker": {
             "colorbar": {
              "outlinewidth": 0,
              "ticks": ""
             }
            },
            "type": "scattercarpet"
           }
          ],
          "scattergeo": [
           {
            "marker": {
             "colorbar": {
              "outlinewidth": 0,
              "ticks": ""
             }
            },
            "type": "scattergeo"
           }
          ],
          "scattergl": [
           {
            "marker": {
             "colorbar": {
              "outlinewidth": 0,
              "ticks": ""
             }
            },
            "type": "scattergl"
           }
          ],
          "scattermap": [
           {
            "marker": {
             "colorbar": {
              "outlinewidth": 0,
              "ticks": ""
             }
            },
            "type": "scattermap"
           }
          ],
          "scattermapbox": [
           {
            "marker": {
             "colorbar": {
              "outlinewidth": 0,
              "ticks": ""
             }
            },
            "type": "scattermapbox"
           }
          ],
          "scatterpolar": [
           {
            "marker": {
             "colorbar": {
              "outlinewidth": 0,
              "ticks": ""
             }
            },
            "type": "scatterpolar"
           }
          ],
          "scatterpolargl": [
           {
            "marker": {
             "colorbar": {
              "outlinewidth": 0,
              "ticks": ""
             }
            },
            "type": "scatterpolargl"
           }
          ],
          "scatterternary": [
           {
            "marker": {
             "colorbar": {
              "outlinewidth": 0,
              "ticks": ""
             }
            },
            "type": "scatterternary"
           }
          ],
          "surface": [
           {
            "colorbar": {
             "outlinewidth": 0,
             "ticks": ""
            },
            "colorscale": [
             [
              0,
              "#0d0887"
             ],
             [
              0.1111111111111111,
              "#46039f"
             ],
             [
              0.2222222222222222,
              "#7201a8"
             ],
             [
              0.3333333333333333,
              "#9c179e"
             ],
             [
              0.4444444444444444,
              "#bd3786"
             ],
             [
              0.5555555555555556,
              "#d8576b"
             ],
             [
              0.6666666666666666,
              "#ed7953"
             ],
             [
              0.7777777777777778,
              "#fb9f3a"
             ],
             [
              0.8888888888888888,
              "#fdca26"
             ],
             [
              1,
              "#f0f921"
             ]
            ],
            "type": "surface"
           }
          ],
          "table": [
           {
            "cells": {
             "fill": {
              "color": "#EBF0F8"
             },
             "line": {
              "color": "white"
             }
            },
            "header": {
             "fill": {
              "color": "#C8D4E3"
             },
             "line": {
              "color": "white"
             }
            },
            "type": "table"
           }
          ]
         },
         "layout": {
          "annotationdefaults": {
           "arrowcolor": "#2a3f5f",
           "arrowhead": 0,
           "arrowwidth": 1
          },
          "autotypenumbers": "strict",
          "coloraxis": {
           "colorbar": {
            "outlinewidth": 0,
            "ticks": ""
           }
          },
          "colorscale": {
           "diverging": [
            [
             0,
             "#8e0152"
            ],
            [
             0.1,
             "#c51b7d"
            ],
            [
             0.2,
             "#de77ae"
            ],
            [
             0.3,
             "#f1b6da"
            ],
            [
             0.4,
             "#fde0ef"
            ],
            [
             0.5,
             "#f7f7f7"
            ],
            [
             0.6,
             "#e6f5d0"
            ],
            [
             0.7,
             "#b8e186"
            ],
            [
             0.8,
             "#7fbc41"
            ],
            [
             0.9,
             "#4d9221"
            ],
            [
             1,
             "#276419"
            ]
           ],
           "sequential": [
            [
             0,
             "#0d0887"
            ],
            [
             0.1111111111111111,
             "#46039f"
            ],
            [
             0.2222222222222222,
             "#7201a8"
            ],
            [
             0.3333333333333333,
             "#9c179e"
            ],
            [
             0.4444444444444444,
             "#bd3786"
            ],
            [
             0.5555555555555556,
             "#d8576b"
            ],
            [
             0.6666666666666666,
             "#ed7953"
            ],
            [
             0.7777777777777778,
             "#fb9f3a"
            ],
            [
             0.8888888888888888,
             "#fdca26"
            ],
            [
             1,
             "#f0f921"
            ]
           ],
           "sequentialminus": [
            [
             0,
             "#0d0887"
            ],
            [
             0.1111111111111111,
             "#46039f"
            ],
            [
             0.2222222222222222,
             "#7201a8"
            ],
            [
             0.3333333333333333,
             "#9c179e"
            ],
            [
             0.4444444444444444,
             "#bd3786"
            ],
            [
             0.5555555555555556,
             "#d8576b"
            ],
            [
             0.6666666666666666,
             "#ed7953"
            ],
            [
             0.7777777777777778,
             "#fb9f3a"
            ],
            [
             0.8888888888888888,
             "#fdca26"
            ],
            [
             1,
             "#f0f921"
            ]
           ]
          },
          "colorway": [
           "#636efa",
           "#EF553B",
           "#00cc96",
           "#ab63fa",
           "#FFA15A",
           "#19d3f3",
           "#FF6692",
           "#B6E880",
           "#FF97FF",
           "#FECB52"
          ],
          "font": {
           "color": "#2a3f5f"
          },
          "geo": {
           "bgcolor": "white",
           "lakecolor": "white",
           "landcolor": "#E5ECF6",
           "showlakes": true,
           "showland": true,
           "subunitcolor": "white"
          },
          "hoverlabel": {
           "align": "left"
          },
          "hovermode": "closest",
          "mapbox": {
           "style": "light"
          },
          "paper_bgcolor": "white",
          "plot_bgcolor": "#E5ECF6",
          "polar": {
           "angularaxis": {
            "gridcolor": "white",
            "linecolor": "white",
            "ticks": ""
           },
           "bgcolor": "#E5ECF6",
           "radialaxis": {
            "gridcolor": "white",
            "linecolor": "white",
            "ticks": ""
           }
          },
          "scene": {
           "xaxis": {
            "backgroundcolor": "#E5ECF6",
            "gridcolor": "white",
            "gridwidth": 2,
            "linecolor": "white",
            "showbackground": true,
            "ticks": "",
            "zerolinecolor": "white"
           },
           "yaxis": {
            "backgroundcolor": "#E5ECF6",
            "gridcolor": "white",
            "gridwidth": 2,
            "linecolor": "white",
            "showbackground": true,
            "ticks": "",
            "zerolinecolor": "white"
           },
           "zaxis": {
            "backgroundcolor": "#E5ECF6",
            "gridcolor": "white",
            "gridwidth": 2,
            "linecolor": "white",
            "showbackground": true,
            "ticks": "",
            "zerolinecolor": "white"
           }
          },
          "shapedefaults": {
           "line": {
            "color": "#2a3f5f"
           }
          },
          "ternary": {
           "aaxis": {
            "gridcolor": "white",
            "linecolor": "white",
            "ticks": ""
           },
           "baxis": {
            "gridcolor": "white",
            "linecolor": "white",
            "ticks": ""
           },
           "bgcolor": "#E5ECF6",
           "caxis": {
            "gridcolor": "white",
            "linecolor": "white",
            "ticks": ""
           }
          },
          "title": {
           "x": 0.05
          },
          "xaxis": {
           "automargin": true,
           "gridcolor": "white",
           "linecolor": "white",
           "ticks": "",
           "title": {
            "standoff": 15
           },
           "zerolinecolor": "white",
           "zerolinewidth": 2
          },
          "yaxis": {
           "automargin": true,
           "gridcolor": "white",
           "linecolor": "white",
           "ticks": "",
           "title": {
            "standoff": 15
           },
           "zerolinecolor": "white",
           "zerolinewidth": 2
          }
         }
        },
        "xaxis": {
         "anchor": "y",
         "domain": [
          0,
          1
         ],
         "title": {
          "text": "x"
         }
        },
        "yaxis": {
         "anchor": "x",
         "domain": [
          0,
          1
         ],
         "title": {
          "text": ""
         }
        }
       }
      }
     },
     "metadata": {},
     "output_type": "display_data"
    }
   ],
   "source": [
    "import pandas as pd\n",
    "import plotly.express as px\n",
    "\n",
    "# Tạo dữ liệu\n",
    "a = [f\"abcdefl_{item}\" for item in range(1, 40 + 1, 1)]\n",
    "b = [6, 6, 7, 7] * 10\n",
    "c = [7, 8, 9, 1] * 10\n",
    "\n",
    "# Chuyển đổi dữ liệu từ wide format sang long format\n",
    "df = pd.DataFrame({\"x\": a, \"b\": b, \"c\": c})\n",
    "df_long = df.melt(\n",
    "    id_vars=[\"x\"], value_vars=[\"b\", \"c\"], var_name=\"Category\", value_name=\"y\"\n",
    ")\n",
    "\n",
    "# Vẽ biểu đồ với màu tùy chỉnh\n",
    "fig = px.line(\n",
    "    df_long,\n",
    "    x=\"x\",\n",
    "    y=\"y\",\n",
    "    color=\"Category\",  # Phân biệt hai đường theo giá trị `b` và `c`\n",
    "    markers=True,\n",
    "    color_discrete_map={\"b\": \"blue\", \"c\": \"gray\"},  # Đặt màu: \"b\" là xanh, \"c\" là xám\n",
    ")\n",
    "\n",
    "fig.update_layout(\n",
    "    showlegend=False,\n",
    "    yaxis=dict(\n",
    "        title=\"\",\n",
    "    ),\n",
    ")\n",
    "\n",
    "# Hiển thị biểu đồ\n",
    "fig.show()\n"
   ]
  },
  {
   "cell_type": "code",
   "execution_count": null,
   "metadata": {},
   "outputs": [],
   "source": [
    "import plotly.express as px\n",
    "\n",
    "# Tạo dữ liệu demo\n",
    "df = px.data.iris()\n",
    "\n",
    "# Vẽ biểu đồ\n",
    "fig = px.scatter(df, x=\"sepal_width\", y=\"sepal_length\", color=\"species\")\n",
    "\n",
    "# Hiển thị biểu đồ và tắt modebar\n",
    "fig.show(config={\"displayModeBar\": False})  # 👈 Tắt hoàn toàn modebar\n"
   ]
  },
  {
   "cell_type": "code",
   "execution_count": null,
   "metadata": {},
   "outputs": [
    {
     "data": {
      "text/plain": [
       "True"
      ]
     },
     "execution_count": 7,
     "metadata": {},
     "output_type": "execute_result"
    }
   ],
   "source": [
    "import plotly.express as px\n",
    "import pandas as pd\n",
    "\n",
    "# Tạo dữ liệu với nhiều điểm trên trục X\n",
    "a = [f\"abcdefl_{item}\" for item in range(1, 40 + 1, 1)]\n",
    "b = [6, 6, 7, 7] * 10\n",
    "c = [7, 8, 9, 1] * 10\n",
    "\n",
    "df = pd.DataFrame({\"x\": a, \"y\": b})\n",
    "\n",
    "# Tạo biểu đồ line\n",
    "fig = px.line(\n",
    "    df,\n",
    "    x=\"x\",\n",
    "    y=\"y\",\n",
    "    markers=True,\n",
    "    hover_data={\"x\": False},  # Ẩn giá trị x trong tooltip, chỉ hiển thị y\n",
    ")\n",
    "\n",
    "# Thêm annotation cho từng điểm\n",
    "for i in range(len(a)):\n",
    "    text = \"\"\"\n",
    "    P: 1 <br>\n",
    "    XGB_20:<br>\n",
    "    n_e: 300-500-50<br>\n",
    "    n_e: 300-500-50<br>\n",
    "    n_e: 300-500-50<br>\n",
    "    n_e: 300-500-50<br>\n",
    "    n_e: 300-500-50<br>\n",
    "    n_e: 0.3-0.5-10<br>\n",
    "    \"\"\"\n",
    "\n",
    "    fig.add_annotation(\n",
    "        text=text,  # 👈 Hiển thị giá trị `y`\n",
    "        x=a[i],  # Đúng vị trí điểm trên trục X\n",
    "        y=8,\n",
    "        xref=\"x\",\n",
    "        yref=\"y\",\n",
    "        showarrow=True,  # 👈 Hiển thị mũi tên\n",
    "        font=dict(family=\"Consolas\", size=6, color=\"red\"),  # Font chữ\n",
    "        ax=-20,  # Giữ annotation thẳng đứng trên điểm\n",
    "        align=\"left\",\n",
    "    )\n",
    "\n",
    "# Giảm khoảng cách từ 0 đến a_1\n",
    "fig.update_layout(\n",
    "    autosize=False,\n",
    "    width=3000,  # 👈 Tăng chiều rộng biểu đồ để tạo thanh cuộn ngang\n",
    "    height=500,  # 👈 Giữ chiều cao hợp lý\n",
    "    margin=dict(l=10, r=10, t=10, b=10),  # 👈 Giảm lề trái để `a_1` gần trục y hơn\n",
    "    xaxis=dict(\n",
    "        range=[-0.5, len(a)],  # 👈 Đặt lại phạm vi trục X để `a_1` gần 0 hơn\n",
    "        tickmode=\"linear\",  # 👈 Giữ khoảng cách đều giữa các điểm\n",
    "    ),\n",
    "    yaxis=dict(\n",
    "        title=\"\",\n",
    "        range=[0, 10],  # Cố định phạm vi trục y\n",
    "        dtick=0.5,  # Đặt bước chia nhỏ nhất là 0.5\n",
    "    ),\n",
    ")\n",
    "\n",
    "# Lưu file HTML trực tiếp với Plotly\n",
    "html_path = \"scrollable_plot.html\"\n",
    "fig.write_html(html_path)\n",
    "\n",
    "# Mở file HTML trong trình duyệt\n",
    "import webbrowser\n",
    "\n",
    "webbrowser.open(html_path)\n"
   ]
  },
  {
   "cell_type": "code",
   "execution_count": null,
   "metadata": {},
   "outputs": [
    {
     "data": {
      "text/plain": [
       "75.0"
      ]
     },
     "execution_count": 12,
     "metadata": {},
     "output_type": "execute_result"
    }
   ],
   "source": [
    "3000 / 40\n"
   ]
  },
  {
   "cell_type": "code",
   "execution_count": null,
   "metadata": {},
   "outputs": [
    {
     "name": "stdout",
     "output_type": "stream",
     "text": [
      "<class 'pandas.core.frame.DataFrame'>\n",
      "RangeIndex: 66854 entries, 0 to 66853\n",
      "Data columns (total 25 columns):\n",
      " #   Column                        Non-Null Count  Dtype  \n",
      "---  ------                        --------------  -----  \n",
      " 0   Age                           66854 non-null  int64  \n",
      " 1   Education_Level               66854 non-null  int64  \n",
      " 2   BMI                           66854 non-null  float64\n",
      " 3   Cognitive_Test_Score          66854 non-null  int64  \n",
      " 4   do_get_Diabetes               66854 non-null  object \n",
      " 5   do_get_Hypertension           66854 non-null  object \n",
      " 6   do_Family_History             66854 non-null  object \n",
      " 7   do_get_Genetic_Risk_Factor    66854 non-null  object \n",
      " 8   Gender                        66854 non-null  object \n",
      " 9   Country                       66854 non-null  object \n",
      " 10  Employment_Status             66854 non-null  object \n",
      " 11  Marital_Status                66854 non-null  object \n",
      " 12  living_place_urban_or_rural   66854 non-null  object \n",
      " 13  Physical_Activity_Level       66854 non-null  object \n",
      " 14  Smoking_Status_level          66854 non-null  object \n",
      " 15  Alcohol_Consumption_Level     66854 non-null  object \n",
      " 16  Cholesterol_Level             66854 non-null  object \n",
      " 17  Depression_Level              66854 non-null  object \n",
      " 18  Sleep_Quality_Level           66854 non-null  object \n",
      " 19  Diet_level                    66854 non-null  object \n",
      " 20  Air_Pollution_Exposure_level  66854 non-null  object \n",
      " 21  Social_Engagement_Level       66854 non-null  object \n",
      " 22  Income_Level                  66854 non-null  object \n",
      " 23  Stress_Levels                 66854 non-null  object \n",
      " 24  do_get_Alzheimer              66854 non-null  object \n",
      "dtypes: float64(1), int64(3), object(21)\n",
      "memory usage: 12.8+ MB\n"
     ]
    }
   ],
   "source": [
    "df.info()\n"
   ]
  },
  {
   "cell_type": "markdown",
   "metadata": {},
   "source": []
  },
  {
   "cell_type": "code",
   "execution_count": null,
   "metadata": {},
   "outputs": [
    {
     "name": "stdout",
     "output_type": "stream",
     "text": [
      "['a', '', '', 'b', '', '', 'c', '', '']\n"
     ]
    }
   ],
   "source": [
    "a = [\"a\", \"b\", \"c\"]\n",
    "cols = sum(([item, \"\", \"\"] for item in a), [])\n",
    "print(cols)\n"
   ]
  },
  {
   "cell_type": "code",
   "execution_count": null,
   "metadata": {},
   "outputs": [
    {
     "data": {
      "text/plain": [
       "Index(['Age', 'Education_Level', 'BMI', 'Cognitive_Test_Score',\n",
       "       'do_get_Diabetes', 'do_get_Hypertension', 'do_Family_History',\n",
       "       'do_get_Genetic_Risk_Factor', 'Gender', 'Country', 'Employment_Status',\n",
       "       'Marital_Status', 'living_place_urban_or_rural',\n",
       "       'Physical_Activity_Level', 'Smoking_Status_level',\n",
       "       'Alcohol_Consumption_Level', 'Cholesterol_Level', 'Depression_Level',\n",
       "       'Sleep_Quality_Level', 'Diet_level', 'Air_Pollution_Exposure_level',\n",
       "       'Social_Engagement_Level', 'Income_Level', 'Stress_Levels',\n",
       "       'do_get_Alzheimer'],\n",
       "      dtype='object')"
      ]
     },
     "metadata": {},
     "output_type": "display_data"
    }
   ],
   "source": [
    "df.columns\n"
   ]
  },
  {
   "cell_type": "code",
   "execution_count": null,
   "metadata": {},
   "outputs": [
    {
     "data": {
      "text/plain": [
       "20"
      ]
     },
     "execution_count": 1,
     "metadata": {},
     "output_type": "execute_result"
    }
   ],
   "source": [
    "len(\n",
    "    [\n",
    "        \"France\",\n",
    "        \"Spain\",\n",
    "        \"Australia\",\n",
    "        \"Norway\",\n",
    "        \"Saudi Arabia\",\n",
    "        \"South Korea\",\n",
    "        \"Japan\",\n",
    "        \"Germany\",\n",
    "        \"Mexico\",\n",
    "        \"Argentina\",\n",
    "        \"China\",\n",
    "        \"USA\",\n",
    "        \"Brazil\",\n",
    "        \"Russia\",\n",
    "        \"Sweden\",\n",
    "        \"South Africa\",\n",
    "        \"India\",\n",
    "        \"Italy\",\n",
    "        \"UK\",\n",
    "        \"Canada\",\n",
    "    ]\n",
    ")\n"
   ]
  },
  {
   "cell_type": "code",
   "execution_count": null,
   "metadata": {},
   "outputs": [
    {
     "data": {
      "text/plain": [
       "44"
      ]
     },
     "execution_count": 2,
     "metadata": {},
     "output_type": "execute_result"
    }
   ],
   "source": [
    "4 + 4 + 1 + 19 + 2 + 2 + 1 + 11\n"
   ]
  },
  {
   "cell_type": "markdown",
   "metadata": {},
   "source": []
  },
  {
   "cell_type": "code",
   "execution_count": null,
   "metadata": {},
   "outputs": [
    {
     "name": "stdout",
     "output_type": "stream",
     "text": [
      "[['Low', 'Medium', 'High'], ['Low', 'Medium', 'High'], ['Low', 'Medium', 'High'], ['Low', 'Medium', 'High'], ['Low', 'Medium', 'High']]\n"
     ]
    }
   ],
   "source": [
    "Physical_Activity_Level = [\"Low\", \"Medium\", \"High\"]\n",
    "\n",
    "a = [Physical_Activity_Level] * 5\n",
    "\n",
    "print(a)\n"
   ]
  },
  {
   "cell_type": "code",
   "execution_count": null,
   "metadata": {},
   "outputs": [
    {
     "data": {
      "text/plain": [
       "array([0.7 , 0.71, 0.72, 0.73, 0.74, 0.75, 0.76, 0.77, 0.78, 0.79, 0.8 ,\n",
       "       0.81, 0.82, 0.83, 0.84, 0.85, 0.86, 0.87, 0.88, 0.89, 0.9 ])"
      ]
     },
     "execution_count": 5,
     "metadata": {},
     "output_type": "execute_result"
    }
   ],
   "source": [
    "import numpy as np\n",
    "\n",
    "arr = np.arange(0.7, 0.9, 0.01)\n",
    "# rounded_arr = np.round(arr, 2)\n",
    "\n",
    "arr\n"
   ]
  },
  {
   "cell_type": "code",
   "execution_count": null,
   "metadata": {},
   "outputs": [
    {
     "data": {
      "text/plain": [
       "[1, 2, 5, 3, 4]"
      ]
     },
     "execution_count": 11,
     "metadata": {},
     "output_type": "execute_result"
    }
   ],
   "source": [
    "import random\n",
    "\n",
    "a = [1, 2, 3, 4, 5]\n",
    "a_permuted = random.sample(a, len(a))\n"
   ]
  },
  {
   "cell_type": "code",
   "execution_count": null,
   "metadata": {},
   "outputs": [
    {
     "name": "stdout",
     "output_type": "stream",
     "text": [
      "2187\n"
     ]
    }
   ],
   "source": [
    "import itertools\n",
    "import numpy as np\n",
    "from xgboost import XGBClassifier\n",
    "\n",
    "\n",
    "# Hàm tạo danh sách tất cả các tổ hợp tham số\n",
    "def generate_grid_search_params(param_grid):\n",
    "    keys = param_grid.keys()\n",
    "    values = (param_grid[key] for key in keys)\n",
    "    return [dict(zip(keys, v)) for v in itertools.product(*values)]\n",
    "\n",
    "\n",
    "# Tạo param_grid giống GridSearch\n",
    "param_grid = {\n",
    "    \"n_estimators\": [50, 100, 200],\n",
    "    \"max_depth\": [3, 5, 7],\n",
    "    \"subsample\": [0.6, 0.8, 1.0],\n",
    "    \"colsample_bytree\": [0.6, 0.8, 1.0],\n",
    "    \"learning_rate\": [0.01, 0.1, 0.2],\n",
    "    \"reg_alpha\": [0, 0.1, 1],\n",
    "    \"reg_lambda\": [1, 10, 100],\n",
    "}\n",
    "\n",
    "# Tạo danh sách tất cả các tổ hợp tham số\n",
    "param_list = generate_grid_search_params(param_grid)\n",
    "\n",
    "print(len(param_list))\n"
   ]
  },
  {
   "cell_type": "code",
   "execution_count": null,
   "metadata": {},
   "outputs": [],
   "source": [
    "model = Pipeline(\n",
    "    steps=[\n",
    "        (\"transform\", Transformer()),\n",
    "        (\"model\", LogisticRegression(**params, random_state=42)),\n",
    "    ]\n",
    ")\n",
    "\n",
    "model.fit(train_feature_data, train_target_data)\n"
   ]
  },
  {
   "cell_type": "code",
   "execution_count": null,
   "metadata": {},
   "outputs": [
    {
     "data": {
      "text/plain": [
       "2187"
      ]
     },
     "execution_count": 13,
     "metadata": {},
     "output_type": "execute_result"
    }
   ],
   "source": [
    "243 * 9\n"
   ]
  },
  {
   "cell_type": "code",
   "execution_count": null,
   "metadata": {},
   "outputs": [],
   "source": [
    "ordinal_pipeline_Physical_Activity_Level = Pipeline(\n",
    "    steps=[\n",
    "        (\"1\", OrdinalEncoder(categories=[Physical_Activity_Level] * 5)),\n",
    "        (\"2\", StandardScaler()),\n",
    "    ]\n",
    ")\n",
    "\n",
    "ordinal_pipeline_Smoking_Status_level = Pipeline(\n",
    "    steps=[\n",
    "        (\"1\", OrdinalEncoder(categories=[Smoking_Status_level])),\n",
    "        (\"2\", StandardScaler()),\n",
    "    ]\n",
    ")\n"
   ]
  },
  {
   "cell_type": "code",
   "execution_count": null,
   "metadata": {},
   "outputs": [
    {
     "data": {
      "text/plain": [
       "{'model__C': [1, 2, 3], 'transform__ratio': [1, 2, 3]}"
      ]
     },
     "execution_count": 5,
     "metadata": {},
     "output_type": "execute_result"
    }
   ],
   "source": [
    "a = {\"C\": [1, 2, 3]}\n",
    "\n",
    "b = {\"ratio\": [1, 2, 3]}\n",
    "\n",
    "c = {\"model_C\": [1, 2, 3], \"tranform_ratio\": [1, 2, 3]}\n",
    "\n",
    "\n",
    "a_key = [\"model__\" + item for item in a.keys()]\n",
    "b_key = [\"transform__\" + item for item in b.keys()]\n",
    "\n",
    "c_key = a_key + b_key\n",
    "c_value = list(a.values()) + list(b.values())\n",
    "\n",
    "d = dict(zip(c_key, c_value))\n",
    "\n",
    "d\n"
   ]
  },
  {
   "cell_type": "code",
   "execution_count": null,
   "metadata": {},
   "outputs": [
    {
     "data": {
      "text/plain": [
       "9"
      ]
     },
     "execution_count": 15,
     "metadata": {},
     "output_type": "execute_result"
    }
   ],
   "source": [
    "import math\n",
    "\n",
    "a = [[1, 3, 4], [4, 5, 6]]\n",
    "\n",
    "math.prod(map(len, a))\n"
   ]
  },
  {
   "cell_type": "code",
   "execution_count": null,
   "metadata": {},
   "outputs": [
    {
     "name": "stdout",
     "output_type": "stream",
     "text": [
      "[{'n_estimators': 140, 'max_depth': 5}, {'n_estimators': 90, 'max_depth': 17}, {'n_estimators': 50, 'max_depth': 13}, {'n_estimators': 170, 'max_depth': 18}, {'n_estimators': 180, 'max_depth': 14}, {'n_estimators': 90, 'max_depth': 19}, {'n_estimators': 70, 'max_depth': 17}, {'n_estimators': 160, 'max_depth': 10}, {'n_estimators': 180, 'max_depth': 16}, {'n_estimators': 150, 'max_depth': 16}]\n"
     ]
    }
   ],
   "source": [
    "from sklearn.ensemble import RandomForestClassifier\n",
    "from sklearn.model_selection import ParameterSampler\n",
    "from sklearn.metrics import accuracy_score\n",
    "import numpy as np\n",
    "\n",
    "# Tạo tổ hợp tham số giống RandomizedSearchCV\n",
    "param_grid = {\n",
    "    \"n_estimators\": np.arange(50, 200, 10),  # Ví dụ với khoảng từ 50 đến 200\n",
    "    \"max_depth\": np.arange(5, 20, 1),  # Ví dụ với khoảng từ 5 đến 20\n",
    "}\n",
    "\n",
    "# Số lượng tổ hợp thử nghiệm\n",
    "n_iter = 10  # Giống self.config.N_ITER\n",
    "\n",
    "# Lấy tổ hợp tham số ngẫu nhiên\n",
    "param_list = list(ParameterSampler(param_grid, n_iter=n_iter, random_state=42))\n",
    "\n",
    "print(param_list)\n"
   ]
  },
  {
   "cell_type": "code",
   "execution_count": null,
   "metadata": {},
   "outputs": [
    {
     "data": {
      "application/vnd.plotly.v1+json": {
       "config": {
        "plotlyServerURL": "https://plot.ly"
       },
       "data": [
        {
         "hovertemplate": "x=%{x}<br>y=%{y}<extra></extra>",
         "legendgroup": "",
         "line": {
          "color": "#636efa",
          "dash": "solid"
         },
         "marker": {
          "symbol": "circle"
         },
         "mode": "lines+markers",
         "name": "",
         "orientation": "v",
         "showlegend": false,
         "type": "scatter",
         "x": [
          "a",
          "b",
          "c",
          "d"
         ],
         "xaxis": "x",
         "y": {
          "bdata": "BQYHCA==",
          "dtype": "i1"
         },
         "yaxis": "y"
        }
       ],
       "layout": {
        "legend": {
         "tracegroupgap": 0
        },
        "margin": {
         "t": 60
        },
        "template": {
         "data": {
          "bar": [
           {
            "error_x": {
             "color": "#2a3f5f"
            },
            "error_y": {
             "color": "#2a3f5f"
            },
            "marker": {
             "line": {
              "color": "#E5ECF6",
              "width": 0.5
             },
             "pattern": {
              "fillmode": "overlay",
              "size": 10,
              "solidity": 0.2
             }
            },
            "type": "bar"
           }
          ],
          "barpolar": [
           {
            "marker": {
             "line": {
              "color": "#E5ECF6",
              "width": 0.5
             },
             "pattern": {
              "fillmode": "overlay",
              "size": 10,
              "solidity": 0.2
             }
            },
            "type": "barpolar"
           }
          ],
          "carpet": [
           {
            "aaxis": {
             "endlinecolor": "#2a3f5f",
             "gridcolor": "white",
             "linecolor": "white",
             "minorgridcolor": "white",
             "startlinecolor": "#2a3f5f"
            },
            "baxis": {
             "endlinecolor": "#2a3f5f",
             "gridcolor": "white",
             "linecolor": "white",
             "minorgridcolor": "white",
             "startlinecolor": "#2a3f5f"
            },
            "type": "carpet"
           }
          ],
          "choropleth": [
           {
            "colorbar": {
             "outlinewidth": 0,
             "ticks": ""
            },
            "type": "choropleth"
           }
          ],
          "contour": [
           {
            "colorbar": {
             "outlinewidth": 0,
             "ticks": ""
            },
            "colorscale": [
             [
              0,
              "#0d0887"
             ],
             [
              0.1111111111111111,
              "#46039f"
             ],
             [
              0.2222222222222222,
              "#7201a8"
             ],
             [
              0.3333333333333333,
              "#9c179e"
             ],
             [
              0.4444444444444444,
              "#bd3786"
             ],
             [
              0.5555555555555556,
              "#d8576b"
             ],
             [
              0.6666666666666666,
              "#ed7953"
             ],
             [
              0.7777777777777778,
              "#fb9f3a"
             ],
             [
              0.8888888888888888,
              "#fdca26"
             ],
             [
              1,
              "#f0f921"
             ]
            ],
            "type": "contour"
           }
          ],
          "contourcarpet": [
           {
            "colorbar": {
             "outlinewidth": 0,
             "ticks": ""
            },
            "type": "contourcarpet"
           }
          ],
          "heatmap": [
           {
            "colorbar": {
             "outlinewidth": 0,
             "ticks": ""
            },
            "colorscale": [
             [
              0,
              "#0d0887"
             ],
             [
              0.1111111111111111,
              "#46039f"
             ],
             [
              0.2222222222222222,
              "#7201a8"
             ],
             [
              0.3333333333333333,
              "#9c179e"
             ],
             [
              0.4444444444444444,
              "#bd3786"
             ],
             [
              0.5555555555555556,
              "#d8576b"
             ],
             [
              0.6666666666666666,
              "#ed7953"
             ],
             [
              0.7777777777777778,
              "#fb9f3a"
             ],
             [
              0.8888888888888888,
              "#fdca26"
             ],
             [
              1,
              "#f0f921"
             ]
            ],
            "type": "heatmap"
           }
          ],
          "histogram": [
           {
            "marker": {
             "pattern": {
              "fillmode": "overlay",
              "size": 10,
              "solidity": 0.2
             }
            },
            "type": "histogram"
           }
          ],
          "histogram2d": [
           {
            "colorbar": {
             "outlinewidth": 0,
             "ticks": ""
            },
            "colorscale": [
             [
              0,
              "#0d0887"
             ],
             [
              0.1111111111111111,
              "#46039f"
             ],
             [
              0.2222222222222222,
              "#7201a8"
             ],
             [
              0.3333333333333333,
              "#9c179e"
             ],
             [
              0.4444444444444444,
              "#bd3786"
             ],
             [
              0.5555555555555556,
              "#d8576b"
             ],
             [
              0.6666666666666666,
              "#ed7953"
             ],
             [
              0.7777777777777778,
              "#fb9f3a"
             ],
             [
              0.8888888888888888,
              "#fdca26"
             ],
             [
              1,
              "#f0f921"
             ]
            ],
            "type": "histogram2d"
           }
          ],
          "histogram2dcontour": [
           {
            "colorbar": {
             "outlinewidth": 0,
             "ticks": ""
            },
            "colorscale": [
             [
              0,
              "#0d0887"
             ],
             [
              0.1111111111111111,
              "#46039f"
             ],
             [
              0.2222222222222222,
              "#7201a8"
             ],
             [
              0.3333333333333333,
              "#9c179e"
             ],
             [
              0.4444444444444444,
              "#bd3786"
             ],
             [
              0.5555555555555556,
              "#d8576b"
             ],
             [
              0.6666666666666666,
              "#ed7953"
             ],
             [
              0.7777777777777778,
              "#fb9f3a"
             ],
             [
              0.8888888888888888,
              "#fdca26"
             ],
             [
              1,
              "#f0f921"
             ]
            ],
            "type": "histogram2dcontour"
           }
          ],
          "mesh3d": [
           {
            "colorbar": {
             "outlinewidth": 0,
             "ticks": ""
            },
            "type": "mesh3d"
           }
          ],
          "parcoords": [
           {
            "line": {
             "colorbar": {
              "outlinewidth": 0,
              "ticks": ""
             }
            },
            "type": "parcoords"
           }
          ],
          "pie": [
           {
            "automargin": true,
            "type": "pie"
           }
          ],
          "scatter": [
           {
            "fillpattern": {
             "fillmode": "overlay",
             "size": 10,
             "solidity": 0.2
            },
            "type": "scatter"
           }
          ],
          "scatter3d": [
           {
            "line": {
             "colorbar": {
              "outlinewidth": 0,
              "ticks": ""
             }
            },
            "marker": {
             "colorbar": {
              "outlinewidth": 0,
              "ticks": ""
             }
            },
            "type": "scatter3d"
           }
          ],
          "scattercarpet": [
           {
            "marker": {
             "colorbar": {
              "outlinewidth": 0,
              "ticks": ""
             }
            },
            "type": "scattercarpet"
           }
          ],
          "scattergeo": [
           {
            "marker": {
             "colorbar": {
              "outlinewidth": 0,
              "ticks": ""
             }
            },
            "type": "scattergeo"
           }
          ],
          "scattergl": [
           {
            "marker": {
             "colorbar": {
              "outlinewidth": 0,
              "ticks": ""
             }
            },
            "type": "scattergl"
           }
          ],
          "scattermap": [
           {
            "marker": {
             "colorbar": {
              "outlinewidth": 0,
              "ticks": ""
             }
            },
            "type": "scattermap"
           }
          ],
          "scattermapbox": [
           {
            "marker": {
             "colorbar": {
              "outlinewidth": 0,
              "ticks": ""
             }
            },
            "type": "scattermapbox"
           }
          ],
          "scatterpolar": [
           {
            "marker": {
             "colorbar": {
              "outlinewidth": 0,
              "ticks": ""
             }
            },
            "type": "scatterpolar"
           }
          ],
          "scatterpolargl": [
           {
            "marker": {
             "colorbar": {
              "outlinewidth": 0,
              "ticks": ""
             }
            },
            "type": "scatterpolargl"
           }
          ],
          "scatterternary": [
           {
            "marker": {
             "colorbar": {
              "outlinewidth": 0,
              "ticks": ""
             }
            },
            "type": "scatterternary"
           }
          ],
          "surface": [
           {
            "colorbar": {
             "outlinewidth": 0,
             "ticks": ""
            },
            "colorscale": [
             [
              0,
              "#0d0887"
             ],
             [
              0.1111111111111111,
              "#46039f"
             ],
             [
              0.2222222222222222,
              "#7201a8"
             ],
             [
              0.3333333333333333,
              "#9c179e"
             ],
             [
              0.4444444444444444,
              "#bd3786"
             ],
             [
              0.5555555555555556,
              "#d8576b"
             ],
             [
              0.6666666666666666,
              "#ed7953"
             ],
             [
              0.7777777777777778,
              "#fb9f3a"
             ],
             [
              0.8888888888888888,
              "#fdca26"
             ],
             [
              1,
              "#f0f921"
             ]
            ],
            "type": "surface"
           }
          ],
          "table": [
           {
            "cells": {
             "fill": {
              "color": "#EBF0F8"
             },
             "line": {
              "color": "white"
             }
            },
            "header": {
             "fill": {
              "color": "#C8D4E3"
             },
             "line": {
              "color": "white"
             }
            },
            "type": "table"
           }
          ]
         },
         "layout": {
          "annotationdefaults": {
           "arrowcolor": "#2a3f5f",
           "arrowhead": 0,
           "arrowwidth": 1
          },
          "autotypenumbers": "strict",
          "coloraxis": {
           "colorbar": {
            "outlinewidth": 0,
            "ticks": ""
           }
          },
          "colorscale": {
           "diverging": [
            [
             0,
             "#8e0152"
            ],
            [
             0.1,
             "#c51b7d"
            ],
            [
             0.2,
             "#de77ae"
            ],
            [
             0.3,
             "#f1b6da"
            ],
            [
             0.4,
             "#fde0ef"
            ],
            [
             0.5,
             "#f7f7f7"
            ],
            [
             0.6,
             "#e6f5d0"
            ],
            [
             0.7,
             "#b8e186"
            ],
            [
             0.8,
             "#7fbc41"
            ],
            [
             0.9,
             "#4d9221"
            ],
            [
             1,
             "#276419"
            ]
           ],
           "sequential": [
            [
             0,
             "#0d0887"
            ],
            [
             0.1111111111111111,
             "#46039f"
            ],
            [
             0.2222222222222222,
             "#7201a8"
            ],
            [
             0.3333333333333333,
             "#9c179e"
            ],
            [
             0.4444444444444444,
             "#bd3786"
            ],
            [
             0.5555555555555556,
             "#d8576b"
            ],
            [
             0.6666666666666666,
             "#ed7953"
            ],
            [
             0.7777777777777778,
             "#fb9f3a"
            ],
            [
             0.8888888888888888,
             "#fdca26"
            ],
            [
             1,
             "#f0f921"
            ]
           ],
           "sequentialminus": [
            [
             0,
             "#0d0887"
            ],
            [
             0.1111111111111111,
             "#46039f"
            ],
            [
             0.2222222222222222,
             "#7201a8"
            ],
            [
             0.3333333333333333,
             "#9c179e"
            ],
            [
             0.4444444444444444,
             "#bd3786"
            ],
            [
             0.5555555555555556,
             "#d8576b"
            ],
            [
             0.6666666666666666,
             "#ed7953"
            ],
            [
             0.7777777777777778,
             "#fb9f3a"
            ],
            [
             0.8888888888888888,
             "#fdca26"
            ],
            [
             1,
             "#f0f921"
            ]
           ]
          },
          "colorway": [
           "#636efa",
           "#EF553B",
           "#00cc96",
           "#ab63fa",
           "#FFA15A",
           "#19d3f3",
           "#FF6692",
           "#B6E880",
           "#FF97FF",
           "#FECB52"
          ],
          "font": {
           "color": "#2a3f5f"
          },
          "geo": {
           "bgcolor": "white",
           "lakecolor": "white",
           "landcolor": "#E5ECF6",
           "showlakes": true,
           "showland": true,
           "subunitcolor": "white"
          },
          "hoverlabel": {
           "align": "left"
          },
          "hovermode": "closest",
          "mapbox": {
           "style": "light"
          },
          "paper_bgcolor": "white",
          "plot_bgcolor": "#E5ECF6",
          "polar": {
           "angularaxis": {
            "gridcolor": "white",
            "linecolor": "white",
            "ticks": ""
           },
           "bgcolor": "#E5ECF6",
           "radialaxis": {
            "gridcolor": "white",
            "linecolor": "white",
            "ticks": ""
           }
          },
          "scene": {
           "xaxis": {
            "backgroundcolor": "#E5ECF6",
            "gridcolor": "white",
            "gridwidth": 2,
            "linecolor": "white",
            "showbackground": true,
            "ticks": "",
            "zerolinecolor": "white"
           },
           "yaxis": {
            "backgroundcolor": "#E5ECF6",
            "gridcolor": "white",
            "gridwidth": 2,
            "linecolor": "white",
            "showbackground": true,
            "ticks": "",
            "zerolinecolor": "white"
           },
           "zaxis": {
            "backgroundcolor": "#E5ECF6",
            "gridcolor": "white",
            "gridwidth": 2,
            "linecolor": "white",
            "showbackground": true,
            "ticks": "",
            "zerolinecolor": "white"
           }
          },
          "shapedefaults": {
           "line": {
            "color": "#2a3f5f"
           }
          },
          "ternary": {
           "aaxis": {
            "gridcolor": "white",
            "linecolor": "white",
            "ticks": ""
           },
           "baxis": {
            "gridcolor": "white",
            "linecolor": "white",
            "ticks": ""
           },
           "bgcolor": "#E5ECF6",
           "caxis": {
            "gridcolor": "white",
            "linecolor": "white",
            "ticks": ""
           }
          },
          "title": {
           "x": 0.05
          },
          "xaxis": {
           "automargin": true,
           "gridcolor": "white",
           "linecolor": "white",
           "ticks": "",
           "title": {
            "standoff": 15
           },
           "zerolinecolor": "white",
           "zerolinewidth": 2
          },
          "yaxis": {
           "automargin": true,
           "gridcolor": "white",
           "linecolor": "white",
           "ticks": "",
           "title": {
            "standoff": 15
           },
           "zerolinecolor": "white",
           "zerolinewidth": 2
          }
         }
        },
        "xaxis": {
         "anchor": "y",
         "domain": [
          0,
          1
         ],
         "title": {
          "text": "x"
         }
        },
        "yaxis": {
         "anchor": "x",
         "domain": [
          0,
          1
         ],
         "title": {
          "text": "y"
         }
        }
       }
      }
     },
     "metadata": {},
     "output_type": "display_data"
    }
   ],
   "source": [
    "import plotly.express as px\n",
    "\n",
    "a = [\"a\", \"b\", \"c\", \"d\"]\n",
    "b = [5, 6, 7, 8]\n",
    "\n",
    "fig = px.line(\n",
    "    x=a,\n",
    "    y=b,\n",
    "    markers=True,\n",
    ")\n",
    "fig.show()\n"
   ]
  },
  {
   "cell_type": "code",
   "execution_count": null,
   "metadata": {},
   "outputs": [
    {
     "data": {
      "text/plain": [
       "True"
      ]
     },
     "execution_count": 11,
     "metadata": {},
     "output_type": "execute_result"
    }
   ],
   "source": [
    "import plotly.express as px\n",
    "\n",
    "a = [f\"a_{item}\" for item in range(1, 40 + 1, 1)]\n",
    "b = [5, 6, 7, 8] * 10\n",
    "\n",
    "fig = px.line(\n",
    "    x=a,\n",
    "    y=b,\n",
    "    markers=True,\n",
    ")\n",
    "\n",
    "# Lưu dưới dạng file HTML (giữ tooltip, zoom, pan)\n",
    "fig.write_html(\"interactive_plot.html\")\n",
    "\n",
    "# Nếu muốn mở file ngay sau khi lưu:\n",
    "import webbrowser\n",
    "\n",
    "webbrowser.open(\"interactive_plot.html\")\n"
   ]
  },
  {
   "cell_type": "code",
   "execution_count": null,
   "metadata": {},
   "outputs": [
    {
     "data": {
      "text/plain": [
       "True"
      ]
     },
     "execution_count": 13,
     "metadata": {},
     "output_type": "execute_result"
    }
   ],
   "source": [
    "import plotly.express as px\n",
    "\n",
    "a = [f\"a_{item}\" for item in range(1, 4 + 1, 1)]\n",
    "b = [5, 6, 7, 8]\n",
    "\n",
    "fig = px.line(\n",
    "    x=a,\n",
    "    y=b,\n",
    "    markers=True,\n",
    ")\n",
    "\n",
    "# Thêm annotation (text) vào phía trên biểu đồ\n",
    "fig.add_annotation(\n",
    "    text=\"Thông tin tùy ý ở đây!\",\n",
    "    xref=\"paper\",\n",
    "    yref=\"paper\",\n",
    "    x=0.05,\n",
    "    y=1.15,  # Điều chỉnh vị trí theo tỷ lệ của biểu đồ\n",
    "    showarrow=False,\n",
    "    font=dict(size=16, color=\"red\"),\n",
    "    bgcolor=\"white\",\n",
    ")\n",
    "\n",
    "# Lưu dưới dạng file HTML (giữ tooltip, zoom, pan)\n",
    "fig.write_html(\"interactive_plot.html\")\n",
    "\n",
    "# Nếu muốn mở file ngay sau khi lưu:\n",
    "import webbrowser\n",
    "\n",
    "webbrowser.open(\"interactive_plot.html\")\n"
   ]
  },
  {
   "cell_type": "code",
   "execution_count": null,
   "metadata": {},
   "outputs": [
    {
     "data": {
      "text/plain": [
       "True"
      ]
     },
     "execution_count": 45,
     "metadata": {},
     "output_type": "execute_result"
    }
   ],
   "source": [
    "import plotly.express as px\n",
    "import pandas as pd\n",
    "\n",
    "# Tạo dữ liệu với nhiều điểm trên trục X\n",
    "a = [f\"a_{item}\" for item in range(1, 40 + 1, 1)]\n",
    "b = [9, 6, 7, 8] * 10\n",
    "\n",
    "df = pd.DataFrame({\"x\": a, \"y\": b})\n",
    "\n",
    "# Tạo biểu đồ line\n",
    "fig = px.line(\n",
    "    df,\n",
    "    x=\"x\",\n",
    "    y=\"y\",\n",
    "    markers=True,\n",
    "    hover_data={\"x\": False},  # Ẩn giá trị x trong tooltip, chỉ hiển thị y\n",
    ")\n",
    "\n",
    "# Thiết lập thanh cuộn (scroll bar) trên trục X & cố định khoảng cách giữa các điểm\n",
    "fig.update_layout(\n",
    "    xaxis=dict(\n",
    "        range=[0, 10],  # 👈 Giới hạn phạm vi hiển thị ban đầu (10 điểm đầu tiên)\n",
    "        rangeslider=dict(visible=True),  # 👈 Hiển thị thanh cuộn (scroll bar)\n",
    "        tickmode=\"linear\",  # 👈 Giữ khoảng cách cố định giữa các điểm\n",
    "    ),\n",
    "    yaxis=dict(\n",
    "        range=[0, 10],  # Cố định phạm vi trục y\n",
    "        dtick=0.5,  # Đặt bước chia nhỏ nhất là 0.5\n",
    "    ),\n",
    "    width=1200,  # 👈 Đặt chiều rộng cố định để không bị co lại\n",
    ")\n",
    "\n",
    "# Lưu dưới dạng file HTML (giữ tooltip, zoom, pan)\n",
    "fig.write_html(\"interactive_plot.html\")\n",
    "\n",
    "# Nếu muốn mở file ngay sau khi lưu:\n",
    "import webbrowser\n",
    "\n",
    "webbrowser.open(\"interactive_plot.html\")\n"
   ]
  },
  {
   "cell_type": "code",
   "execution_count": null,
   "metadata": {},
   "outputs": [
    {
     "name": "stdout",
     "output_type": "stream",
     "text": [
      "{'n_estimators': array([ 50,  60,  70,  80,  90, 100, 110, 120, 130, 140, 150, 160, 170,\n",
      "       180, 190]), 'max_depth': array([ 5,  6,  7,  8,  9, 10, 11, 12, 13, 14, 15, 16, 17, 18, 19])}\n"
     ]
    }
   ],
   "source": [
    "print(param_grid)\n"
   ]
  }
 ],
 "metadata": {
  "kernelspec": {
   "display_name": "ml_venv",
   "language": "python",
   "name": "python3"
  },
  "language_info": {
   "codemirror_mode": {
    "name": "ipython",
    "version": 3
   },
   "file_extension": ".py",
   "mimetype": "text/x-python",
   "name": "python",
   "nbconvert_exporter": "python",
   "pygments_lexer": "ipython3",
   "version": "3.9.18"
  }
 },
 "nbformat": 4,
 "nbformat_minor": 2
}
